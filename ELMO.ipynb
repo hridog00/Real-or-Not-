{
  "nbformat": 4,
  "nbformat_minor": 0,
  "metadata": {
    "colab": {
      "name": "ELMO.ipynb",
      "provenance": [],
      "mount_file_id": "1Wc5yzK3IcKejMkLeknPa3OwdHvCRsip3",
      "authorship_tag": "ABX9TyNSnQiS+grMFnK6Thlr5eXS",
      "include_colab_link": true
    },
    "kernelspec": {
      "name": "python3",
      "display_name": "Python 3"
    },
    "accelerator": "GPU"
  },
  "cells": [
    {
      "cell_type": "markdown",
      "metadata": {
        "id": "view-in-github",
        "colab_type": "text"
      },
      "source": [
        "<a href=\"https://colab.research.google.com/github/hridog00/RealOrNot/blob/master/ELMO.ipynb\" target=\"_parent\"><img src=\"https://colab.research.google.com/assets/colab-badge.svg\" alt=\"Open In Colab\"/></a>"
      ]
    },
    {
      "cell_type": "code",
      "metadata": {
        "id": "v45jXBdJB1YQ",
        "colab_type": "code",
        "outputId": "489ba298-2c23-440b-f820-b34182cba2b4",
        "colab": {
          "base_uri": "https://localhost:8080/",
          "height": 35
        }
      },
      "source": [
        "%tensorflow_version 1.x"
      ],
      "execution_count": 1,
      "outputs": [
        {
          "output_type": "stream",
          "text": [
            "TensorFlow 1.x selected.\n"
          ],
          "name": "stdout"
        }
      ]
    },
    {
      "cell_type": "code",
      "metadata": {
        "id": "viZbYz-aA03d",
        "colab_type": "code",
        "outputId": "7b957bfd-0023-4028-c64e-4ed3ddd012da",
        "colab": {
          "base_uri": "https://localhost:8080/",
          "height": 109
        }
      },
      "source": [
        "#! pip install \"tensorflow>=1.15,<2.0\"\n",
        "! pip install --upgrade tensorflow-hub"
      ],
      "execution_count": 2,
      "outputs": [
        {
          "output_type": "stream",
          "text": [
            "Requirement already up-to-date: tensorflow-hub in /usr/local/lib/python3.6/dist-packages (0.8.0)\n",
            "Requirement already satisfied, skipping upgrade: six>=1.12.0 in /usr/local/lib/python3.6/dist-packages (from tensorflow-hub) (1.12.0)\n",
            "Requirement already satisfied, skipping upgrade: protobuf>=3.8.0 in /usr/local/lib/python3.6/dist-packages (from tensorflow-hub) (3.10.0)\n",
            "Requirement already satisfied, skipping upgrade: numpy>=1.12.0 in /usr/local/lib/python3.6/dist-packages (from tensorflow-hub) (1.18.4)\n",
            "Requirement already satisfied, skipping upgrade: setuptools in /usr/local/lib/python3.6/dist-packages (from protobuf>=3.8.0->tensorflow-hub) (47.1.1)\n"
          ],
          "name": "stdout"
        }
      ]
    },
    {
      "cell_type": "code",
      "metadata": {
        "id": "pUu7OE2Dxx8F",
        "colab_type": "code",
        "outputId": "ba30d53d-4ee2-44a3-dfaf-5439b3d598ae",
        "colab": {
          "base_uri": "https://localhost:8080/",
          "height": 35
        }
      },
      "source": [
        "import tensorflow_hub as hub\n",
        "import tensorflow as tf\n",
        "from tensorflow.keras.models import Sequential, Model\n",
        "from tensorflow.keras.layers import Dense, Dropout,Input, Lambda\n",
        "from tensorflow.keras import regularizers, callbacks, optimizers\n",
        "from tensorflow.keras.optimizers import Adam\n",
        "\n",
        "import pandas as pd\n",
        "from keras.utils import to_categorical\n",
        "import keras.backend as K\n",
        "from sklearn.model_selection import train_test_split\n",
        "from tensorflow.keras.utils import to_categorical"
      ],
      "execution_count": 3,
      "outputs": [
        {
          "output_type": "stream",
          "text": [
            "Using TensorFlow backend.\n"
          ],
          "name": "stderr"
        }
      ]
    },
    {
      "cell_type": "code",
      "metadata": {
        "id": "8eGIBs-D0vnN",
        "colab_type": "code",
        "colab": {}
      },
      "source": [
        "BASE_FOLDER = \"/content/drive/My Drive/TFM/\"\n"
      ],
      "execution_count": 0,
      "outputs": []
    },
    {
      "cell_type": "code",
      "metadata": {
        "id": "tyl4w5vc0zdz",
        "colab_type": "code",
        "colab": {}
      },
      "source": [
        "train_df = pd.read_csv(BASE_FOLDER+\"/resources/data/cleaned.csv\")"
      ],
      "execution_count": 0,
      "outputs": []
    },
    {
      "cell_type": "code",
      "metadata": {
        "id": "jfcwVmTs9hhb",
        "colab_type": "code",
        "colab": {}
      },
      "source": [
        "data = train_df[['cleaned_text', 'target', 'text']]\n",
        "data = data.dropna()"
      ],
      "execution_count": 0,
      "outputs": []
    },
    {
      "cell_type": "code",
      "metadata": {
        "id": "7YGKyWr109Vi",
        "colab_type": "code",
        "colab": {}
      },
      "source": [
        "X = data['cleaned_text']\n",
        "y = to_categorical(data['target'].values)"
      ],
      "execution_count": 0,
      "outputs": []
    },
    {
      "cell_type": "code",
      "metadata": {
        "id": "GNgkV-jY1KFx",
        "colab_type": "code",
        "colab": {}
      },
      "source": [
        "X_train, X_test, y_train, y_test = train_test_split(X, y, test_size=0.33, random_state=42)"
      ],
      "execution_count": 0,
      "outputs": []
    },
    {
      "cell_type": "markdown",
      "metadata": {
        "id": "W6ctjq_TJsss",
        "colab_type": "text"
      },
      "source": [
        "## ELMO"
      ]
    },
    {
      "cell_type": "code",
      "metadata": {
        "id": "Jy1jhDvFxR0-",
        "colab_type": "code",
        "colab": {}
      },
      "source": [
        "embed = hub.Module(\"https://tfhub.dev/google/elmo/3\", trainable=False)\n",
        "def ELMoEmbedding(x):\n",
        "    return embed(tf.squeeze(tf.cast(x, tf.string)), signature=\"default\", as_dict=True)[\"default\"]"
      ],
      "execution_count": 0,
      "outputs": []
    },
    {
      "cell_type": "code",
      "metadata": {
        "id": "Ew0W8t7yxgjJ",
        "colab_type": "code",
        "outputId": "19971b1c-1086-4563-fadb-8b74fe63856c",
        "colab": {
          "base_uri": "https://localhost:8080/",
          "height": 54
        }
      },
      "source": [
        "\n",
        "\n",
        "def build_model(): \n",
        "    input_text = Input(shape=(1,), dtype=\"string\")\n",
        "    embedding = Lambda(ELMoEmbedding, output_shape=(1024, ))(input_text)\n",
        "    dense = Dense(64, activation='relu', kernel_regularizer=regularizers.l2(0.005))(embedding)\n",
        "    dense = Dropout(0.3)(dense)\n",
        "    dense = Dense(32, activation='relu', kernel_regularizer=regularizers.l2(0.005))(dense)\n",
        "    dense = Dropout(0.3)(dense)\n",
        "    dense = Dense(16, activation='relu', kernel_regularizer=regularizers.l2(0.005))(dense)\n",
        "    dense = Dropout(0.3)(dense)\n",
        "    \n",
        "    dense = Dense(8, activation='relu', kernel_regularizer=regularizers.l2(0.005))(dense)\n",
        "    dense = Dropout(0.3)(dense)\n",
        "\n",
        "    pred = Dense(2, activation='softmax')(dense)\n",
        "    model = Model(inputs=[input_text], outputs=pred)\n",
        "    model.compile(loss='binary_crossentropy', optimizer=Adam(0.0001), metrics=['accuracy'])\n",
        "    return model\n",
        "model_elmo = build_model()"
      ],
      "execution_count": 11,
      "outputs": [
        {
          "output_type": "stream",
          "text": [
            "INFO:tensorflow:Saver not created because there are no variables in the graph to restore\n"
          ],
          "name": "stdout"
        },
        {
          "output_type": "stream",
          "text": [
            "INFO:tensorflow:Saver not created because there are no variables in the graph to restore\n"
          ],
          "name": "stderr"
        }
      ]
    },
    {
      "cell_type": "code",
      "metadata": {
        "id": "vzdK2UA2yJ9k",
        "colab_type": "code",
        "colab": {}
      },
      "source": [
        ""
      ],
      "execution_count": 0,
      "outputs": []
    },
    {
      "cell_type": "code",
      "metadata": {
        "id": "AgNuU41l2GEq",
        "colab_type": "code",
        "outputId": "761d275e-9a6d-45db-d112-82d0433d3013",
        "colab": {
          "base_uri": "https://localhost:8080/",
          "height": 1000
        }
      },
      "source": [
        "with tf.Session() as session:\n",
        "    K.set_session(session)\n",
        "    session.run(tf.global_variables_initializer())  \n",
        "    session.run(tf.tables_initializer())\n",
        "    history = model_elmo.fit(X_train, y_train, epochs=50, batch_size=256, validation_split = 0.2)\n",
        "    model_elmo.save_weights(BASE_FOLDER+'resources/weights/model_elmo_weights.h5')"
      ],
      "execution_count": 12,
      "outputs": [
        {
          "output_type": "stream",
          "text": [
            "WARNING:tensorflow:From /tensorflow-1.15.2/python3.6/tensorflow_core/python/ops/math_grad.py:1424: where (from tensorflow.python.ops.array_ops) is deprecated and will be removed in a future version.\n",
            "Instructions for updating:\n",
            "Use tf.where in 2.0, which has the same broadcast rule as np.where\n"
          ],
          "name": "stdout"
        },
        {
          "output_type": "stream",
          "text": [
            "WARNING:tensorflow:From /tensorflow-1.15.2/python3.6/tensorflow_core/python/ops/math_grad.py:1424: where (from tensorflow.python.ops.array_ops) is deprecated and will be removed in a future version.\n",
            "Instructions for updating:\n",
            "Use tf.where in 2.0, which has the same broadcast rule as np.where\n"
          ],
          "name": "stderr"
        },
        {
          "output_type": "stream",
          "text": [
            "Train on 3999 samples, validate on 1000 samples\n",
            "Epoch 1/50\n",
            "3999/3999 [==============================] - 27s 7ms/sample - loss: 1.7302 - acc: 0.4312 - val_loss: 1.6546 - val_acc: 0.4420\n",
            "Epoch 2/50\n",
            "3999/3999 [==============================] - 18s 4ms/sample - loss: 1.6752 - acc: 0.4304 - val_loss: 1.6308 - val_acc: 0.4420\n",
            "Epoch 3/50\n",
            "3999/3999 [==============================] - 18s 4ms/sample - loss: 1.6373 - acc: 0.4369 - val_loss: 1.6076 - val_acc: 0.4410\n",
            "Epoch 4/50\n",
            "3999/3999 [==============================] - 17s 4ms/sample - loss: 1.6123 - acc: 0.4394 - val_loss: 1.5844 - val_acc: 0.4460\n",
            "Epoch 5/50\n",
            "3999/3999 [==============================] - 18s 4ms/sample - loss: 1.5859 - acc: 0.4481 - val_loss: 1.5615 - val_acc: 0.4630\n",
            "Epoch 6/50\n",
            "3999/3999 [==============================] - 18s 4ms/sample - loss: 1.5587 - acc: 0.4656 - val_loss: 1.5365 - val_acc: 0.4960\n",
            "Epoch 7/50\n",
            "3999/3999 [==============================] - 17s 4ms/sample - loss: 1.5338 - acc: 0.4776 - val_loss: 1.5121 - val_acc: 0.5370\n",
            "Epoch 8/50\n",
            "3999/3999 [==============================] - 17s 4ms/sample - loss: 1.5079 - acc: 0.4986 - val_loss: 1.4881 - val_acc: 0.5820\n",
            "Epoch 9/50\n",
            "3999/3999 [==============================] - 17s 4ms/sample - loss: 1.4856 - acc: 0.5169 - val_loss: 1.4647 - val_acc: 0.6130\n",
            "Epoch 10/50\n",
            "3999/3999 [==============================] - 17s 4ms/sample - loss: 1.4609 - acc: 0.5496 - val_loss: 1.4420 - val_acc: 0.6500\n",
            "Epoch 11/50\n",
            "3999/3999 [==============================] - 17s 4ms/sample - loss: 1.4379 - acc: 0.5884 - val_loss: 1.4189 - val_acc: 0.6680\n",
            "Epoch 12/50\n",
            "3999/3999 [==============================] - 17s 4ms/sample - loss: 1.4125 - acc: 0.6197 - val_loss: 1.3960 - val_acc: 0.6860\n",
            "Epoch 13/50\n",
            "3999/3999 [==============================] - 17s 4ms/sample - loss: 1.3943 - acc: 0.6347 - val_loss: 1.3752 - val_acc: 0.7250\n",
            "Epoch 14/50\n",
            "3999/3999 [==============================] - 17s 4ms/sample - loss: 1.3661 - acc: 0.6667 - val_loss: 1.3513 - val_acc: 0.7170\n",
            "Epoch 15/50\n",
            "3999/3999 [==============================] - 17s 4ms/sample - loss: 1.3501 - acc: 0.6727 - val_loss: 1.3311 - val_acc: 0.7270\n",
            "Epoch 16/50\n",
            "3999/3999 [==============================] - 17s 4ms/sample - loss: 1.3277 - acc: 0.7057 - val_loss: 1.3093 - val_acc: 0.7360\n",
            "Epoch 17/50\n",
            "3999/3999 [==============================] - 17s 4ms/sample - loss: 1.3105 - acc: 0.7099 - val_loss: 1.2905 - val_acc: 0.7400\n",
            "Epoch 18/50\n",
            "3999/3999 [==============================] - 17s 4ms/sample - loss: 1.2873 - acc: 0.7229 - val_loss: 1.2694 - val_acc: 0.7410\n",
            "Epoch 19/50\n",
            "3999/3999 [==============================] - 17s 4ms/sample - loss: 1.2671 - acc: 0.7417 - val_loss: 1.2506 - val_acc: 0.7470\n",
            "Epoch 20/50\n",
            "3999/3999 [==============================] - 17s 4ms/sample - loss: 1.2493 - acc: 0.7352 - val_loss: 1.2322 - val_acc: 0.7550\n",
            "Epoch 21/50\n",
            "3999/3999 [==============================] - 17s 4ms/sample - loss: 1.2275 - acc: 0.7569 - val_loss: 1.2138 - val_acc: 0.7570\n",
            "Epoch 22/50\n",
            "3999/3999 [==============================] - 17s 4ms/sample - loss: 1.2111 - acc: 0.7539 - val_loss: 1.1981 - val_acc: 0.7600\n",
            "Epoch 23/50\n",
            "3999/3999 [==============================] - 17s 4ms/sample - loss: 1.1970 - acc: 0.7587 - val_loss: 1.1799 - val_acc: 0.7570\n",
            "Epoch 24/50\n",
            "3999/3999 [==============================] - 17s 4ms/sample - loss: 1.1773 - acc: 0.7567 - val_loss: 1.1630 - val_acc: 0.7590\n",
            "Epoch 25/50\n",
            "3999/3999 [==============================] - 17s 4ms/sample - loss: 1.1597 - acc: 0.7699 - val_loss: 1.1497 - val_acc: 0.7630\n",
            "Epoch 26/50\n",
            "3999/3999 [==============================] - 17s 4ms/sample - loss: 1.1481 - acc: 0.7737 - val_loss: 1.1330 - val_acc: 0.7610\n",
            "Epoch 27/50\n",
            "3999/3999 [==============================] - 17s 4ms/sample - loss: 1.1287 - acc: 0.7697 - val_loss: 1.1178 - val_acc: 0.7650\n",
            "Epoch 28/50\n",
            "3999/3999 [==============================] - 17s 4ms/sample - loss: 1.1138 - acc: 0.7754 - val_loss: 1.1036 - val_acc: 0.7670\n",
            "Epoch 29/50\n",
            "3999/3999 [==============================] - 17s 4ms/sample - loss: 1.1039 - acc: 0.7802 - val_loss: 1.0894 - val_acc: 0.7720\n",
            "Epoch 30/50\n",
            "3999/3999 [==============================] - 17s 4ms/sample - loss: 1.0881 - acc: 0.7902 - val_loss: 1.0763 - val_acc: 0.7650\n",
            "Epoch 31/50\n",
            "3999/3999 [==============================] - 17s 4ms/sample - loss: 1.0717 - acc: 0.7759 - val_loss: 1.0623 - val_acc: 0.7720\n",
            "Epoch 32/50\n",
            "3999/3999 [==============================] - 17s 4ms/sample - loss: 1.0609 - acc: 0.7772 - val_loss: 1.0501 - val_acc: 0.7660\n",
            "Epoch 33/50\n",
            "3999/3999 [==============================] - 17s 4ms/sample - loss: 1.0425 - acc: 0.7819 - val_loss: 1.0372 - val_acc: 0.7700\n",
            "Epoch 34/50\n",
            "3999/3999 [==============================] - 17s 4ms/sample - loss: 1.0346 - acc: 0.7799 - val_loss: 1.0264 - val_acc: 0.7640\n",
            "Epoch 35/50\n",
            "3999/3999 [==============================] - 17s 4ms/sample - loss: 1.0220 - acc: 0.7832 - val_loss: 1.0146 - val_acc: 0.7660\n",
            "Epoch 36/50\n",
            "3999/3999 [==============================] - 17s 4ms/sample - loss: 1.0073 - acc: 0.7907 - val_loss: 1.0023 - val_acc: 0.7670\n",
            "Epoch 37/50\n",
            "3999/3999 [==============================] - 17s 4ms/sample - loss: 0.9947 - acc: 0.7952 - val_loss: 0.9915 - val_acc: 0.7710\n",
            "Epoch 38/50\n",
            "3999/3999 [==============================] - 17s 4ms/sample - loss: 0.9837 - acc: 0.7924 - val_loss: 0.9808 - val_acc: 0.7670\n",
            "Epoch 39/50\n",
            "3999/3999 [==============================] - 17s 4ms/sample - loss: 0.9746 - acc: 0.7919 - val_loss: 0.9694 - val_acc: 0.7740\n",
            "Epoch 40/50\n",
            "3999/3999 [==============================] - 17s 4ms/sample - loss: 0.9562 - acc: 0.7962 - val_loss: 0.9597 - val_acc: 0.7700\n",
            "Epoch 41/50\n",
            "3999/3999 [==============================] - 17s 4ms/sample - loss: 0.9480 - acc: 0.8015 - val_loss: 0.9492 - val_acc: 0.7740\n",
            "Epoch 42/50\n",
            "3999/3999 [==============================] - 17s 4ms/sample - loss: 0.9438 - acc: 0.8002 - val_loss: 0.9414 - val_acc: 0.7680\n",
            "Epoch 43/50\n",
            "3999/3999 [==============================] - 17s 4ms/sample - loss: 0.9303 - acc: 0.8017 - val_loss: 0.9321 - val_acc: 0.7670\n",
            "Epoch 44/50\n",
            "3999/3999 [==============================] - 17s 4ms/sample - loss: 0.9185 - acc: 0.8032 - val_loss: 0.9226 - val_acc: 0.7710\n",
            "Epoch 45/50\n",
            "3999/3999 [==============================] - 17s 4ms/sample - loss: 0.9068 - acc: 0.8012 - val_loss: 0.9134 - val_acc: 0.7760\n",
            "Epoch 46/50\n",
            "3999/3999 [==============================] - 17s 4ms/sample - loss: 0.9013 - acc: 0.8015 - val_loss: 0.9052 - val_acc: 0.7740\n",
            "Epoch 47/50\n",
            "3999/3999 [==============================] - 17s 4ms/sample - loss: 0.8940 - acc: 0.8087 - val_loss: 0.8963 - val_acc: 0.7740\n",
            "Epoch 48/50\n",
            "3999/3999 [==============================] - 17s 4ms/sample - loss: 0.8845 - acc: 0.8050 - val_loss: 0.8901 - val_acc: 0.7660\n",
            "Epoch 49/50\n",
            "3999/3999 [==============================] - 17s 4ms/sample - loss: 0.8757 - acc: 0.8087 - val_loss: 0.8807 - val_acc: 0.7750\n",
            "Epoch 50/50\n",
            "3999/3999 [==============================] - 17s 4ms/sample - loss: 0.8630 - acc: 0.8120 - val_loss: 0.8734 - val_acc: 0.7760\n"
          ],
          "name": "stdout"
        }
      ]
    },
    {
      "cell_type": "code",
      "metadata": {
        "id": "p8gofoMo31h4",
        "colab_type": "code",
        "outputId": "4968abfc-4a71-4b75-e236-8921bf523663",
        "colab": {
          "base_uri": "https://localhost:8080/",
          "height": 295
        }
      },
      "source": [
        "import matplotlib.pyplot as plt\n",
        "%matplotlib inline\n",
        "\n",
        "acc = history.history['acc']\n",
        "val_acc = history.history['val_acc']\n",
        "loss = history.history['loss']\n",
        "val_loss = history.history['val_loss']\n",
        "\n",
        "epochs = range(1, len(acc) + 1)\n",
        "\n",
        "plt.plot(epochs, acc, 'g', label='Training Acc')\n",
        "plt.plot(epochs, val_acc, 'b', label='Validation Acc')\n",
        "plt.title('Training and validation Acc')\n",
        "plt.xlabel('Epochs')\n",
        "plt.ylabel('Acc')\n",
        "plt.legend()\n",
        "\n",
        "plt.show()"
      ],
      "execution_count": 13,
      "outputs": [
        {
          "output_type": "display_data",
          "data": {
            "image/png": "[encoded data removed]",
            "text/plain": [
              "<Figure size 432x288 with 1 Axes>"
            ]
          },
          "metadata": {
            "tags": [],
            "needs_background": "light"
          }
        }
      ]
    },
    {
      "cell_type": "code",
      "metadata": {
        "id": "G5B5HNaxHkw0",
        "colab_type": "code",
        "outputId": "576249ec-f9a1-48df-9a29-630b26e01e05",
        "colab": {
          "base_uri": "https://localhost:8080/",
          "height": 295
        }
      },
      "source": [
        "epochs = range(1, len(acc) + 1)\n",
        "\n",
        "plt.plot(epochs, loss, 'g', label='Training Loss')\n",
        "plt.plot(epochs, val_loss, 'b', label='Validation Loss')\n",
        "plt.title('Training and validation Loss')\n",
        "plt.xlabel('Epochs')\n",
        "plt.ylabel('Loss')\n",
        "plt.legend()\n",
        "\n",
        "plt.show()"
      ],
      "execution_count": 14,
      "outputs": [
        {
          "output_type": "display_data",
          "data": {
            "image/png": "[encoded data removed]",
            "text/plain": [
              "<Figure size 432x288 with 1 Axes>"
            ]
          },
          "metadata": {
            "tags": [],
            "needs_background": "light"
          }
        }
      ]
    },
    {
      "cell_type": "code",
      "metadata": {
        "id": "wR1ozcM5FDEY",
        "colab_type": "code",
        "outputId": "c987aba4-0b09-422a-8e2d-240f18384ecf",
        "colab": {
          "base_uri": "https://localhost:8080/",
          "height": 109
        }
      },
      "source": [
        "with tf.Session() as session:\n",
        "    K.set_session(session)\n",
        "    session.run(tf.global_variables_initializer())  \n",
        "    session.run(tf.tables_initializer())\n",
        "    model_elmo = build_model() \n",
        "    model_elmo.load_weights(BASE_FOLDER+'resources/weights/model_elmo_weights.h5')\n",
        "    import time\n",
        "    t = time.time()\n",
        "    results = model_elmo.evaluate(X_test, y_test)\n",
        "    print(\"time: \", time.time() - t)\n",
        "    print(results)"
      ],
      "execution_count": 0,
      "outputs": [
        {
          "output_type": "stream",
          "text": [
            "INFO:tensorflow:Saver not created because there are no variables in the graph to restore\n"
          ],
          "name": "stdout"
        },
        {
          "output_type": "stream",
          "text": [
            "INFO:tensorflow:Saver not created because there are no variables in the graph to restore\n"
          ],
          "name": "stderr"
        },
        {
          "output_type": "stream",
          "text": [
            "2463/2463 [==============================] - 5s 2ms/sample - loss: 0.7036 - acc: 0.7840\n",
            "time:  6.002433776855469\n",
            "[0.7035989327204213, 0.78400326]\n"
          ],
          "name": "stdout"
        }
      ]
    }
  ]
}
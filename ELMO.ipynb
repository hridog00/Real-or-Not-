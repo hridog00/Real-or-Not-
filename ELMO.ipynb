{
  "nbformat": 4,
  "nbformat_minor": 0,
  "metadata": {
    "colab": {
      "name": "ELMO.ipynb",
      "provenance": [],
      "mount_file_id": "1Wc5yzK3IcKejMkLeknPa3OwdHvCRsip3",
      "authorship_tag": "ABX9TyPjE9QGEEg4sHGTPkiy4kaw",
      "include_colab_link": true
    },
    "kernelspec": {
      "name": "python3",
      "display_name": "Python 3"
    },
    "accelerator": "GPU"
  },
  "cells": [
    {
      "cell_type": "markdown",
      "metadata": {
        "id": "view-in-github",
        "colab_type": "text"
      },
      "source": [
        "<a href=\"https://colab.research.google.com/github/hridog00/RealOrNot/blob/master/ELMO.ipynb\" target=\"_parent\"><img src=\"https://colab.research.google.com/assets/colab-badge.svg\" alt=\"Open In Colab\"/></a>"
      ]
    },
    {
      "cell_type": "code",
      "metadata": {
        "id": "v45jXBdJB1YQ",
        "colab_type": "code",
        "outputId": "71ed0e14-71f2-45d0-8f30-a65cd38168a5",
        "colab": {
          "base_uri": "https://localhost:8080/",
          "height": 35
        }
      },
      "source": [
        "%tensorflow_version 1.x"
      ],
      "execution_count": 0,
      "outputs": [
        {
          "output_type": "stream",
          "text": [
            "TensorFlow 1.x selected.\n"
          ],
          "name": "stdout"
        }
      ]
    },
    {
      "cell_type": "code",
      "metadata": {
        "id": "viZbYz-aA03d",
        "colab_type": "code",
        "outputId": "dfd003e8-3065-4bb5-e093-0192682fe604",
        "colab": {
          "base_uri": "https://localhost:8080/",
          "height": 109
        }
      },
      "source": [
        "#! pip install \"tensorflow>=1.15,<2.0\"\n",
        "! pip install --upgrade tensorflow-hub"
      ],
      "execution_count": 0,
      "outputs": [
        {
          "output_type": "stream",
          "text": [
            "Requirement already up-to-date: tensorflow-hub in /usr/local/lib/python3.6/dist-packages (0.8.0)\n",
            "Requirement already satisfied, skipping upgrade: protobuf>=3.8.0 in /usr/local/lib/python3.6/dist-packages (from tensorflow-hub) (3.10.0)\n",
            "Requirement already satisfied, skipping upgrade: numpy>=1.12.0 in /usr/local/lib/python3.6/dist-packages (from tensorflow-hub) (1.18.4)\n",
            "Requirement already satisfied, skipping upgrade: six>=1.12.0 in /usr/local/lib/python3.6/dist-packages (from tensorflow-hub) (1.12.0)\n",
            "Requirement already satisfied, skipping upgrade: setuptools in /usr/local/lib/python3.6/dist-packages (from protobuf>=3.8.0->tensorflow-hub) (47.1.1)\n"
          ],
          "name": "stdout"
        }
      ]
    },
    {
      "cell_type": "code",
      "metadata": {
        "id": "pUu7OE2Dxx8F",
        "colab_type": "code",
        "outputId": "99ff1f97-71e8-4baa-ea0f-f455a78d02fd",
        "colab": {
          "base_uri": "https://localhost:8080/",
          "height": 35
        }
      },
      "source": [
        "import tensorflow_hub as hub\n",
        "import tensorflow as tf\n",
        "from tensorflow.keras.models import Sequential, Model\n",
        "from tensorflow.keras.layers import Dense, Dropout,Input, Lambda\n",
        "from tensorflow.keras import regularizers, callbacks, optimizers\n",
        "from tensorflow.keras.optimizers import Adam\n",
        "\n",
        "import pandas as pd\n",
        "from keras.utils import to_categorical\n",
        "import keras.backend as K\n",
        "from sklearn.model_selection import train_test_split\n",
        "from tensorflow.keras.utils import to_categorical"
      ],
      "execution_count": 0,
      "outputs": [
        {
          "output_type": "stream",
          "text": [
            "Using TensorFlow backend.\n"
          ],
          "name": "stderr"
        }
      ]
    },
    {
      "cell_type": "code",
      "metadata": {
        "id": "8eGIBs-D0vnN",
        "colab_type": "code",
        "colab": {}
      },
      "source": [
        "BASE_FOLDER = \"/content/drive/My Drive/TFM/\"\n"
      ],
      "execution_count": 0,
      "outputs": []
    },
    {
      "cell_type": "code",
      "metadata": {
        "id": "tyl4w5vc0zdz",
        "colab_type": "code",
        "colab": {}
      },
      "source": [
        "train_df = pd.read_csv(BASE_FOLDER+\"/resources/data/cleaned.csv\")"
      ],
      "execution_count": 0,
      "outputs": []
    },
    {
      "cell_type": "code",
      "metadata": {
        "id": "jfcwVmTs9hhb",
        "colab_type": "code",
        "colab": {}
      },
      "source": [
        "data = train_df[['cleaned_text', 'target', 'text']]\n",
        "data = data.dropna()"
      ],
      "execution_count": 0,
      "outputs": []
    },
    {
      "cell_type": "code",
      "metadata": {
        "id": "7YGKyWr109Vi",
        "colab_type": "code",
        "colab": {}
      },
      "source": [
        "X = data['cleaned_text']\n",
        "y = to_categorical(data['target'].values)"
      ],
      "execution_count": 0,
      "outputs": []
    },
    {
      "cell_type": "code",
      "metadata": {
        "id": "GNgkV-jY1KFx",
        "colab_type": "code",
        "colab": {}
      },
      "source": [
        "X_train, X_test, y_train, y_test = train_test_split(X, y, test_size=0.33, random_state=42)"
      ],
      "execution_count": 0,
      "outputs": []
    },
    {
      "cell_type": "markdown",
      "metadata": {
        "id": "W6ctjq_TJsss",
        "colab_type": "text"
      },
      "source": [
        "## ELMO"
      ]
    },
    {
      "cell_type": "code",
      "metadata": {
        "id": "Jy1jhDvFxR0-",
        "colab_type": "code",
        "colab": {}
      },
      "source": [
        "embed = hub.Module(\"https://tfhub.dev/google/elmo/3\", trainable=False)\n",
        "def ELMoEmbedding(x):\n",
        "    return embed(tf.squeeze(tf.cast(x, tf.string)), signature=\"default\", as_dict=True)[\"default\"]"
      ],
      "execution_count": 0,
      "outputs": []
    },
    {
      "cell_type": "code",
      "metadata": {
        "id": "Ew0W8t7yxgjJ",
        "colab_type": "code",
        "outputId": "7232e70e-318b-4d99-b5c1-371a8a32b2ee",
        "colab": {
          "base_uri": "https://localhost:8080/",
          "height": 54
        }
      },
      "source": [
        "\n",
        "\n",
        "def build_model(): \n",
        "    input_text = Input(shape=(1,), dtype=\"string\")\n",
        "    embedding = Lambda(ELMoEmbedding, output_shape=(1024, ))(input_text)\n",
        "    dense = Dense(64, activation='relu', kernel_regularizer=regularizers.l2(0.005))(embedding)\n",
        "    dense = Dropout(0.3)(dense)\n",
        "    dense = Dense(32, activation='relu', kernel_regularizer=regularizers.l2(0.005))(dense)\n",
        "    dense = Dropout(0.3)(dense)\n",
        "    dense = Dense(16, activation='relu', kernel_regularizer=regularizers.l2(0.005))(dense)\n",
        "    dense = Dropout(0.3)(dense)\n",
        "    \n",
        "    dense = Dense(8, activation='relu', kernel_regularizer=regularizers.l2(0.005))(dense)\n",
        "    dense = Dropout(0.3)(dense)\n",
        "\n",
        "    pred = Dense(2, activation='softmax')(dense)\n",
        "    model = Model(inputs=[input_text], outputs=pred)\n",
        "    model.compile(loss='binary_crossentropy', optimizer=Adam(0.0001), metrics=['accuracy'])\n",
        "    return model\n",
        "model_elmo = build_model()"
      ],
      "execution_count": 0,
      "outputs": [
        {
          "output_type": "stream",
          "text": [
            "INFO:tensorflow:Saver not created because there are no variables in the graph to restore\n"
          ],
          "name": "stdout"
        },
        {
          "output_type": "stream",
          "text": [
            "INFO:tensorflow:Saver not created because there are no variables in the graph to restore\n"
          ],
          "name": "stderr"
        }
      ]
    },
    {
      "cell_type": "code",
      "metadata": {
        "id": "vzdK2UA2yJ9k",
        "colab_type": "code",
        "outputId": "ac1fc1e7-5cda-4337-a150-b13179e43581",
        "colab": {
          "base_uri": "https://localhost:8080/",
          "height": 568
        }
      },
      "source": [
        "model_elmo.summary()"
      ],
      "execution_count": 0,
      "outputs": [
        {
          "output_type": "stream",
          "text": [
            "Model: \"model_6\"\n",
            "_________________________________________________________________\n",
            "Layer (type)                 Output Shape              Param #   \n",
            "=================================================================\n",
            "input_7 (InputLayer)         [(None, 1)]               0         \n",
            "_________________________________________________________________\n",
            "lambda_6 (Lambda)            (None, 1024)              0         \n",
            "_________________________________________________________________\n",
            "dense_32 (Dense)             (None, 64)                65600     \n",
            "_________________________________________________________________\n",
            "dropout_22 (Dropout)         (None, 64)                0         \n",
            "_________________________________________________________________\n",
            "dense_33 (Dense)             (None, 32)                2080      \n",
            "_________________________________________________________________\n",
            "dropout_23 (Dropout)         (None, 32)                0         \n",
            "_________________________________________________________________\n",
            "dense_34 (Dense)             (None, 16)                528       \n",
            "_________________________________________________________________\n",
            "dropout_24 (Dropout)         (None, 16)                0         \n",
            "_________________________________________________________________\n",
            "dense_35 (Dense)             (None, 8)                 136       \n",
            "_________________________________________________________________\n",
            "dropout_25 (Dropout)         (None, 8)                 0         \n",
            "_________________________________________________________________\n",
            "dense_36 (Dense)             (None, 2)                 18        \n",
            "=================================================================\n",
            "Total params: 68,362\n",
            "Trainable params: 68,362\n",
            "Non-trainable params: 0\n",
            "_________________________________________________________________\n"
          ],
          "name": "stdout"
        }
      ]
    },
    {
      "cell_type": "code",
      "metadata": {
        "id": "AgNuU41l2GEq",
        "colab_type": "code",
        "outputId": "57cf9066-b5a2-4419-c6b1-79c4c89f61f1",
        "colab": {
          "base_uri": "https://localhost:8080/",
          "height": 1000
        }
      },
      "source": [
        "with tf.Session() as session:\n",
        "    K.set_session(session)\n",
        "    session.run(tf.global_variables_initializer())  \n",
        "    session.run(tf.tables_initializer())\n",
        "    history = model_elmo.fit(X_train, y_train, epochs=50, batch_size=256, validation_split = 0.2)\n",
        "    model_elmo.save_weights(BASE_FOLDER+'resources/weights/model_elmo_weights.h5')"
      ],
      "execution_count": 0,
      "outputs": [
        {
          "output_type": "stream",
          "text": [
            "Train on 3999 samples, validate on 1000 samples\n",
            "Epoch 1/50\n",
            "3999/3999 [==============================] - 19s 5ms/sample - loss: 1.6605 - acc: 0.5453 - val_loss: 1.6442 - val_acc: 0.5740\n",
            "Epoch 2/50\n",
            "3999/3999 [==============================] - 17s 4ms/sample - loss: 1.6324 - acc: 0.5596 - val_loss: 1.6122 - val_acc: 0.5790\n",
            "Epoch 3/50\n",
            "3999/3999 [==============================] - 17s 4ms/sample - loss: 1.5980 - acc: 0.5909 - val_loss: 1.5789 - val_acc: 0.6190\n",
            "Epoch 4/50\n",
            "3999/3999 [==============================] - 18s 4ms/sample - loss: 1.5682 - acc: 0.6129 - val_loss: 1.5422 - val_acc: 0.6600\n",
            "Epoch 5/50\n",
            "3999/3999 [==============================] - 17s 4ms/sample - loss: 1.5327 - acc: 0.6097 - val_loss: 1.5054 - val_acc: 0.6790\n",
            "Epoch 6/50\n",
            "3999/3999 [==============================] - 17s 4ms/sample - loss: 1.5044 - acc: 0.6272 - val_loss: 1.4710 - val_acc: 0.7160\n",
            "Epoch 7/50\n",
            "3999/3999 [==============================] - 17s 4ms/sample - loss: 1.4696 - acc: 0.6437 - val_loss: 1.4357 - val_acc: 0.7340\n",
            "Epoch 8/50\n",
            "3999/3999 [==============================] - 18s 4ms/sample - loss: 1.4431 - acc: 0.6564 - val_loss: 1.4084 - val_acc: 0.7410\n",
            "Epoch 9/50\n",
            "3999/3999 [==============================] - 17s 4ms/sample - loss: 1.4154 - acc: 0.6637 - val_loss: 1.3803 - val_acc: 0.7440\n",
            "Epoch 10/50\n",
            "3999/3999 [==============================] - 17s 4ms/sample - loss: 1.3953 - acc: 0.6787 - val_loss: 1.3557 - val_acc: 0.7450\n",
            "Epoch 11/50\n",
            "3999/3999 [==============================] - 17s 4ms/sample - loss: 1.3675 - acc: 0.6824 - val_loss: 1.3332 - val_acc: 0.7450\n",
            "Epoch 12/50\n",
            "3999/3999 [==============================] - 17s 4ms/sample - loss: 1.3475 - acc: 0.6867 - val_loss: 1.3097 - val_acc: 0.7460\n",
            "Epoch 13/50\n",
            "3999/3999 [==============================] - 18s 4ms/sample - loss: 1.3247 - acc: 0.6929 - val_loss: 1.2882 - val_acc: 0.7530\n",
            "Epoch 14/50\n",
            "3999/3999 [==============================] - 17s 4ms/sample - loss: 1.3045 - acc: 0.6924 - val_loss: 1.2673 - val_acc: 0.7510\n",
            "Epoch 15/50\n",
            "3999/3999 [==============================] - 17s 4ms/sample - loss: 1.2837 - acc: 0.7052 - val_loss: 1.2471 - val_acc: 0.7480\n",
            "Epoch 16/50\n",
            "3999/3999 [==============================] - 17s 4ms/sample - loss: 1.2661 - acc: 0.7059 - val_loss: 1.2286 - val_acc: 0.7570\n",
            "Epoch 17/50\n",
            "3999/3999 [==============================] - 17s 4ms/sample - loss: 1.2462 - acc: 0.7069 - val_loss: 1.2116 - val_acc: 0.7500\n",
            "Epoch 18/50\n",
            "3999/3999 [==============================] - 17s 4ms/sample - loss: 1.2222 - acc: 0.7277 - val_loss: 1.1940 - val_acc: 0.7550\n",
            "Epoch 19/50\n",
            "3999/3999 [==============================] - 17s 4ms/sample - loss: 1.2140 - acc: 0.7229 - val_loss: 1.1764 - val_acc: 0.7600\n",
            "Epoch 20/50\n",
            "3999/3999 [==============================] - 17s 4ms/sample - loss: 1.1940 - acc: 0.7174 - val_loss: 1.1617 - val_acc: 0.7630\n",
            "Epoch 21/50\n",
            "3999/3999 [==============================] - 17s 4ms/sample - loss: 1.1853 - acc: 0.7174 - val_loss: 1.1500 - val_acc: 0.7590\n",
            "Epoch 22/50\n",
            "3999/3999 [==============================] - 18s 4ms/sample - loss: 1.1647 - acc: 0.7299 - val_loss: 1.1334 - val_acc: 0.7660\n",
            "Epoch 23/50\n",
            "3999/3999 [==============================] - 17s 4ms/sample - loss: 1.1532 - acc: 0.7164 - val_loss: 1.1195 - val_acc: 0.7600\n",
            "Epoch 24/50\n",
            "3999/3999 [==============================] - 17s 4ms/sample - loss: 1.1394 - acc: 0.7217 - val_loss: 1.1061 - val_acc: 0.7630\n",
            "Epoch 25/50\n",
            "3999/3999 [==============================] - 17s 4ms/sample - loss: 1.1273 - acc: 0.7374 - val_loss: 1.0959 - val_acc: 0.7620\n",
            "Epoch 26/50\n",
            "3999/3999 [==============================] - 17s 4ms/sample - loss: 1.1135 - acc: 0.7332 - val_loss: 1.0832 - val_acc: 0.7620\n",
            "Epoch 27/50\n",
            "3999/3999 [==============================] - 17s 4ms/sample - loss: 1.1025 - acc: 0.7372 - val_loss: 1.0699 - val_acc: 0.7640\n",
            "Epoch 28/50\n",
            "3999/3999 [==============================] - 17s 4ms/sample - loss: 1.0833 - acc: 0.7374 - val_loss: 1.0592 - val_acc: 0.7620\n",
            "Epoch 29/50\n",
            "3999/3999 [==============================] - 17s 4ms/sample - loss: 1.0660 - acc: 0.7437 - val_loss: 1.0467 - val_acc: 0.7620\n",
            "Epoch 30/50\n",
            "3999/3999 [==============================] - 17s 4ms/sample - loss: 1.0647 - acc: 0.7379 - val_loss: 1.0357 - val_acc: 0.7650\n",
            "Epoch 31/50\n",
            "3999/3999 [==============================] - 17s 4ms/sample - loss: 1.0446 - acc: 0.7409 - val_loss: 1.0260 - val_acc: 0.7620\n",
            "Epoch 32/50\n",
            "3999/3999 [==============================] - 18s 4ms/sample - loss: 1.0361 - acc: 0.7467 - val_loss: 1.0137 - val_acc: 0.7670\n",
            "Epoch 33/50\n",
            "3999/3999 [==============================] - 17s 4ms/sample - loss: 1.0234 - acc: 0.7484 - val_loss: 1.0047 - val_acc: 0.7640\n",
            "Epoch 34/50\n",
            "3999/3999 [==============================] - 17s 4ms/sample - loss: 1.0169 - acc: 0.7442 - val_loss: 0.9941 - val_acc: 0.7670\n",
            "Epoch 35/50\n",
            "3999/3999 [==============================] - 17s 4ms/sample - loss: 1.0086 - acc: 0.7509 - val_loss: 0.9869 - val_acc: 0.7610\n",
            "Epoch 36/50\n",
            "3999/3999 [==============================] - 17s 4ms/sample - loss: 0.9963 - acc: 0.7547 - val_loss: 0.9768 - val_acc: 0.7680\n",
            "Epoch 37/50\n",
            "3999/3999 [==============================] - 17s 4ms/sample - loss: 0.9967 - acc: 0.7649 - val_loss: 0.9683 - val_acc: 0.7700\n",
            "Epoch 38/50\n",
            "3999/3999 [==============================] - 17s 4ms/sample - loss: 0.9861 - acc: 0.7702 - val_loss: 0.9597 - val_acc: 0.7700\n",
            "Epoch 39/50\n",
            "3999/3999 [==============================] - 17s 4ms/sample - loss: 0.9596 - acc: 0.7704 - val_loss: 0.9507 - val_acc: 0.7690\n",
            "Epoch 40/50\n",
            "3999/3999 [==============================] - 17s 4ms/sample - loss: 0.9574 - acc: 0.7734 - val_loss: 0.9426 - val_acc: 0.7690\n",
            "Epoch 41/50\n",
            "3999/3999 [==============================] - 17s 4ms/sample - loss: 0.9471 - acc: 0.7787 - val_loss: 0.9351 - val_acc: 0.7690\n",
            "Epoch 42/50\n",
            "3999/3999 [==============================] - 17s 4ms/sample - loss: 0.9393 - acc: 0.7834 - val_loss: 0.9270 - val_acc: 0.7740\n",
            "Epoch 43/50\n",
            "3999/3999 [==============================] - 17s 4ms/sample - loss: 0.9255 - acc: 0.7752 - val_loss: 0.9206 - val_acc: 0.7740\n",
            "Epoch 44/50\n",
            "3999/3999 [==============================] - 17s 4ms/sample - loss: 0.9233 - acc: 0.7817 - val_loss: 0.9119 - val_acc: 0.7750\n",
            "Epoch 45/50\n",
            "3999/3999 [==============================] - 17s 4ms/sample - loss: 0.9175 - acc: 0.7782 - val_loss: 0.9066 - val_acc: 0.7730\n",
            "Epoch 46/50\n",
            "3999/3999 [==============================] - 17s 4ms/sample - loss: 0.9108 - acc: 0.7842 - val_loss: 0.8976 - val_acc: 0.7770\n",
            "Epoch 47/50\n",
            "3999/3999 [==============================] - 17s 4ms/sample - loss: 0.8968 - acc: 0.7817 - val_loss: 0.8936 - val_acc: 0.7660\n",
            "Epoch 48/50\n",
            "3999/3999 [==============================] - 17s 4ms/sample - loss: 0.8893 - acc: 0.7832 - val_loss: 0.8843 - val_acc: 0.7770\n",
            "Epoch 49/50\n",
            "3999/3999 [==============================] - 17s 4ms/sample - loss: 0.8798 - acc: 0.7852 - val_loss: 0.8785 - val_acc: 0.7760\n",
            "Epoch 50/50\n",
            "3999/3999 [==============================] - 17s 4ms/sample - loss: 0.8799 - acc: 0.7814 - val_loss: 0.8719 - val_acc: 0.7790\n"
          ],
          "name": "stdout"
        }
      ]
    },
    {
      "cell_type": "code",
      "metadata": {
        "id": "p8gofoMo31h4",
        "colab_type": "code",
        "outputId": "5478ca37-6882-42af-f383-9e8f3229f2ef",
        "colab": {
          "base_uri": "https://localhost:8080/",
          "height": 295
        }
      },
      "source": [
        "import matplotlib.pyplot as plt\n",
        "%matplotlib inline\n",
        "\n",
        "acc = history.history['acc']\n",
        "val_acc = history.history['val_acc']\n",
        "loss = history.history['loss']\n",
        "val_loss = history.history['val_loss']\n",
        "\n",
        "epochs = range(1, len(acc) + 1)\n",
        "\n",
        "plt.plot(epochs, acc, 'g', label='Training Acc')\n",
        "plt.plot(epochs, val_acc, 'b', label='Validation Acc')\n",
        "plt.title('Training and validation Acc')\n",
        "plt.xlabel('Epochs')\n",
        "plt.ylabel('Acc')\n",
        "plt.legend()\n",
        "\n",
        "plt.show()"
      ],
      "execution_count": 0,
      "outputs": [
        {
          "output_type": "display_data",
          "data": {
            "image/png": "[encoded data removed]",
            "text/plain": [
              "<Figure size 432x288 with 1 Axes>"
            ]
          },
          "metadata": {
            "tags": [],
            "needs_background": "light"
          }
        }
      ]
    },
    {
      "cell_type": "code",
      "metadata": {
        "id": "G5B5HNaxHkw0",
        "colab_type": "code",
        "outputId": "31f14365-423c-4092-976f-bf31c4b822ab",
        "colab": {
          "base_uri": "https://localhost:8080/",
          "height": 295
        }
      },
      "source": [
        "epochs = range(1, len(acc) + 1)\n",
        "\n",
        "plt.plot(epochs, loss, 'g', label='Training Loss')\n",
        "plt.plot(epochs, val_loss, 'b', label='Validation Loss')\n",
        "plt.title('Training and validation Loss')\n",
        "plt.xlabel('Epochs')\n",
        "plt.ylabel('Loss')\n",
        "plt.legend()\n",
        "\n",
        "plt.show()"
      ],
      "execution_count": 0,
      "outputs": [
        {
          "output_type": "display_data",
          "data": {
            "image/png": "[encoded data removed]",
            "text/plain": [
              "<Figure size 432x288 with 1 Axes>"
            ]
          },
          "metadata": {
            "tags": [],
            "needs_background": "light"
          }
        }
      ]
    },
    {
      "cell_type": "code",
      "metadata": {
        "id": "wR1ozcM5FDEY",
        "colab_type": "code",
        "outputId": "eab30df5-b0aa-463c-a95c-2005b676677b",
        "colab": {
          "base_uri": "https://localhost:8080/",
          "height": 109
        }
      },
      "source": [
        "with tf.Session() as session:\n",
        "    K.set_session(session)\n",
        "    session.run(tf.global_variables_initializer())  \n",
        "    session.run(tf.tables_initializer())\n",
        "    model_elmo = build_model() \n",
        "    model_elmo.load_weights(BASE_FOLDER+'resources/weights/model_elmo_weights.h5')\n",
        "    import time\n",
        "    t = time.time()\n",
        "    results = model_elmo.evaluate(X_test, y_test)\n",
        "    print(\"time: \", time.time() - t)\n",
        "    print(results)\n",
        "    y_pred = model_elmo.predict(X_test)\n",
        "    model_elmo.save(BASE_FOLDER+'elmo')"
      ],
      "execution_count": 0,
      "outputs": [
        {
          "output_type": "stream",
          "text": [
            "INFO:tensorflow:Saver not created because there are no variables in the graph to restore\n"
          ],
          "name": "stdout"
        },
        {
          "output_type": "stream",
          "text": [
            "INFO:tensorflow:Saver not created because there are no variables in the graph to restore\n"
          ],
          "name": "stderr"
        },
        {
          "output_type": "stream",
          "text": [
            "2463/2463 [==============================] - 15s 6ms/sample - loss: 0.8622 - acc: 0.7909\n",
            "time:  15.764042615890503\n",
            "[0.8622151023481031, 0.7909054]\n"
          ],
          "name": "stdout"
        }
      ]
    },
    {
      "cell_type": "code",
      "metadata": {
        "id": "kUYyyLIvJmrc",
        "colab_type": "code",
        "outputId": "4eb2822b-1103-42ef-9ea9-20418c34a54a",
        "colab": {
          "base_uri": "https://localhost:8080/",
          "height": 146
        }
      },
      "source": [
        "y_pred "
      ],
      "execution_count": 0,
      "outputs": [
        {
          "output_type": "execute_result",
          "data": {
            "text/plain": [
              "array([[0.908124  , 0.09187599],\n",
              "       [0.31325257, 0.6867475 ],\n",
              "       [0.38988155, 0.61011845],\n",
              "       ...,\n",
              "       [0.66394293, 0.3360571 ],\n",
              "       [0.2641687 , 0.7358313 ],\n",
              "       [0.7637969 , 0.2362031 ]], dtype=float32)"
            ]
          },
          "metadata": {
            "tags": []
          },
          "execution_count": 60
        }
      ]
    },
    {
      "cell_type": "code",
      "metadata": {
        "id": "1Ao8-J8bJsmb",
        "colab_type": "code",
        "colab": {}
      },
      "source": [
        "import numpy as np\n",
        "\n",
        "y_pred_ev = [np.argmax(y) for y in y_pred]\n",
        "y_test_ev = [np.argmax(y) for y in y_test]"
      ],
      "execution_count": 0,
      "outputs": []
    },
    {
      "cell_type": "code",
      "metadata": {
        "id": "2ZGZAE1yEZ_T",
        "colab_type": "code",
        "colab": {}
      },
      "source": [
        "import seaborn as sns\n",
        "\n",
        "\n",
        "def show_confusion_matrix(Y_GT, Y_predicted, labels=[0,1]):\n",
        "    \"\"\" Pinta la matriz de confusión para dos vectores de classes. El primero es el Ground Truth. \n",
        "    \"\"\"\n",
        "    data = {'y_Predicted': Y_predicted,\n",
        "            'y_Actual':    Y_GT\n",
        "            } # Almacena los datos en un diccionario para crear el dataframe\n",
        "    df = pd.DataFrame(data, columns=['y_Actual','y_Predicted']) #Construye el dataframe con una columna para el GT y otra para la predicción\n",
        "    confusion_matrix = pd.crosstab(df['y_Actual'], df['y_Predicted'], rownames=['Actual'], colnames=['Predicted']) #Crea una tabla que indica cuantos items del segundo parámetro hay en cada item del primero\n",
        "    #plt.figure(figsize=(10, 10))\n",
        "    ax = sns.heatmap(confusion_matrix, annot=True,fmt='d', cbar=False,xticklabels=labels, yticklabels=labels)\n",
        "    plt.show()"
      ],
      "execution_count": 0,
      "outputs": []
    },
    {
      "cell_type": "code",
      "metadata": {
        "id": "krnbbyAgBQ4d",
        "colab_type": "code",
        "colab": {}
      },
      "source": [
        "from sklearn import metrics\n",
        "def evaluate(y_test, y_pred):\n",
        "    acc = metrics.accuracy_score(y_test, y_pred)\n",
        "    f1 = metrics.f1_score(y_test, y_pred)\n",
        "    au = metrics.roc_auc_score(y_test, y_pred)\n",
        "    results = pd.DataFrame({'accuracy':acc, 'f score':f1, 'ROC area':au}, index=[0])\n",
        "    show_confusion_matrix(y_test, y_pred)\n",
        "    display(results)"
      ],
      "execution_count": 0,
      "outputs": []
    },
    {
      "cell_type": "code",
      "metadata": {
        "id": "Vm6TmoNYEbOF",
        "colab_type": "code",
        "outputId": "1860096d-a0fe-4b94-c71a-f4d87896453e",
        "colab": {
          "base_uri": "https://localhost:8080/",
          "height": 343
        }
      },
      "source": [
        "evaluate(y_test_ev, y_pred_ev)"
      ],
      "execution_count": 0,
      "outputs": [
        {
          "output_type": "display_data",
          "data": {
            "image/png": "[encoded data removed]",
            "text/plain": [
              "<Figure size 432x288 with 1 Axes>"
            ]
          },
          "metadata": {
            "tags": [],
            "needs_background": "light"
          }
        },
        {
          "output_type": "display_data",
          "data": {
            "text/html": [
              "<div>\n",
              "<style scoped>\n",
              "    .dataframe tbody tr th:only-of-type {\n",
              "        vertical-align: middle;\n",
              "    }\n",
              "\n",
              "    .dataframe tbody tr th {\n",
              "        vertical-align: top;\n",
              "    }\n",
              "\n",
              "    .dataframe thead th {\n",
              "        text-align: right;\n",
              "    }\n",
              "</style>\n",
              "<table border=\"1\" class=\"dataframe\">\n",
              "  <thead>\n",
              "    <tr style=\"text-align: right;\">\n",
              "      <th></th>\n",
              "      <th>accuracy</th>\n",
              "      <th>f score</th>\n",
              "      <th>ROC area</th>\n",
              "    </tr>\n",
              "  </thead>\n",
              "  <tbody>\n",
              "    <tr>\n",
              "      <th>0</th>\n",
              "      <td>0.790905</td>\n",
              "      <td>0.737111</td>\n",
              "      <td>0.777927</td>\n",
              "    </tr>\n",
              "  </tbody>\n",
              "</table>\n",
              "</div>"
            ],
            "text/plain": [
              "   accuracy   f score  ROC area\n",
              "0  0.790905  0.737111  0.777927"
            ]
          },
          "metadata": {
            "tags": []
          }
        }
      ]
    },
    {
      "cell_type": "code",
      "metadata": {
        "id": "mR1lX8V0KCNK",
        "colab_type": "code",
        "outputId": "3d8068db-5101-4cab-b4cb-7aedd7144bcf",
        "colab": {
          "base_uri": "https://localhost:8080/",
          "height": 325
        }
      },
      "source": [
        "model_elmo.save(BASE_FOLDER+'elmo')"
      ],
      "execution_count": 0,
      "outputs": [
        {
          "output_type": "error",
          "ename": "RuntimeError",
          "evalue": "ignored",
          "traceback": [
            "\u001b[0;31m---------------------------------------------------------------------------\u001b[0m",
            "\u001b[0;31mRuntimeError\u001b[0m                              Traceback (most recent call last)",
            "\u001b[0;32m<ipython-input-66-0cd8b796e2db>\u001b[0m in \u001b[0;36m<module>\u001b[0;34m()\u001b[0m\n\u001b[0;32m----> 1\u001b[0;31m \u001b[0mmodel_elmo\u001b[0m\u001b[0;34m.\u001b[0m\u001b[0msave\u001b[0m\u001b[0;34m(\u001b[0m\u001b[0mBASE_FOLDER\u001b[0m\u001b[0;34m+\u001b[0m\u001b[0;34m'elmo'\u001b[0m\u001b[0;34m)\u001b[0m\u001b[0;34m\u001b[0m\u001b[0;34m\u001b[0m\u001b[0m\n\u001b[0m",
            "\u001b[0;32m/tensorflow-1.15.2/python3.6/tensorflow_core/python/keras/engine/network.py\u001b[0m in \u001b[0;36msave\u001b[0;34m(self, filepath, overwrite, include_optimizer, save_format, signatures)\u001b[0m\n\u001b[1;32m   1169\u001b[0m     \"\"\"\n\u001b[1;32m   1170\u001b[0m     saving.save_model(self, filepath, overwrite, include_optimizer, save_format,\n\u001b[0;32m-> 1171\u001b[0;31m                       signatures)\n\u001b[0m\u001b[1;32m   1172\u001b[0m \u001b[0;34m\u001b[0m\u001b[0m\n\u001b[1;32m   1173\u001b[0m   \u001b[0;32mdef\u001b[0m \u001b[0msave_weights\u001b[0m\u001b[0;34m(\u001b[0m\u001b[0mself\u001b[0m\u001b[0;34m,\u001b[0m \u001b[0mfilepath\u001b[0m\u001b[0;34m,\u001b[0m \u001b[0moverwrite\u001b[0m\u001b[0;34m=\u001b[0m\u001b[0;32mTrue\u001b[0m\u001b[0;34m,\u001b[0m \u001b[0msave_format\u001b[0m\u001b[0;34m=\u001b[0m\u001b[0;32mNone\u001b[0m\u001b[0;34m)\u001b[0m\u001b[0;34m:\u001b[0m\u001b[0;34m\u001b[0m\u001b[0;34m\u001b[0m\u001b[0m\n",
            "\u001b[0;32m/tensorflow-1.15.2/python3.6/tensorflow_core/python/keras/saving/save.py\u001b[0m in \u001b[0;36msave_model\u001b[0;34m(model, filepath, overwrite, include_optimizer, save_format, signatures)\u001b[0m\n\u001b[1;32m    107\u001b[0m           'or using `save_weights`.')\n\u001b[1;32m    108\u001b[0m     hdf5_format.save_model_to_hdf5(\n\u001b[0;32m--> 109\u001b[0;31m         model, filepath, overwrite, include_optimizer)\n\u001b[0m\u001b[1;32m    110\u001b[0m   \u001b[0;32melse\u001b[0m\u001b[0;34m:\u001b[0m\u001b[0;34m\u001b[0m\u001b[0;34m\u001b[0m\u001b[0m\n\u001b[1;32m    111\u001b[0m     saved_model_save.save(model, filepath, overwrite, include_optimizer,\n",
            "\u001b[0;32m/tensorflow-1.15.2/python3.6/tensorflow_core/python/keras/saving/hdf5_format.py\u001b[0m in \u001b[0;36msave_model_to_hdf5\u001b[0;34m(model, filepath, overwrite, include_optimizer)\u001b[0m\n\u001b[1;32m    101\u001b[0m     \u001b[0mmodel_weights_group\u001b[0m \u001b[0;34m=\u001b[0m \u001b[0mf\u001b[0m\u001b[0;34m.\u001b[0m\u001b[0mcreate_group\u001b[0m\u001b[0;34m(\u001b[0m\u001b[0;34m'model_weights'\u001b[0m\u001b[0;34m)\u001b[0m\u001b[0;34m\u001b[0m\u001b[0;34m\u001b[0m\u001b[0m\n\u001b[1;32m    102\u001b[0m     \u001b[0mmodel_layers\u001b[0m \u001b[0;34m=\u001b[0m \u001b[0mmodel\u001b[0m\u001b[0;34m.\u001b[0m\u001b[0mlayers\u001b[0m\u001b[0;34m\u001b[0m\u001b[0;34m\u001b[0m\u001b[0m\n\u001b[0;32m--> 103\u001b[0;31m     \u001b[0msave_weights_to_hdf5_group\u001b[0m\u001b[0;34m(\u001b[0m\u001b[0mmodel_weights_group\u001b[0m\u001b[0;34m,\u001b[0m \u001b[0mmodel_layers\u001b[0m\u001b[0;34m)\u001b[0m\u001b[0;34m\u001b[0m\u001b[0;34m\u001b[0m\u001b[0m\n\u001b[0m\u001b[1;32m    104\u001b[0m \u001b[0;34m\u001b[0m\u001b[0m\n\u001b[1;32m    105\u001b[0m     \u001b[0;31m# TODO(b/128683857): Add integration tests between tf.keras and external\u001b[0m\u001b[0;34m\u001b[0m\u001b[0;34m\u001b[0m\u001b[0;34m\u001b[0m\u001b[0m\n",
            "\u001b[0;32m/tensorflow-1.15.2/python3.6/tensorflow_core/python/keras/saving/hdf5_format.py\u001b[0m in \u001b[0;36msave_weights_to_hdf5_group\u001b[0;34m(f, layers)\u001b[0m\n\u001b[1;32m    619\u001b[0m     \u001b[0mg\u001b[0m \u001b[0;34m=\u001b[0m \u001b[0mf\u001b[0m\u001b[0;34m.\u001b[0m\u001b[0mcreate_group\u001b[0m\u001b[0;34m(\u001b[0m\u001b[0mlayer\u001b[0m\u001b[0;34m.\u001b[0m\u001b[0mname\u001b[0m\u001b[0;34m)\u001b[0m\u001b[0;34m\u001b[0m\u001b[0;34m\u001b[0m\u001b[0m\n\u001b[1;32m    620\u001b[0m     \u001b[0mweights\u001b[0m \u001b[0;34m=\u001b[0m \u001b[0m_legacy_weights\u001b[0m\u001b[0;34m(\u001b[0m\u001b[0mlayer\u001b[0m\u001b[0;34m)\u001b[0m\u001b[0;34m\u001b[0m\u001b[0;34m\u001b[0m\u001b[0m\n\u001b[0;32m--> 621\u001b[0;31m     \u001b[0mweight_values\u001b[0m \u001b[0;34m=\u001b[0m \u001b[0mK\u001b[0m\u001b[0;34m.\u001b[0m\u001b[0mbatch_get_value\u001b[0m\u001b[0;34m(\u001b[0m\u001b[0mweights\u001b[0m\u001b[0;34m)\u001b[0m\u001b[0;34m\u001b[0m\u001b[0;34m\u001b[0m\u001b[0m\n\u001b[0m\u001b[1;32m    622\u001b[0m     \u001b[0mweight_names\u001b[0m \u001b[0;34m=\u001b[0m \u001b[0;34m[\u001b[0m\u001b[0mw\u001b[0m\u001b[0;34m.\u001b[0m\u001b[0mname\u001b[0m\u001b[0;34m.\u001b[0m\u001b[0mencode\u001b[0m\u001b[0;34m(\u001b[0m\u001b[0;34m'utf8'\u001b[0m\u001b[0;34m)\u001b[0m \u001b[0;32mfor\u001b[0m \u001b[0mw\u001b[0m \u001b[0;32min\u001b[0m \u001b[0mweights\u001b[0m\u001b[0;34m]\u001b[0m\u001b[0;34m\u001b[0m\u001b[0;34m\u001b[0m\u001b[0m\n\u001b[1;32m    623\u001b[0m     \u001b[0msave_attributes_to_hdf5_group\u001b[0m\u001b[0;34m(\u001b[0m\u001b[0mg\u001b[0m\u001b[0;34m,\u001b[0m \u001b[0;34m'weight_names'\u001b[0m\u001b[0;34m,\u001b[0m \u001b[0mweight_names\u001b[0m\u001b[0;34m)\u001b[0m\u001b[0;34m\u001b[0m\u001b[0;34m\u001b[0m\u001b[0m\n",
            "\u001b[0;32m/tensorflow-1.15.2/python3.6/tensorflow_core/python/keras/backend.py\u001b[0m in \u001b[0;36mbatch_get_value\u001b[0;34m(tensors)\u001b[0m\n\u001b[1;32m   3183\u001b[0m     \u001b[0;32mraise\u001b[0m \u001b[0mRuntimeError\u001b[0m\u001b[0;34m(\u001b[0m\u001b[0;34m'Cannot get value inside Tensorflow graph function.'\u001b[0m\u001b[0;34m)\u001b[0m\u001b[0;34m\u001b[0m\u001b[0;34m\u001b[0m\u001b[0m\n\u001b[1;32m   3184\u001b[0m   \u001b[0;32mif\u001b[0m \u001b[0mtensors\u001b[0m\u001b[0;34m:\u001b[0m\u001b[0;34m\u001b[0m\u001b[0;34m\u001b[0m\u001b[0m\n\u001b[0;32m-> 3185\u001b[0;31m     \u001b[0;32mreturn\u001b[0m \u001b[0mget_session\u001b[0m\u001b[0;34m(\u001b[0m\u001b[0mtensors\u001b[0m\u001b[0;34m)\u001b[0m\u001b[0;34m.\u001b[0m\u001b[0mrun\u001b[0m\u001b[0;34m(\u001b[0m\u001b[0mtensors\u001b[0m\u001b[0;34m)\u001b[0m\u001b[0;34m\u001b[0m\u001b[0;34m\u001b[0m\u001b[0m\n\u001b[0m\u001b[1;32m   3186\u001b[0m   \u001b[0;32melse\u001b[0m\u001b[0;34m:\u001b[0m\u001b[0;34m\u001b[0m\u001b[0;34m\u001b[0m\u001b[0m\n\u001b[1;32m   3187\u001b[0m     \u001b[0;32mreturn\u001b[0m \u001b[0;34m[\u001b[0m\u001b[0;34m]\u001b[0m\u001b[0;34m\u001b[0m\u001b[0;34m\u001b[0m\u001b[0m\n",
            "\u001b[0;32m/tensorflow-1.15.2/python3.6/tensorflow_core/python/client/session.py\u001b[0m in \u001b[0;36mrun\u001b[0;34m(self, fetches, feed_dict, options, run_metadata)\u001b[0m\n\u001b[1;32m    954\u001b[0m     \u001b[0;32mtry\u001b[0m\u001b[0;34m:\u001b[0m\u001b[0;34m\u001b[0m\u001b[0;34m\u001b[0m\u001b[0m\n\u001b[1;32m    955\u001b[0m       result = self._run(None, fetches, feed_dict, options_ptr,\n\u001b[0;32m--> 956\u001b[0;31m                          run_metadata_ptr)\n\u001b[0m\u001b[1;32m    957\u001b[0m       \u001b[0;32mif\u001b[0m \u001b[0mrun_metadata\u001b[0m\u001b[0;34m:\u001b[0m\u001b[0;34m\u001b[0m\u001b[0;34m\u001b[0m\u001b[0m\n\u001b[1;32m    958\u001b[0m         \u001b[0mproto_data\u001b[0m \u001b[0;34m=\u001b[0m \u001b[0mtf_session\u001b[0m\u001b[0;34m.\u001b[0m\u001b[0mTF_GetBuffer\u001b[0m\u001b[0;34m(\u001b[0m\u001b[0mrun_metadata_ptr\u001b[0m\u001b[0;34m)\u001b[0m\u001b[0;34m\u001b[0m\u001b[0;34m\u001b[0m\u001b[0m\n",
            "\u001b[0;32m/tensorflow-1.15.2/python3.6/tensorflow_core/python/client/session.py\u001b[0m in \u001b[0;36m_run\u001b[0;34m(self, handle, fetches, feed_dict, options, run_metadata)\u001b[0m\n\u001b[1;32m   1101\u001b[0m     \u001b[0;31m# Check session.\u001b[0m\u001b[0;34m\u001b[0m\u001b[0;34m\u001b[0m\u001b[0;34m\u001b[0m\u001b[0m\n\u001b[1;32m   1102\u001b[0m     \u001b[0;32mif\u001b[0m \u001b[0mself\u001b[0m\u001b[0;34m.\u001b[0m\u001b[0m_closed\u001b[0m\u001b[0;34m:\u001b[0m\u001b[0;34m\u001b[0m\u001b[0;34m\u001b[0m\u001b[0m\n\u001b[0;32m-> 1103\u001b[0;31m       \u001b[0;32mraise\u001b[0m \u001b[0mRuntimeError\u001b[0m\u001b[0;34m(\u001b[0m\u001b[0;34m'Attempted to use a closed Session.'\u001b[0m\u001b[0;34m)\u001b[0m\u001b[0;34m\u001b[0m\u001b[0;34m\u001b[0m\u001b[0m\n\u001b[0m\u001b[1;32m   1104\u001b[0m     \u001b[0;32mif\u001b[0m \u001b[0mself\u001b[0m\u001b[0;34m.\u001b[0m\u001b[0mgraph\u001b[0m\u001b[0;34m.\u001b[0m\u001b[0mversion\u001b[0m \u001b[0;34m==\u001b[0m \u001b[0;36m0\u001b[0m\u001b[0;34m:\u001b[0m\u001b[0;34m\u001b[0m\u001b[0;34m\u001b[0m\u001b[0m\n\u001b[1;32m   1105\u001b[0m       raise RuntimeError('The Session graph is empty.  Add operations to the '\n",
            "\u001b[0;31mRuntimeError\u001b[0m: Attempted to use a closed Session."
          ]
        }
      ]
    },
    {
      "cell_type": "code",
      "metadata": {
        "id": "Gj50rLdeeGV4",
        "colab_type": "code",
        "colab": {}
      },
      "source": [
        ""
      ],
      "execution_count": 0,
      "outputs": []
    }
  ]
}
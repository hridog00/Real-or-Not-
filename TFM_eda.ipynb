{
  "nbformat": 4,
  "nbformat_minor": 0,
  "metadata": {
    "kernelspec": {
      "language": "python",
      "display_name": "Python 3",
      "name": "python3"
    },
    "language_info": {
      "pygments_lexer": "ipython3",
      "nbconvert_exporter": "python",
      "version": "3.6.4",
      "file_extension": ".py",
      "codemirror_mode": {
        "name": "ipython",
        "version": 3
      },
      "name": "python",
      "mimetype": "text/x-python"
    },
    "colab": {
      "name": "TFM_eda.ipynb",
      "provenance": [],
      "toc_visible": true,
      "include_colab_link": true
    }
  },
  "cells": [
    {
      "cell_type": "markdown",
      "metadata": {
        "id": "view-in-github",
        "colab_type": "text"
      },
      "source": [
        "<a href=\"https://colab.research.google.com/github/hridog00/RealOrNot/blob/master/TFM_eda.ipynb\" target=\"_parent\"><img src=\"https://colab.research.google.com/assets/colab-badge.svg\" alt=\"Open In Colab\"/></a>"
      ]
    },
    {
      "cell_type": "code",
      "metadata": {
        "id": "zr6YqygH9bzT",
        "colab_type": "code",
        "outputId": "8f6eec38-40f0-4390-f1ff-7b4f23fbd907",
        "colab": {
          "base_uri": "https://localhost:8080/",
          "height": 109
        }
      },
      "source": [
        "!pip install geotext"
      ],
      "execution_count": 0,
      "outputs": [
        {
          "output_type": "stream",
          "text": [
            "Collecting geotext\n",
            "\u001b[?25l  Downloading https://files.pythonhosted.org/packages/25/c5/36351193092cb4c1d7002d2a3babe5e72ae377868473933d6f63b41e5454/geotext-0.4.0-py2.py3-none-any.whl (2.0MB)\n",
            "\u001b[K     |████████████████████████████████| 2.0MB 3.5MB/s \n",
            "\u001b[?25hInstalling collected packages: geotext\n",
            "Successfully installed geotext-0.4.0\n"
          ],
          "name": "stdout"
        }
      ]
    },
    {
      "cell_type": "code",
      "metadata": {
        "_uuid": "8f2839f25d086af736a60e9eeb907d3b93b6e0e5",
        "_cell_guid": "b1076dfc-b9ad-4769-8c92-a6c4dae69d19",
        "trusted": true,
        "id": "gwvlGYD-9aFa",
        "colab_type": "code",
        "colab": {}
      },
      "source": [
        "import numpy as np # linear algebra\n",
        "import pandas as pd # data processing, CSV file I/O (e.g. pd.read_csv)\n",
        "import matplotlib.pyplot as plt"
      ],
      "execution_count": 0,
      "outputs": []
    },
    {
      "cell_type": "code",
      "metadata": {
        "id": "Ejqp6EIb_MtF",
        "colab_type": "code",
        "colab": {}
      },
      "source": [
        "\n",
        "###################################################################################################\n",
        "BASE_FOLDER = \"/content/drive/My Drive/TFM/\"\n",
        "###################################################################################################\n"
      ],
      "execution_count": 0,
      "outputs": []
    },
    {
      "cell_type": "code",
      "metadata": {
        "id": "MEWdhToEIlWN",
        "colab_type": "code",
        "outputId": "e885cd34-375a-4982-e7e1-598ded3ffc59",
        "colab": {
          "base_uri": "https://localhost:8080/",
          "height": 122
        }
      },
      "source": [
        "from google.colab import drive\n",
        "drive.mount('/content/drive')"
      ],
      "execution_count": 3,
      "outputs": [
        {
          "output_type": "stream",
          "text": [
            "Go to this URL in a browser: https://accounts.google.com/o/oauth2/auth?client_id=947318989803-6bn6qk8qdgf4n4g3pfee6491hc0brc4i.apps.googleusercontent.com&redirect_uri=urn%3aietf%3awg%3aoauth%3a2.0%3aoob&response_type=code&scope=email%20https%3a%2f%2fwww.googleapis.com%2fauth%2fdocs.test%20https%3a%2f%2fwww.googleapis.com%2fauth%2fdrive%20https%3a%2f%2fwww.googleapis.com%2fauth%2fdrive.photos.readonly%20https%3a%2f%2fwww.googleapis.com%2fauth%2fpeopleapi.readonly\n",
            "\n",
            "Enter your authorization code:\n",
            "··········\n",
            "Mounted at /content/drive\n"
          ],
          "name": "stdout"
        }
      ]
    },
    {
      "cell_type": "markdown",
      "metadata": {
        "id": "X_eKQgcv9aFn",
        "colab_type": "text"
      },
      "source": [
        "## Carga y exploracion inciacial de los datos\n",
        "Leo los datos"
      ]
    },
    {
      "cell_type": "code",
      "metadata": {
        "_uuid": "d629ff2d2480ee46fbb7e2d37f6b5fab8052498a",
        "_cell_guid": "79c7e3d0-c299-4dcb-8224-4455121ee9b0",
        "trusted": true,
        "id": "mYSGsQMn9aFo",
        "colab_type": "code",
        "colab": {}
      },
      "source": [
        "train_df = pd.read_csv(BASE_FOLDER+\"/resources/data/train.csv\")\n",
        "test_df = pd.read_csv(BASE_FOLDER+\"/resources/data/test.csv\")"
      ],
      "execution_count": 0,
      "outputs": []
    },
    {
      "cell_type": "code",
      "metadata": {
        "trusted": true,
        "id": "gYTuoq3p9aFx",
        "colab_type": "code",
        "colab": {}
      },
      "source": [
        "ej = train_df.sample(5)"
      ],
      "execution_count": 0,
      "outputs": []
    },
    {
      "cell_type": "code",
      "metadata": {
        "id": "uJRiwcKvI27S",
        "colab_type": "code",
        "outputId": "74e0550d-8463-4d3d-cec6-90e6fe6b9153",
        "colab": {
          "base_uri": "https://localhost:8080/",
          "height": 320
        }
      },
      "source": [
        "import matplotlib.pyplot as plt\n",
        "target_values =list(train_df['target'].values)\n",
        "labels = ['Normal', 'Disaster']\n",
        "sizes = [target_values.count(0), target_values.count(1)]\n",
        "plt.figure(figsize=(5,5))\n",
        "plt.pie(sizes, labels=labels, autopct='%1.1f%%', colors=['skyblue', 'orange'] )\n",
        "plt.title('')\n",
        "plt.plot()"
      ],
      "execution_count": 6,
      "outputs": [
        {
          "output_type": "execute_result",
          "data": {
            "text/plain": [
              "[]"
            ]
          },
          "metadata": {
            "tags": []
          },
          "execution_count": 6
        },
        {
          "output_type": "display_data",
          "data": {
            "image/png": "[encoded data removed]",
            "text/plain": [
              "<Figure size 360x360 with 1 Axes>"
            ]
          },
          "metadata": {
            "tags": []
          }
        }
      ]
    },
    {
      "cell_type": "code",
      "metadata": {
        "id": "qXj_J_Pof4-d",
        "colab_type": "code",
        "outputId": "b1e63353-3fa9-4adb-ebe9-ed7778e1f3c6",
        "colab": {
          "base_uri": "https://localhost:8080/",
          "height": 204
        }
      },
      "source": [
        "train_df.sample(5)"
      ],
      "execution_count": 7,
      "outputs": [
        {
          "output_type": "execute_result",
          "data": {
            "text/html": [
              "<div>\n",
              "<style scoped>\n",
              "    .dataframe tbody tr th:only-of-type {\n",
              "        vertical-align: middle;\n",
              "    }\n",
              "\n",
              "    .dataframe tbody tr th {\n",
              "        vertical-align: top;\n",
              "    }\n",
              "\n",
              "    .dataframe thead th {\n",
              "        text-align: right;\n",
              "    }\n",
              "</style>\n",
              "<table border=\"1\" class=\"dataframe\">\n",
              "  <thead>\n",
              "    <tr style=\"text-align: right;\">\n",
              "      <th></th>\n",
              "      <th>id</th>\n",
              "      <th>keyword</th>\n",
              "      <th>location</th>\n",
              "      <th>text</th>\n",
              "      <th>target</th>\n",
              "    </tr>\n",
              "  </thead>\n",
              "  <tbody>\n",
              "    <tr>\n",
              "      <th>1188</th>\n",
              "      <td>1710</td>\n",
              "      <td>bridge%20collapse</td>\n",
              "      <td>NaN</td>\n",
              "      <td>Mexico: construction of bridge collapse killså...</td>\n",
              "      <td>1</td>\n",
              "    </tr>\n",
              "    <tr>\n",
              "      <th>136</th>\n",
              "      <td>196</td>\n",
              "      <td>airplane%20accident</td>\n",
              "      <td>19.600858, -99.047821</td>\n",
              "      <td>Experts in France begin examining airplane deb...</td>\n",
              "      <td>1</td>\n",
              "    </tr>\n",
              "    <tr>\n",
              "      <th>1026</th>\n",
              "      <td>1488</td>\n",
              "      <td>body%20bags</td>\n",
              "      <td>Charlotte NC</td>\n",
              "      <td>The Body Bags has a show on 08/07/2015 at 07:3...</td>\n",
              "      <td>0</td>\n",
              "    </tr>\n",
              "    <tr>\n",
              "      <th>4726</th>\n",
              "      <td>6722</td>\n",
              "      <td>lava</td>\n",
              "      <td>Jakarta</td>\n",
              "      <td>@YoungHeroesID Lava Blast &amp;amp; Power Red @die...</td>\n",
              "      <td>0</td>\n",
              "    </tr>\n",
              "    <tr>\n",
              "      <th>4750</th>\n",
              "      <td>6758</td>\n",
              "      <td>lightning</td>\n",
              "      <td>Rapid City, Black Hills, SD</td>\n",
              "      <td>NWS says thunderstorms with deadly lightning w...</td>\n",
              "      <td>1</td>\n",
              "    </tr>\n",
              "  </tbody>\n",
              "</table>\n",
              "</div>"
            ],
            "text/plain": [
              "        id  ... target\n",
              "1188  1710  ...      1\n",
              "136    196  ...      1\n",
              "1026  1488  ...      0\n",
              "4726  6722  ...      0\n",
              "4750  6758  ...      1\n",
              "\n",
              "[5 rows x 5 columns]"
            ]
          },
          "metadata": {
            "tags": []
          },
          "execution_count": 7
        }
      ]
    },
    {
      "cell_type": "code",
      "metadata": {
        "trusted": true,
        "id": "-mWzuAbO9aF4",
        "colab_type": "code",
        "outputId": "ba1ca2e6-049b-4c14-d4fa-d73dbe7348cd",
        "colab": {
          "base_uri": "https://localhost:8080/",
          "height": 221
        }
      },
      "source": [
        "train_df.info()"
      ],
      "execution_count": 8,
      "outputs": [
        {
          "output_type": "stream",
          "text": [
            "<class 'pandas.core.frame.DataFrame'>\n",
            "RangeIndex: 7613 entries, 0 to 7612\n",
            "Data columns (total 5 columns):\n",
            " #   Column    Non-Null Count  Dtype \n",
            "---  ------    --------------  ----- \n",
            " 0   id        7613 non-null   int64 \n",
            " 1   keyword   7552 non-null   object\n",
            " 2   location  5080 non-null   object\n",
            " 3   text      7613 non-null   object\n",
            " 4   target    7613 non-null   int64 \n",
            "dtypes: int64(2), object(3)\n",
            "memory usage: 297.5+ KB\n"
          ],
          "name": "stdout"
        }
      ]
    },
    {
      "cell_type": "markdown",
      "metadata": {
        "id": "DXrCVrYw9aF9",
        "colab_type": "text"
      },
      "source": [
        "No nos inteneresa la columna id, por lo que la descartamos. Separamos los atributos del target y nos creamos nuestros\n"
      ]
    },
    {
      "cell_type": "code",
      "metadata": {
        "trusted": true,
        "id": "Jhgg1-Pm9aF-",
        "colab_type": "code",
        "colab": {}
      },
      "source": [
        "X = train_df.drop('id', axis=1)"
      ],
      "execution_count": 0,
      "outputs": []
    },
    {
      "cell_type": "code",
      "metadata": {
        "trusted": true,
        "id": "iQWFoGet9aGE",
        "colab_type": "code",
        "outputId": "8918468c-11ba-47a0-f9a2-5913ffa95967",
        "colab": {
          "base_uri": "https://localhost:8080/",
          "height": 51
        }
      },
      "source": [
        "print('Tweets without natural disaster:',X[X.target == 0].shape[0])\n",
        "print('Tweets with natural disaster:',X[X.target == 1].shape[0])"
      ],
      "execution_count": 10,
      "outputs": [
        {
          "output_type": "stream",
          "text": [
            "Tweets without natural disaster: 4342\n",
            "Tweets with natural disaster: 3271\n"
          ],
          "name": "stdout"
        }
      ]
    },
    {
      "cell_type": "markdown",
      "metadata": {
        "id": "zQtccpXpgrPw",
        "colab_type": "text"
      },
      "source": [
        "## Analisis exploratorio incial"
      ]
    },
    {
      "cell_type": "markdown",
      "metadata": {
        "id": "1UYx3QuC9aGS",
        "colab_type": "text"
      },
      "source": [
        "Vemos que esta bastante balanceado el numero de tweets en cada clase. Ahora vamos a conocer el numero de elementos sin valor en cada una de las columnas."
      ]
    },
    {
      "cell_type": "code",
      "metadata": {
        "trusted": true,
        "id": "D4cZ6VLu9aGV",
        "colab_type": "code",
        "outputId": "8a8e3c2a-66ab-4892-f97e-a0e4c54983ac",
        "colab": {
          "base_uri": "https://localhost:8080/",
          "height": 332
        }
      },
      "source": [
        "import matplotlib.pyplot as plt\n",
        "\n",
        "print('Mising values Keyword:',X['keyword'].isnull().sum())\n",
        "print('Mising values Location:',X['location'].isnull().sum())\n",
        "print('Mising values Text:',X['text'].isnull().sum())\n",
        "plt.bar(['id','location', 'keyword', 'text', 'target'],[train_df['id'].isnull().sum(), train_df['location'].isnull().sum(), train_df['keyword'].isnull().sum(), train_df['text'].isnull().sum(), train_df['target'].isnull().sum()], color=\"skyblue\")\n",
        "plt.title('Null values')\n",
        "plt.show()"
      ],
      "execution_count": 0,
      "outputs": [
        {
          "output_type": "stream",
          "text": [
            "Mising values Keyword: 61\n",
            "Mising values Location: 2533\n",
            "Mising values Text: 0\n"
          ],
          "name": "stdout"
        },
        {
          "output_type": "display_data",
          "data": {
            "image/png": "[encoded data removed]",
            "text/plain": [
              "<Figure size 432x288 with 1 Axes>"
            ]
          },
          "metadata": {
            "tags": [],
            "needs_background": "light"
          }
        }
      ]
    },
    {
      "cell_type": "markdown",
      "metadata": {
        "id": "SDOs_OFW9aGd",
        "colab_type": "text"
      },
      "source": [
        "Exploramos el campo ***location***, para conocer su contenido y ver si puede ser relevante."
      ]
    },
    {
      "cell_type": "markdown",
      "metadata": {
        "id": "eVVajD9E9aGe",
        "colab_type": "text"
      },
      "source": [
        "Me interesa conocer si hay algun patron que indique si hay alguna relacion en el hecho de que se incluya la localizaión o no. Comprobamos que no, ya que en ambos, la proporcion de tweets con ese campo nulo es la misma."
      ]
    },
    {
      "cell_type": "code",
      "metadata": {
        "trusted": true,
        "id": "Jkumyieh9aGf",
        "colab_type": "code",
        "outputId": "a5fa2f52-bc91-41f4-c140-05d84bc787c1",
        "colab": {
          "base_uri": "https://localhost:8080/",
          "height": 51
        }
      },
      "source": [
        "print('Proportion of tweets with null location in real disasters:',X[X['target'] == 1]['location'].isnull().sum()/X[X.target == 1].shape[0])\n",
        "print('Proportion of tweets with null location in fake disasters:',X[X['target'] == 0]['location'].isnull().sum()/X[X.target == 0].shape[0])"
      ],
      "execution_count": 0,
      "outputs": [
        {
          "output_type": "stream",
          "text": [
            "Proportion of tweets with null location in real disasters: 0.32864567410577805\n",
            "Proportion of tweets with null location in fake disasters: 0.33578995854444954\n"
          ],
          "name": "stdout"
        }
      ]
    },
    {
      "cell_type": "code",
      "metadata": {
        "trusted": true,
        "id": "RqZ36DjA9aGl",
        "colab_type": "code",
        "outputId": "d447cad9-7ed1-41de-a4a6-500e1f31a047",
        "colab": {
          "base_uri": "https://localhost:8080/",
          "height": 34
        }
      },
      "source": [
        "values_location = set(X.location.values)\n",
        "print('Different values for location:',len(values_location))"
      ],
      "execution_count": 0,
      "outputs": [
        {
          "output_type": "stream",
          "text": [
            "Different values for location: 3342\n"
          ],
          "name": "stdout"
        }
      ]
    },
    {
      "cell_type": "markdown",
      "metadata": {
        "id": "YlZAa4Gh9aGq",
        "colab_type": "text"
      },
      "source": [
        "Vamos a explorar por encima los valores que tiene este campo. Es importante saber que la herramineta Twitter te permite introducir la localización a mano, por lo que no tiene por qué ser el lugar real desde el cual se envió el tweet."
      ]
    },
    {
      "cell_type": "code",
      "metadata": {
        "trusted": true,
        "id": "nTPnk1Av9aGr",
        "colab_type": "code",
        "outputId": "b5be1c3b-3da2-4a16-fd8f-5a7a92477552",
        "colab": {
          "base_uri": "https://localhost:8080/",
          "height": 1000
        }
      },
      "source": [
        "values_location"
      ],
      "execution_count": 0,
      "outputs": [
        {
          "output_type": "execute_result",
          "data": {
            "text/plain": [
              "{nan,\n",
              " 'Pretoria',\n",
              " 'Macclesfield',\n",
              " 'Bombardment Bay',\n",
              " 'Happily Married with 2 kids ',\n",
              " 'Bossland',\n",
              " 'Corpus Christi, Texas',\n",
              " 'SÌ£o Paulo SP,  Brasil',\n",
              " 'Calgary',\n",
              " 'Darlington',\n",
              " 'North West London',\n",
              " 'Northampton, MA',\n",
              " 'Peshawar',\n",
              " ' BC, US, Asia or Europe.',\n",
              " \"Namjoon's pants\",\n",
              " 'pettyville, usa',\n",
              " 'have car; will travel',\n",
              " 'justin & ari follow || tvd',\n",
              " 'Livonia, MI',\n",
              " 'San Diego, CA',\n",
              " 'Rochester, NY',\n",
              " 'Queensland, Australia',\n",
              " 'Asia',\n",
              " 'Charleston, WV',\n",
              " 'Dutch/English/German',\n",
              " 'Overton NV',\n",
              " 'Skyport de la Rosa',\n",
              " 'Tring ',\n",
              " 'Scotland ',\n",
              " 'nj',\n",
              " 'Milwaukee County',\n",
              " 'fluffy cloud',\n",
              " 'Here, there and everywhere',\n",
              " 'WORLDWI$E ',\n",
              " 'Miami?Gainesville',\n",
              " 'Queens, NY',\n",
              " '#HAMont',\n",
              " '[marvel\\x89Û¢dragon age\\x89Û¢wicdiv]',\n",
              " 'DaKounty, Pa',\n",
              " 'The Web',\n",
              " 'MAD as Hell',\n",
              " 'Calgary, Canada',\n",
              " 'Antigua ?? NYC ',\n",
              " 'Manavadar, Gujarat',\n",
              " 'Seattle',\n",
              " 'NOLA ?? TX',\n",
              " 'Duval, WV 25573, USA ?',\n",
              " 'El Dorado, Arkansas',\n",
              " 'Florida Forever',\n",
              " 'eARth 3',\n",
              " 'Bangkok Thailand',\n",
              " 'WESTSIDE OF PHILLY 7? BLOCK??',\n",
              " 'Coventry',\n",
              " 'a van down by the river',\n",
              " 'Lansing, Michigan',\n",
              " 'Georgia, USA',\n",
              " 'contactSimpleNews@gmail.com',\n",
              " '772 Temperance Permenence',\n",
              " 'California, United States',\n",
              " 'Menasha, WI',\n",
              " 'Light and dark, form and void',\n",
              " 'Elkhart, IN',\n",
              " 'new york',\n",
              " 'Charter Member of the VRWC',\n",
              " 'Athens,Greece',\n",
              " 'Southern Califorina',\n",
              " 'buhh',\n",
              " 'Lagos Nigeria',\n",
              " 'New York, NY',\n",
              " 'At your back',\n",
              " 'los angeles, ca',\n",
              " 'london town..',\n",
              " 'ANYWEHERE !!',\n",
              " 'Asgard',\n",
              " 'London/New York',\n",
              " 'Olympia, WA',\n",
              " 'oman muscat al seeb ',\n",
              " 'St Louis, MO',\n",
              " 'Kuala Lumpur',\n",
              " '? ',\n",
              " 'Washington',\n",
              " 'ayr',\n",
              " 'Melbourne, FL',\n",
              " 'Nashua NH',\n",
              " 'probably not home',\n",
              " 'Nigeria, WORLDWIDE',\n",
              " 'Peterborough, Ont.',\n",
              " 'Piedmont Area, North Carolina',\n",
              " 'call me peach or sam lo',\n",
              " 'china',\n",
              " 'A small federal enclave',\n",
              " 'A little house in the outback.',\n",
              " 'å_å_Los Mina City\\x89ã¢',\n",
              " 'Somewhere Out There',\n",
              " 'Den Helder, Rijkswerf',\n",
              " 'Halifax, Nova Scotia',\n",
              " 'Harlingen, TX',\n",
              " 'labyrinthia',\n",
              " 'philly',\n",
              " 'London.',\n",
              " 'ÌÏT: 6.4682,3.18287',\n",
              " 'Iliff,Colorado  ',\n",
              " 'IG : Sincerely_TSUNAMI',\n",
              " 'LONG ISLAND, NY',\n",
              " 'Maldives',\n",
              " 'MA',\n",
              " 'lugo',\n",
              " 'Chicopee MA',\n",
              " 'Greensburg, PA',\n",
              " 'At Work',\n",
              " 'Fresno',\n",
              " 'Melbourne, Florida',\n",
              " 'East Atlanta, Georgia',\n",
              " 'Pocatello, Idaho',\n",
              " 'T-Ville',\n",
              " 'Layang-Layang, Perak',\n",
              " 'Still. ??S.A.N.D.O.S??',\n",
              " 'Pleasanton, CA',\n",
              " 'Shipwreck Cove',\n",
              " 'The Desert of the Real',\n",
              " 'Sunshine Coast, Queensland',\n",
              " 'kediri,,jawa timur',\n",
              " 'PDX',\n",
              " 'AUS',\n",
              " 'The Howling',\n",
              " 'Colchester Essex ',\n",
              " 'Arundel ',\n",
              " 'Sylacauga, Alabama',\n",
              " 'maryland',\n",
              " 'eBooks, North America',\n",
              " 'Gotham',\n",
              " 'peekskill. new york, 10566 ',\n",
              " 'Nowhere. Everywhere.',\n",
              " 'Unites States',\n",
              " 'Vancouver',\n",
              " 'Durham, NC',\n",
              " 'fl',\n",
              " 'belleville',\n",
              " 'Purfleet',\n",
              " 'Hawthorne, NE',\n",
              " ' Baku & Erzurum ',\n",
              " 'Morganville, Texas.',\n",
              " 'Central Florida',\n",
              " 'Okuma Town, Fukushima',\n",
              " 'El Dorado, KS',\n",
              " 'Antioch, CA ',\n",
              " 'Hermosa Beach, CA',\n",
              " 'Quito, Ecuador.',\n",
              " 'Campinas Sp',\n",
              " 'Vancouver, BC, Canada',\n",
              " 'keli x',\n",
              " 'Traverse City, MI',\n",
              " 'Brasil, Fortaleza ce',\n",
              " 'Trinity, Bailiwick of Jersey',\n",
              " '?@symbolicjensen?',\n",
              " 'Bleak House',\n",
              " 'Pakistan, Islamabad',\n",
              " 'Michigan ',\n",
              " 'Beaumont, TX',\n",
              " 'Kansas City, MO',\n",
              " 'Newcastle',\n",
              " 'Reading MA',\n",
              " 'Napa, CA',\n",
              " 'Loughborough.',\n",
              " 'Principality of Zeron',\n",
              " 'Washington, D.C.',\n",
              " 'Thailand Malaysia Indonesia ',\n",
              " 'TN',\n",
              " 'Cloud 9',\n",
              " 'Pelham, AL',\n",
              " 'Houston, Texas ! ',\n",
              " 'Tractor land aka Bristol',\n",
              " 'Cumming, GA',\n",
              " 'Eldoret, kenya',\n",
              " 'Hillsville/Lynchburg, VA',\n",
              " 'Edinburgh',\n",
              " 'Rogersville, MO',\n",
              " 'nap queen',\n",
              " 'Saltillo, Coahuila de Zaragoza',\n",
              " 'Hampton Roads, VA',\n",
              " 'Planet Earth',\n",
              " 'Ad Majorem Dei Glorium',\n",
              " 'Third rock from the Sun',\n",
              " 'UK,singer,songwriter,?2 act',\n",
              " 'ÌÏT: 10.614817868480726,12.195582811791382',\n",
              " 'CT, USA',\n",
              " 'Walthamstow, London',\n",
              " 'West Bank, Gaza Strip',\n",
              " 'North Vancouver, BC',\n",
              " 'W.I.T.S Academy',\n",
              " 'Oregon and Washington',\n",
              " '10 Steps Ahead.  Cloud 9',\n",
              " 'Nicoma Park, OK',\n",
              " 'New York City ,NY',\n",
              " 'Memphis, in the Tennessees',\n",
              " '2,360 miles away',\n",
              " 'USA , AZ',\n",
              " '253',\n",
              " 'Florida but I wanna be n Texas',\n",
              " 'Leeds, United Kingdom',\n",
              " 'Bucks County, Pa',\n",
              " '????s ?? ????Ìø????Ì¡a',\n",
              " 'I-75 in Florida',\n",
              " 'From a torn up town MANCHESTER',\n",
              " 'Ely, Cambridgeshire',\n",
              " 'wherever the $$$ at',\n",
              " 'Toronto, ON, Canada',\n",
              " 'SEA Server',\n",
              " 'the road to success',\n",
              " 'District of Gentrification/ DC',\n",
              " 'santo domingo',\n",
              " 'Fashion Heaven. IG: TMId_',\n",
              " 'cereal aisle #17:i4',\n",
              " 'U.S.A',\n",
              " 'Palma, Islas Baleares',\n",
              " 'Jupiter',\n",
              " 'Phila.',\n",
              " '92',\n",
              " 'Austin, TX',\n",
              " 'London, United Kingdom',\n",
              " 'Nakhon Si Thammarat',\n",
              " 'Dallas, TX ',\n",
              " 'Lansdale,Pennsylvania',\n",
              " 'Belbroughton, England',\n",
              " 'toledo',\n",
              " '1648 Queen St. West, Toronto.',\n",
              " 'Oakland, CA',\n",
              " 'MÌ©rida, YucatÌÁn',\n",
              " 'U.S.A.   FEMA Region 5',\n",
              " 'Toronto, Worldwide ',\n",
              " 'New York / Worldwide',\n",
              " 'Liverpool',\n",
              " 'Columbus ?? North Carolina',\n",
              " 'Waialua, Hawaii',\n",
              " 'Sligo and Galway, Ireland',\n",
              " 'Paignton',\n",
              " 'Gold Coast, Qld, Australia',\n",
              " 'South Asia',\n",
              " 'austin, texas',\n",
              " 'Somerset, UK',\n",
              " 'Central Coast, California',\n",
              " 'EIC',\n",
              " 'Play For Ryan ??',\n",
              " 'New Britain, CT',\n",
              " 'Hawaii USA',\n",
              " 'Konoha',\n",
              " 'Amarillo',\n",
              " 'calgary,ab',\n",
              " 'Mississauga, Ontario',\n",
              " '19.600858, -99.047821',\n",
              " 'Near Yosemite',\n",
              " 'New York, United States',\n",
              " 'Macon, Georgia',\n",
              " 'Hogwarts',\n",
              " 'West Vancouver, B.C.',\n",
              " 'U.S. Northern Virginia',\n",
              " 'Freddy Fazbears pizzeria',\n",
              " 'italy',\n",
              " 'Birmingham',\n",
              " 'Watch Those Videos -',\n",
              " 'Southern California',\n",
              " 'Cape Cod',\n",
              " 'Ashburn, VA',\n",
              " 'North East / Middlesbrough ',\n",
              " '#WashingtonState #Seattle',\n",
              " 'Gloucester',\n",
              " 'Online 24/7. Not even kidding.',\n",
              " 'Baton Rouge, LA',\n",
              " 'Denver, CO',\n",
              " 'Chippenham/Bath, UK',\n",
              " 'Detroit Tigers Dugout',\n",
              " 'HI\\x89Û¢UT\\x89Û¢AS',\n",
              " 'Saudi Arabia',\n",
              " 'Charlotte, NC',\n",
              " 'Own planet!!',\n",
              " 'Novi, MI',\n",
              " 'kano',\n",
              " 'Jacksonville Beach, FL',\n",
              " 'Londonstan',\n",
              " 'Bedford IN ',\n",
              " 'Kabul, Tuebingen, Innsbruck',\n",
              " \"Sharkatraz/Bindle's Cleft, PA\",\n",
              " 'Perenjori, WA',\n",
              " 'Whiterun, Skyrim',\n",
              " 'Hamilton, Ontario CA',\n",
              " 'MNL',\n",
              " '73101',\n",
              " 'Cosmic Oneness',\n",
              " 'Bloomington, Indiana',\n",
              " '  Glasgow ',\n",
              " 'Holly, MI',\n",
              " 'Ireland',\n",
              " 'Mountains',\n",
              " 'New Brunswick, NJ',\n",
              " 'Wales, United Kingdom',\n",
              " 'iTunes',\n",
              " 'Calgary, AB',\n",
              " 'Pontevedra, Galicia',\n",
              " '#ForeverWithBAP 8 ',\n",
              " 'Redondo Beach, CA',\n",
              " 'New Delhi',\n",
              " 'Hong Kong',\n",
              " 'Burlington, VT',\n",
              " 'Portland, Oregon',\n",
              " 'icon: cheese3d',\n",
              " 'Rockford, IL',\n",
              " 'Clean World',\n",
              " 'Books Published, USA',\n",
              " 'Suva, Fiji Islands.',\n",
              " '|| c h i c a g o ||',\n",
              " 'Some other mansion',\n",
              " 'Cimerak - Pangandaran',\n",
              " 'British girl in Texas',\n",
              " 'Otsego, MI',\n",
              " 'Murray Hill, New Jersey',\n",
              " 'Mongolia',\n",
              " 'Stalybridge, Tameside',\n",
              " 'Dudetown',\n",
              " 'Port Harcourt, Nigeria',\n",
              " 'Your screen',\n",
              " 'Huntsville, AL',\n",
              " 'Wiltshire',\n",
              " 'Conroe, TX',\n",
              " 'Ellensburg to Spokane',\n",
              " 'Rafael castillo',\n",
              " 'Elsewhere, NZ',\n",
              " 'mnl',\n",
              " 'London, Kent & SE England.',\n",
              " 'PG Chillin!',\n",
              " 'ÌÏT: -26.695807,27.837865',\n",
              " 'Bangalore. India',\n",
              " 'Antarctica',\n",
              " 'Milwaukee WI',\n",
              " 'Victoria, Canada',\n",
              " 'Crayford, London',\n",
              " 'Itirapina, SÌ£o Paulo',\n",
              " 'SoCal',\n",
              " 'Sunnyvale, CA',\n",
              " 'ATX',\n",
              " '204, 555 11 Ave. S.W.',\n",
              " 'SE London(heart is by the sea)',\n",
              " 'Newcastle Upon Tyne, England',\n",
              " 'Fukuoka, Japan',\n",
              " 'Cape Town, Khayelitsha',\n",
              " 'In a crazy genius mind',\n",
              " 'Kuala Lumpur, Malaysia',\n",
              " 'The Empire/First Order',\n",
              " 'Harpurhey, Manchester, UK',\n",
              " 'London, Riyadh',\n",
              " 'Waddesdon',\n",
              " 'PARACHUTE',\n",
              " 'The Triskelion',\n",
              " 'BiÌ±an,Laguna',\n",
              " 'Castaic, CA',\n",
              " 'Catskills',\n",
              " 'South, USA',\n",
              " 'N. California USA',\n",
              " 'Oshawa/Toronto',\n",
              " 'Milton Keynes, England',\n",
              " ' New Delhi ',\n",
              " 'Saint Paul',\n",
              " 'Miami, FL',\n",
              " 'Gainesville, FL',\n",
              " 'Center for Domestic Preparedness',\n",
              " 'Toronto-Citizen of Canada & US',\n",
              " 'Argentina',\n",
              " 'EastCarolina',\n",
              " 'Anaheim',\n",
              " ' Miami Beach',\n",
              " '  Melbourne, Australia',\n",
              " 'Glasgow, Scotland',\n",
              " 'Dorset, UK',\n",
              " 'Rock Springs, WY',\n",
              " '#RedSoxNation',\n",
              " 'Frostburg',\n",
              " 'Queensland',\n",
              " 'Stowmarket',\n",
              " 'khanna',\n",
              " 'Gaborone, Botswana',\n",
              " 'LITTLETON, CO, USA, TERRAN',\n",
              " '?205?478?',\n",
              " 'Vancouver, Canada',\n",
              " '5/5 access / rt link please x',\n",
              " 'Alberta | Sask. | Montana',\n",
              " 'Christchurch New Zealand',\n",
              " 'Isolated City In World Perth',\n",
              " 'Sacramento, California',\n",
              " 'The green and pleasant land.',\n",
              " 'ducked off . . . ',\n",
              " 'Bon Temps Louisiana',\n",
              " 'Vancouver, BC',\n",
              " 'Fort Calhoun, NE',\n",
              " 'Oklahoma, USA',\n",
              " 'Rotterdam, Zuid-Holland',\n",
              " 'Where the money at',\n",
              " 'Delhi ',\n",
              " 'Kernow',\n",
              " 'ÌÏT: 0.0,0.0',\n",
              " 'he/him or she/her (ask)',\n",
              " 'Bishops Stortford, England',\n",
              " 'å_: ?? ÌÑ ? : ?',\n",
              " 'sneaking glances at Thancred',\n",
              " 'Perth, Australia',\n",
              " 'Concord, CA',\n",
              " 'Atlanta Georgia',\n",
              " 'St. Louis Mo.',\n",
              " 'Pompano Beach, FL',\n",
              " 'Virginia, USA',\n",
              " 'Iowa, USA',\n",
              " 'World',\n",
              " 'st.louis county missouri ',\n",
              " 'Atlanta',\n",
              " 'Albuquerque New Mexico',\n",
              " 'Bartholomew County, Indiana',\n",
              " 'Brisbane, Queensland',\n",
              " 'Vancouver, British Columbia',\n",
              " 'Missouri, USA',\n",
              " 'GLOBAL',\n",
              " 'The Grey Area',\n",
              " 'Essex/Brighton',\n",
              " 'Marysville, MI',\n",
              " '??????? ??????? ????????',\n",
              " 'elizabeth king',\n",
              " 'IN our hearts  Earth Global ',\n",
              " 'Anderson, SC',\n",
              " 'Cochrane, Alberta, Canada',\n",
              " '#PhanTrash',\n",
              " 'Fife, WA',\n",
              " 'Melbourne-ish',\n",
              " 'NYC&NJ',\n",
              " 'south of heaven ',\n",
              " 'PunPunlÌ¢ndia',\n",
              " 'New York, NY ',\n",
              " 'Inverness, Nova Scotia',\n",
              " 'Weyburn',\n",
              " 'bahstun/porta reeko',\n",
              " 'Paonia, Colorado ',\n",
              " 'Islamabad',\n",
              " 'Boulder',\n",
              " '3?3?7?SLOPelousas??2?2?5?',\n",
              " 'Tripsburg, ms.',\n",
              " 'Nicola Valley',\n",
              " 'Ottawa, Ontario',\n",
              " 'Winston Salem, North Carolina',\n",
              " 'Chicago, Illinois',\n",
              " '#SOUTHAMPTON ENGLAND',\n",
              " 'Waco TX',\n",
              " 'Jamaica',\n",
              " 'Nottingham, England',\n",
              " 'Canberra, Australian Capital Territory',\n",
              " 'Banbridge',\n",
              " 'County Durham, United Kingdom',\n",
              " 'BrowardCounty // Florida ',\n",
              " 'Moore, OK',\n",
              " '{Detailed}',\n",
              " 'Pro-American and Anti-#Occupy',\n",
              " 'Kicking Horse Pass',\n",
              " 'Lake Highlands',\n",
              " 'Leeds, U.K.',\n",
              " 'Liberty Township, Ohio',\n",
              " 'Santo Domingo Alma Rosa ',\n",
              " 'Laventillemoorings ',\n",
              " 'Norwalk, CT',\n",
              " '3???2???????',\n",
              " 'Turkmenistan',\n",
              " 'East Aurora, NY',\n",
              " 'Some pum pum',\n",
              " 'Chandler, AZ',\n",
              " 'Mogadishu, Somalia',\n",
              " 'Philadelphia, Pennsylvania USA',\n",
              " 'DFW, Texas',\n",
              " 'london',\n",
              " 'Brasil,SP',\n",
              " 'Aurora, Ontario ',\n",
              " 'Absecon, NJ',\n",
              " 'Jammu and Kashmir',\n",
              " 'antoine fisher ',\n",
              " 'Your Conversation',\n",
              " 'St.Cloud, MN',\n",
              " 'Atlanta g.a.',\n",
              " 'ÌÏT: 41.252426,-96.072013',\n",
              " '(Spain)',\n",
              " 'Arvada, CO',\n",
              " 'Florida',\n",
              " 'Alberta ',\n",
              " 'Cascadia',\n",
              " 'North Carolina ',\n",
              " 'Viejo',\n",
              " 'Quincy MA',\n",
              " 'Le Memenet',\n",
              " 'Frisco, TX',\n",
              " 'sisterhood',\n",
              " 'Sugarhouse, UT',\n",
              " 'Augusta, GA',\n",
              " 'Htx',\n",
              " 'Toledo, OH',\n",
              " 'Birmingham and the Marches',\n",
              " 'Wilmington, DE',\n",
              " 'Pittsburgh',\n",
              " 'Milton Keynes ',\n",
              " 'Long Island',\n",
              " 'Raleigh, NC',\n",
              " 'Elchilicitanierraversal ',\n",
              " 'Kenya',\n",
              " 'Somewhere ',\n",
              " 'Los Angeles for now',\n",
              " 'Colorado, USA',\n",
              " 'Around the world',\n",
              " 'Las Vegas, NV USA',\n",
              " 'Alberta, VA',\n",
              " 'Victoria, Tx.',\n",
              " 'Deadend, UK',\n",
              " 'Spying on your thoughts',\n",
              " 'Hackney, London',\n",
              " 'July 11th, 2015. ?',\n",
              " 'austin tx',\n",
              " 'Jubail IC, Saudi Arabia.',\n",
              " 'Erbil',\n",
              " 'ilford',\n",
              " 'Spring Tx',\n",
              " 'Statute Of Limitations_',\n",
              " 'West Wales',\n",
              " 'Hamilton, ON',\n",
              " 'Hyrule',\n",
              " 'Madrid',\n",
              " '\\x89Û¢ Views From The Six \\x89Û¢',\n",
              " 'New York City',\n",
              " 'Kuwait',\n",
              " 'Venezuela',\n",
              " 'SÌ£o Paulo, Brasil',\n",
              " 'Coolidge, AZ',\n",
              " 'Island Lake, IL',\n",
              " 'Guelph Ontario Canada',\n",
              " 'South africa',\n",
              " 'Sunrise Manor, NV',\n",
              " 'Dover, DE',\n",
              " '3rd Eye Chakra',\n",
              " 'EspaÌ±a',\n",
              " 'Cobblestone',\n",
              " 'Washington D.C.',\n",
              " 'CLT',\n",
              " 'facebook.com/tradcatknights',\n",
              " 'Louisiana',\n",
              " 'Los Angeles ',\n",
              " 'Financial News and Views',\n",
              " 'va',\n",
              " 'Vineyard',\n",
              " 'Los Angeles, California',\n",
              " 'US, PA',\n",
              " 'Roaming around the world',\n",
              " 'Wakefield, West Yorkshire',\n",
              " ' Eugene, Oregon',\n",
              " 'My mind is my world',\n",
              " 'Halton Region',\n",
              " 'Bayonne, NJ',\n",
              " 'Alicante, Valencia',\n",
              " 'Italy',\n",
              " 'Port Williams NS',\n",
              " 'The TARDIS',\n",
              " 'Uyo, Akwa Ibom State, Nigeria',\n",
              " 'Semarang, Indonesia',\n",
              " 'Western New York',\n",
              " 'Peoria',\n",
              " 'Niagara Falls, Ontario',\n",
              " 'Karachi',\n",
              " 'South Central Wales',\n",
              " 'Carterville',\n",
              " 'Decatur, GA',\n",
              " 'Charlotte NC',\n",
              " 'ATL, GA',\n",
              " 'Manila City',\n",
              " 'St Joseph de Beauce',\n",
              " 'Ohio',\n",
              " 'Madison, Wisconsin, USA',\n",
              " 'Harper Woods, MI',\n",
              " 'Dundas, Ontario',\n",
              " 'THE 6IX',\n",
              " 'Cherry Creek Denver CO',\n",
              " '????? ???? ????',\n",
              " 'Riverside, CA',\n",
              " 'on twitter ',\n",
              " 'Nevada, USA',\n",
              " 'Istanbul',\n",
              " 'Edmonton, Alberta',\n",
              " 'livin life in the 610',\n",
              " 'NY || live easy? ',\n",
              " 'on a catwalk somewhere',\n",
              " \"Jakarta/Kuala Lumpur/S'pore\",\n",
              " 'Trapped in my Conscience ',\n",
              " 'Docker container',\n",
              " 'Israel',\n",
              " 'Albany/NY',\n",
              " 'Hollywood',\n",
              " 'my house',\n",
              " 'Leeds',\n",
              " 'Poconos',\n",
              " 'Hertfordshire ',\n",
              " 'London, UK',\n",
              " 'Wyoming, MI (Grand Rapids)',\n",
              " 'Cuernavaca, Morelos, MÌ©xico.',\n",
              " 'The North',\n",
              " 'Fairfax, VA',\n",
              " 'bangalore',\n",
              " 'im definitely taller than you.',\n",
              " 'The Netherlands',\n",
              " 'playing soccer & eating pizza',\n",
              " 'Cottonwood Arizona',\n",
              " 'nc',\n",
              " 'White Plains, NY',\n",
              " '?????????????, Thailand ',\n",
              " '#expelcl*y',\n",
              " '?^åá??åá?^?? ??',\n",
              " 'Miami,Fla',\n",
              " 'jayankondacholapuram.tamilnadu',\n",
              " 'Adelaide, Australia',\n",
              " 'ny',\n",
              " 'Copenhagen, Capital Region of Denmark',\n",
              " '#GDJB #ASOT',\n",
              " '261 5th Avenue New York, NY ',\n",
              " 'The Forever Girl',\n",
              " 'In Hell',\n",
              " 'Bozeman, Montana',\n",
              " 'twitch.tv/naturalemblem26',\n",
              " 'Inglewood, CA',\n",
              " 'Paris, France',\n",
              " 'Jaipur, Rajasthan, India',\n",
              " 'West Africa',\n",
              " 'Hilton Head, SC  ',\n",
              " '???????????',\n",
              " 'Fort Worth,  Texas ',\n",
              " 'honeymoon avenue',\n",
              " 'The Sanctuary Network, Rome',\n",
              " 'Massachusetts ',\n",
              " 'Subconscious LA',\n",
              " 'Trinidad & Tobago',\n",
              " 'Chicago, Il',\n",
              " 'Above the snake line - #YoNews',\n",
              " 'Aveiro, Portugal',\n",
              " 'Philadelphia, PA ',\n",
              " 'åø\\\\_(?)_/åø',\n",
              " 'Richmond Heights, OH',\n",
              " 'Himalayan Mountains',\n",
              " 'Upstate New York',\n",
              " 'Surulere Lagos,Home Of Swagg',\n",
              " 'Highland Park, CA',\n",
              " 'i luv raquel',\n",
              " 'SURROUNDED BY WEEABOOS',\n",
              " 'In The Mansion',\n",
              " 'In the spirit world',\n",
              " 'africa',\n",
              " '??+ ... ??+',\n",
              " 'Somecity, Somerset, MD',\n",
              " 'Aix-en-Provence, France',\n",
              " 'Top Secret',\n",
              " 'Virgo Supercluster',\n",
              " 'London/Surrey ',\n",
              " 'Aperture Science Test Facility',\n",
              " 'hyderabad',\n",
              " 'Leicester, England',\n",
              " 'Lives in London',\n",
              " 'world',\n",
              " 'All around the world',\n",
              " \"wherever there's netflix\",\n",
              " 'A sofa',\n",
              " 'portland, oregon',\n",
              " 'Clearwater, FL',\n",
              " 'Lagos',\n",
              " 'North Carolina',\n",
              " 'EARTH ',\n",
              " 'Lucknow, India',\n",
              " 'Wakefield MA',\n",
              " 'St Paul, MN',\n",
              " 'Birmingham & Bristol',\n",
              " 'Hudson Valley, NY',\n",
              " 'London/Bristol/Guildford',\n",
              " 'Palm Desert, CA',\n",
              " 'Palm Bay, FL (Kissimmee)',\n",
              " 'St. Louis',\n",
              " 'Zero Branco',\n",
              " 'Jackson, MS',\n",
              " 'WorldWideWeb',\n",
              " 'Manchester, UK',\n",
              " 'milky way',\n",
              " 'Charlotte, North Carolina',\n",
              " 'Terre Haute, IN',\n",
              " 'Hell',\n",
              " 'cody, austin follows ?*?',\n",
              " 'Charlottetown',\n",
              " 'New Orleans, Louisiana',\n",
              " 'Nashville, Tennessee',\n",
              " 'Melton, GA',\n",
              " 'Arthas US',\n",
              " 'Lynchburg, VA',\n",
              " 'PURPLE BOOTH STUDIO\\x89ã¢',\n",
              " 'Wonderland\\x89ÛÓ ?????? ???? ??????',\n",
              " 'Woodcreek HS, Roseville, CA',\n",
              " 'ÌÏT: 19.123127,72.825133',\n",
              " 'Slappin and Smackin ',\n",
              " 'everywhere ',\n",
              " 'South Florida',\n",
              " 'Thibodaux, LA',\n",
              " 'zboyer@washingtontimes.com',\n",
              " 'Louisville, KY',\n",
              " 'Los Angeles, CA',\n",
              " 'Minneapolis,MN,US',\n",
              " 'SEC Country',\n",
              " '316',\n",
              " 'melbourne',\n",
              " 'ÌÏT: 27.9136024,-81.6078532',\n",
              " 'Wild Wild Web',\n",
              " 'ATL ??',\n",
              " 'Swaning Around',\n",
              " 'ATLANTA , GEORGIA ',\n",
              " 'nowhere',\n",
              " 'Honduras',\n",
              " 'Kaneohe',\n",
              " 'Wilbraham, MA',\n",
              " 'Sacramento, CA',\n",
              " 'Cleveland, OH',\n",
              " 'BROKE NIGGAS DREAM!!',\n",
              " 'Astley, Manchester',\n",
              " 'they/them ',\n",
              " 'high way 99',\n",
              " 'A Hoop Somewhere',\n",
              " 'Karachi, Pakistan',\n",
              " 'Somewhere with Clyde',\n",
              " 'Mo.City',\n",
              " 'Oakland',\n",
              " '2B Hindhede Rd, Singapore',\n",
              " 'Tampa',\n",
              " 'BIG D  HOUSTON/BOSTON/DENVER',\n",
              " 'D.C. - Baltimore - Annapolis',\n",
              " 'H / pez & sophia ',\n",
              " 'OES 4th Point. sisSTAR & TI',\n",
              " 'Queen Creek AZ',\n",
              " 'Washington, DC',\n",
              " 'London / Berlin / Online',\n",
              " 'LiÌ¬ge',\n",
              " 'Location',\n",
              " 'Republica Dominicana',\n",
              " 'Bellevue NE',\n",
              " 'Leicester',\n",
              " 'Sutton, London UK',\n",
              " 'NC || OR',\n",
              " 'Gander NF',\n",
              " 'Brazil',\n",
              " 'WORLDWIDE!',\n",
              " 'Port Charlotte, FL',\n",
              " 'Orlando',\n",
              " 'Auburn, AL',\n",
              " 'Jerusalem!',\n",
              " 'Fort Lauderdale, FL',\n",
              " \"elena's bed // info on link\",\n",
              " 'ph',\n",
              " 'Weston super mare',\n",
              " 'SÌ£o Paulo',\n",
              " 'NEW YORK',\n",
              " 'New York 2099',\n",
              " 'somewhere in cali ',\n",
              " 'Beside Basketball',\n",
              " 'Johannesburg, South Africa',\n",
              " 'Instagram - @heyimginog ',\n",
              " 'Sydney, Australia',\n",
              " \"St. Patrick's Purgatory\",\n",
              " 'Lethbridge, AB, Canada',\n",
              " 'Boston',\n",
              " 'Miami',\n",
              " 'Dhaka',\n",
              " 'New Jersey, usually',\n",
              " 'Montgomery, AL',\n",
              " 'Ontario, Canada. ',\n",
              " 'Ontario, Canada',\n",
              " 'Trinidad and Tobago',\n",
              " 'Nowhere Islands/Smash Manor',\n",
              " 'Haiku, Maui, Hawaii',\n",
              " 'Tulsa, Oklahoma',\n",
              " 'in my own personal hell (:',\n",
              " 'Anna Maria, FL',\n",
              " '801 SL,UT',\n",
              " 'Texas ',\n",
              " 'Enfield, UK',\n",
              " 'Patra-Greece.',\n",
              " 'Queens New York',\n",
              " 'Moscow',\n",
              " 'Nairobi, Kenya ',\n",
              " 'LIVERPOOL',\n",
              " 'Nirvana',\n",
              " 'America',\n",
              " \"Niall's arms\",\n",
              " 'planeta H2o',\n",
              " 'NY Capital District',\n",
              " 'Tyler, TX',\n",
              " 'Madrid, Comunidad de Madrid',\n",
              " 'San Juan, Puerto Rico',\n",
              " 'Portsmouth, UK',\n",
              " 'SaudI arabia - riyadh ',\n",
              " 'Dhaka, Bangladsh',\n",
              " 'gamertag: bexrayandvav ',\n",
              " 'Selena | Britney | Hilary',\n",
              " ' Alberta',\n",
              " '518',\n",
              " 'Bug Forest',\n",
              " 'Justin and Ariana follow',\n",
              " 'PSA Nursing ',\n",
              " 'Bristol',\n",
              " 'MontrÌ©al, QuÌ©bec',\n",
              " 'Iraq|Afghanistan| RSA |Baghdad',\n",
              " '1D | 5SOS | AG',\n",
              " 'MI - CA',\n",
              " 'Manila',\n",
              " 'MI,USA',\n",
              " 'MD',\n",
              " '65',\n",
              " 'Earth, Milky Way, Universe',\n",
              " 'Salt Lake City, UT',\n",
              " 'Hampshire, UK',\n",
              " 'BOSTON-LONDON',\n",
              " 'Nice places ',\n",
              " 'CORNFIELDS',\n",
              " 'nigeria',\n",
              " 'I O W A',\n",
              " 'ÌÏT: 43.631838,-79.55807',\n",
              " 'Dammam- KSA',\n",
              " 'Gwersyllt, Wales',\n",
              " 'English Midlands',\n",
              " 'Cambridge, Massachusetts, U.S.',\n",
              " 'Innerhalb der LÌ_cke',\n",
              " 'Concord, NH ',\n",
              " 'Hope Road, Jamaica ',\n",
              " 'NEWCASTLE',\n",
              " 'The Epicenter, and Beyond',\n",
              " '(he/him)',\n",
              " '05/04/2014 18:23 ?',\n",
              " 'Illinois',\n",
              " 'seattle wa',\n",
              " 'Greater Los Angeles Bearia',\n",
              " 'Santiago de Chile',\n",
              " 'I rap to burn shame.',\n",
              " 'Charleston, IL',\n",
              " '1313 W.Patrick St, Frederick',\n",
              " 'California, USA',\n",
              " 'they/her',\n",
              " 'Homs- Syria',\n",
              " 'peshawar pakistan ',\n",
              " 'Near Warrington',\n",
              " 'ÌÏT: 33.209923,-87.545328',\n",
              " '#goingdownthetoilet Illinois',\n",
              " 'St PetersburgFL',\n",
              " 'hollywoodland ',\n",
              " 'Ted&Qz Inc, Ireland, Europe',\n",
              " 'North Ferriby, East Yorkshire',\n",
              " 'Worldwide.',\n",
              " 'Shanghai',\n",
              " 'Long Island, NY',\n",
              " 'Helsinki, Finland',\n",
              " 'Dunwoody, GA',\n",
              " 'North Port, FL',\n",
              " 'worldwide',\n",
              " 'Na waffi',\n",
              " 'Prehistoric Earth',\n",
              " 'Im In Route ',\n",
              " 'ÌÏT: 42.910975,-78.865828',\n",
              " ' Nxgerxa',\n",
              " 'New Delhi, India',\n",
              " 'Groton, CT',\n",
              " 'In a graveyard ',\n",
              " 'Paname City',\n",
              " 'Desde Republica Argentina',\n",
              " 'Mexico! ^_^',\n",
              " 'NJ/NY/NM/NE/ND',\n",
              " 'California or Colorado',\n",
              " 'Ventura, Ca',\n",
              " 'The Waystone Inn',\n",
              " 'Not Of This World',\n",
              " 'antioch, california',\n",
              " 'Calgary,AB, Canada',\n",
              " 'Harlem, NY or Chocolate City',\n",
              " 'FCT, Abuja ',\n",
              " 'Lake Monticello, VA',\n",
              " 'Warri',\n",
              " 'Colonial Heights, VA',\n",
              " 'Benedict College',\n",
              " 'Very SW CA, USA....Draenor',\n",
              " '46.950109,7.439469',\n",
              " 'Thane',\n",
              " 'Photo : Blue Mountains ',\n",
              " 'home ',\n",
              " 'Welt',\n",
              " 'Quilmes , Arg',\n",
              " 'FLYEST HIPPIE YOU KNOW ',\n",
              " 'Kokomo, In',\n",
              " 'lrhcthband;four - bournemouth',\n",
              " 'Switzerland',\n",
              " 'City Of Joy',\n",
              " 'Diamondville',\n",
              " 'Yadkinville, NC',\n",
              " 'Silang, Cavite / ParaÌ±aque',\n",
              " 'Bangalore, INDIA',\n",
              " 'East Lansing, MI',\n",
              " 'Charlotte, NC | KÌ¦ln, NRW',\n",
              " 'Dimapur',\n",
              " 'buenos aires argentina',\n",
              " 'Visit our  dedicated website @',\n",
              " 'Sherwood, Brisbane, Australia',\n",
              " 'Miami,FL',\n",
              " 'East Kilbride',\n",
              " 'NY, CT & Greece',\n",
              " 'balvanera',\n",
              " 'Calgary, Alberta',\n",
              " 'Afghanistan, USA',\n",
              " 'Planet of da Bathing Apes',\n",
              " 'Galveston, Texas',\n",
              " '\\x89Û¢5\\x89Û¢12\\x89Û¢14\\x89Û¢ | åÈ#SaviourSquadåÇ',\n",
              " 'Newton, NJ 07860',\n",
              " 'Konoha Village',\n",
              " 'Kwajalein/Virginia/Dayton, OH',\n",
              " 'My contac 27B80F7E 08170156520',\n",
              " 'Portage, IN / Worldwide',\n",
              " 'lee london',\n",
              " 'Gameday',\n",
              " 'Rockland County, NY',\n",
              " 'Every Where in the World',\n",
              " 'Gettysburg, PA',\n",
              " 'Kyiv, Ukraine',\n",
              " 'ÌÏT: 36.142163,-95.979189',\n",
              " 'In Space',\n",
              " '#SandraBland',\n",
              " 'I ACCEPT SONG REQUESTS',\n",
              " 'Brentwood,TN',\n",
              " 'Bishops Lydeard, England',\n",
              " 'Santa Clara, CA',\n",
              " 'Made Here In Detroit ',\n",
              " 'Dindigul,TamilNadu.',\n",
              " 'Lahore',\n",
              " 'Vancouver Canada',\n",
              " '1/3 of the blam squad ',\n",
              " 'www.tmgcgart.com',\n",
              " 'Thrissur',\n",
              " 'Fleet/Oxford, UK',\n",
              " 'Jogja, Indonesia Slowly Asia',\n",
              " 'Eastlake, OH',\n",
              " 'Kolkata',\n",
              " 'In my studio',\n",
              " 'Cymru araul',\n",
              " 'the azure cloud',\n",
              " 'Host of #MindMoversPodcast',\n",
              " 'Everett, WA',\n",
              " 'St. Louis, Missouri',\n",
              " 'Huntington, WV',\n",
              " 'Baltimore, MD',\n",
              " 'Ukraine',\n",
              " '??????????? ???????????..? ',\n",
              " 'NYC,US - Cali, Colombia',\n",
              " 'Leeds, England',\n",
              " 'Lancaster, Pennsylvania, USA',\n",
              " '#MayGodHelpUS',\n",
              " 'Big NorthEast Litter Box',\n",
              " 'Rockville, Maryland',\n",
              " 'Jamshedpur, Jharkhand',\n",
              " 'Live4Heed??',\n",
              " 'State College, Pa',\n",
              " ' Bouvet Island',\n",
              " 'Victorville, CA',\n",
              " 'All around the world!',\n",
              " 'Nadiad ,Gujarat , India!!',\n",
              " 'Sand springs oklahoma',\n",
              " 'On the toilet having a dump ',\n",
              " 'Mumbai (India)',\n",
              " 'middle eastern palace',\n",
              " 'Harris County, Texas',\n",
              " 'Geneva',\n",
              " 'Im Around ... Jersey',\n",
              " 'walking the tightrope',\n",
              " 'Seattle, WA',\n",
              " 'Cypress, CA 90630',\n",
              " \"Yuuko-san's shop\",\n",
              " 'Boise, Idaho',\n",
              " 'University Heights, Ohio',\n",
              " 'Fort Walton Beach, Fl',\n",
              " 'La Puente, CA',\n",
              " ' The World',\n",
              " 'Jersey City, New Jersey',\n",
              " 'Birmingham, United Kingdom',\n",
              " 'Amman,Jordan',\n",
              " 'Houston,  TX',\n",
              " 'Havenford',\n",
              " 'Atlanta, GA',\n",
              " 'Voorhees, NJ',\n",
              " 'Honolulu, Hawaii',\n",
              " 'Huntsville AL',\n",
              " 'Mexico City',\n",
              " 'Score Team Goals Buying @',\n",
              " 'The Pig Sty',\n",
              " 'Leaving Bikini Bottom',\n",
              " 'New Jersey, USA',\n",
              " 'london / st catharines ?',\n",
              " \"travelling to tae's pants\",\n",
              " 'Rio',\n",
              " 'Flushing, Queens',\n",
              " 'Maryland ',\n",
              " ...}"
            ]
          },
          "metadata": {
            "tags": []
          },
          "execution_count": 14
        }
      ]
    },
    {
      "cell_type": "code",
      "metadata": {
        "id": "wYgMLPuGEClw",
        "colab_type": "code",
        "outputId": "19956213-2bca-44d8-fd6f-87b47dd93b3f",
        "colab": {
          "base_uri": "https://localhost:8080/",
          "height": 390
        }
      },
      "source": [
        "X[X.target == 0][['location', 'target']].groupby('location').count().sort_values('target',ascending=False).head(10)"
      ],
      "execution_count": 0,
      "outputs": [
        {
          "output_type": "execute_result",
          "data": {
            "text/html": [
              "<div>\n",
              "<style scoped>\n",
              "    .dataframe tbody tr th:only-of-type {\n",
              "        vertical-align: middle;\n",
              "    }\n",
              "\n",
              "    .dataframe tbody tr th {\n",
              "        vertical-align: top;\n",
              "    }\n",
              "\n",
              "    .dataframe thead th {\n",
              "        text-align: right;\n",
              "    }\n",
              "</style>\n",
              "<table border=\"1\" class=\"dataframe\">\n",
              "  <thead>\n",
              "    <tr style=\"text-align: right;\">\n",
              "      <th></th>\n",
              "      <th>target</th>\n",
              "    </tr>\n",
              "    <tr>\n",
              "      <th>location</th>\n",
              "      <th></th>\n",
              "    </tr>\n",
              "  </thead>\n",
              "  <tbody>\n",
              "    <tr>\n",
              "      <th>New York</th>\n",
              "      <td>55</td>\n",
              "    </tr>\n",
              "    <tr>\n",
              "      <th>USA</th>\n",
              "      <td>37</td>\n",
              "    </tr>\n",
              "    <tr>\n",
              "      <th>London</th>\n",
              "      <td>29</td>\n",
              "    </tr>\n",
              "    <tr>\n",
              "      <th>United States</th>\n",
              "      <td>23</td>\n",
              "    </tr>\n",
              "    <tr>\n",
              "      <th>Los Angeles, CA</th>\n",
              "      <td>18</td>\n",
              "    </tr>\n",
              "    <tr>\n",
              "      <th>Canada</th>\n",
              "      <td>16</td>\n",
              "    </tr>\n",
              "    <tr>\n",
              "      <th>Kenya</th>\n",
              "      <td>15</td>\n",
              "    </tr>\n",
              "    <tr>\n",
              "      <th>Everywhere</th>\n",
              "      <td>12</td>\n",
              "    </tr>\n",
              "    <tr>\n",
              "      <th>Florida</th>\n",
              "      <td>11</td>\n",
              "    </tr>\n",
              "    <tr>\n",
              "      <th>UK</th>\n",
              "      <td>11</td>\n",
              "    </tr>\n",
              "  </tbody>\n",
              "</table>\n",
              "</div>"
            ],
            "text/plain": [
              "                 target\n",
              "location               \n",
              "New York             55\n",
              "USA                  37\n",
              "London               29\n",
              "United States        23\n",
              "Los Angeles, CA      18\n",
              "Canada               16\n",
              "Kenya                15\n",
              "Everywhere           12\n",
              "Florida              11\n",
              "UK                   11"
            ]
          },
          "metadata": {
            "tags": []
          },
          "execution_count": 15
        }
      ]
    },
    {
      "cell_type": "code",
      "metadata": {
        "id": "oKmbI5tjGjUq",
        "colab_type": "code",
        "outputId": "f94b89ba-a9f4-4741-b88e-971772b979b6",
        "colab": {
          "base_uri": "https://localhost:8080/",
          "height": 390
        }
      },
      "source": [
        "X[X.target == 1][['location', 'target']].groupby('location').count().sort_values('target',ascending=False).head(10)"
      ],
      "execution_count": 0,
      "outputs": [
        {
          "output_type": "execute_result",
          "data": {
            "text/html": [
              "<div>\n",
              "<style scoped>\n",
              "    .dataframe tbody tr th:only-of-type {\n",
              "        vertical-align: middle;\n",
              "    }\n",
              "\n",
              "    .dataframe tbody tr th {\n",
              "        vertical-align: top;\n",
              "    }\n",
              "\n",
              "    .dataframe thead th {\n",
              "        text-align: right;\n",
              "    }\n",
              "</style>\n",
              "<table border=\"1\" class=\"dataframe\">\n",
              "  <thead>\n",
              "    <tr style=\"text-align: right;\">\n",
              "      <th></th>\n",
              "      <th>target</th>\n",
              "    </tr>\n",
              "    <tr>\n",
              "      <th>location</th>\n",
              "      <th></th>\n",
              "    </tr>\n",
              "  </thead>\n",
              "  <tbody>\n",
              "    <tr>\n",
              "      <th>USA</th>\n",
              "      <td>67</td>\n",
              "    </tr>\n",
              "    <tr>\n",
              "      <th>United States</th>\n",
              "      <td>27</td>\n",
              "    </tr>\n",
              "    <tr>\n",
              "      <th>Nigeria</th>\n",
              "      <td>22</td>\n",
              "    </tr>\n",
              "    <tr>\n",
              "      <th>India</th>\n",
              "      <td>20</td>\n",
              "    </tr>\n",
              "    <tr>\n",
              "      <th>Mumbai</th>\n",
              "      <td>19</td>\n",
              "    </tr>\n",
              "    <tr>\n",
              "      <th>UK</th>\n",
              "      <td>16</td>\n",
              "    </tr>\n",
              "    <tr>\n",
              "      <th>London</th>\n",
              "      <td>16</td>\n",
              "    </tr>\n",
              "    <tr>\n",
              "      <th>New York</th>\n",
              "      <td>16</td>\n",
              "    </tr>\n",
              "    <tr>\n",
              "      <th>Washington, DC</th>\n",
              "      <td>15</td>\n",
              "    </tr>\n",
              "    <tr>\n",
              "      <th>Canada</th>\n",
              "      <td>13</td>\n",
              "    </tr>\n",
              "  </tbody>\n",
              "</table>\n",
              "</div>"
            ],
            "text/plain": [
              "                target\n",
              "location              \n",
              "USA                 67\n",
              "United States       27\n",
              "Nigeria             22\n",
              "India               20\n",
              "Mumbai              19\n",
              "UK                  16\n",
              "London              16\n",
              "New York            16\n",
              "Washington, DC      15\n",
              "Canada              13"
            ]
          },
          "metadata": {
            "tags": []
          },
          "execution_count": 16
        }
      ]
    },
    {
      "cell_type": "markdown",
      "metadata": {
        "id": "rLkhjLfD9aGz",
        "colab_type": "text"
      },
      "source": [
        "Como era previsible, encontramos algunas localizaciones como 'A Hoop Somewhere', 'On the Court' o 'Earth'. Estos ejemplos indican que el valor de este campo no es muy relevante y probablemente no deba ser incluido como una caracteristica en el modelo.\n",
        "\n",
        "**IDEA**: Puede que sera interesante buscar una libreria con localizaciones y comprobar en que tweets la localiazion corresponde con un lugar real. Es posible que si se esta escribiendo un tweet sobre una catastrofe y se incluye la localizacion, esta corresponda con un lugar real. Se podria generar entonces una nueva caracteristica que sustituyera a Location que simplemente si incluye una localizacion real. A tener en cuenta.\n"
      ]
    },
    {
      "cell_type": "markdown",
      "metadata": {
        "id": "vbtmmNal9aG0",
        "colab_type": "text"
      },
      "source": [
        "Exploramos el campo ***keyword***, para conocer su contenido y ver si puede ser relevante. En este caso, me resulta de especial interes conocer el numero de ocasiones en la que un keyword aparece en tweets reales y en tweets fakes."
      ]
    },
    {
      "cell_type": "code",
      "metadata": {
        "trusted": true,
        "id": "9cNjHs2z9aG2",
        "colab_type": "code",
        "outputId": "60f334fa-db75-49a3-8e34-f9390626a568",
        "colab": {
          "base_uri": "https://localhost:8080/",
          "height": 34
        }
      },
      "source": [
        "values_keyword = set(X.keyword.values)\n",
        "print('Different values for keywords:',len(values_keyword))"
      ],
      "execution_count": 0,
      "outputs": [
        {
          "output_type": "stream",
          "text": [
            "Different values for keywords: 222\n"
          ],
          "name": "stdout"
        }
      ]
    },
    {
      "cell_type": "code",
      "metadata": {
        "trusted": true,
        "id": "-eX6A92Z9aG-",
        "colab_type": "code",
        "colab": {}
      },
      "source": [
        "target_colums = pd.get_dummies(X.target)\n",
        "X_dummies = pd.DataFrame()\n",
        "X_dummies['keyword'] = X['keyword']\n",
        "X_dummies['real'] = target_colums[1]\n",
        "X_dummies['fake'] = target_colums[0]\n",
        "keyword_count = X_dummies[['real', 'fake','keyword']].groupby('keyword').sum()"
      ],
      "execution_count": 0,
      "outputs": []
    },
    {
      "cell_type": "code",
      "metadata": {
        "trusted": true,
        "id": "Kw0Z5tcB9aHD",
        "colab_type": "code",
        "outputId": "98f86805-eee2-4dd2-d019-a956d105f8c0",
        "colab": {
          "base_uri": "https://localhost:8080/",
          "height": 455
        }
      },
      "source": [
        "keyword_count.sort_values(by=['real', 'fake'],ascending=False)"
      ],
      "execution_count": 0,
      "outputs": [
        {
          "output_type": "execute_result",
          "data": {
            "text/html": [
              "<div>\n",
              "<style scoped>\n",
              "    .dataframe tbody tr th:only-of-type {\n",
              "        vertical-align: middle;\n",
              "    }\n",
              "\n",
              "    .dataframe tbody tr th {\n",
              "        vertical-align: top;\n",
              "    }\n",
              "\n",
              "    .dataframe thead th {\n",
              "        text-align: right;\n",
              "    }\n",
              "</style>\n",
              "<table border=\"1\" class=\"dataframe\">\n",
              "  <thead>\n",
              "    <tr style=\"text-align: right;\">\n",
              "      <th></th>\n",
              "      <th>real</th>\n",
              "      <th>fake</th>\n",
              "    </tr>\n",
              "    <tr>\n",
              "      <th>keyword</th>\n",
              "      <th></th>\n",
              "      <th></th>\n",
              "    </tr>\n",
              "  </thead>\n",
              "  <tbody>\n",
              "    <tr>\n",
              "      <th>outbreak</th>\n",
              "      <td>39</td>\n",
              "      <td>1</td>\n",
              "    </tr>\n",
              "    <tr>\n",
              "      <th>derailment</th>\n",
              "      <td>39</td>\n",
              "      <td>0</td>\n",
              "    </tr>\n",
              "    <tr>\n",
              "      <th>wreckage</th>\n",
              "      <td>39</td>\n",
              "      <td>0</td>\n",
              "    </tr>\n",
              "    <tr>\n",
              "      <th>oil%20spill</th>\n",
              "      <td>37</td>\n",
              "      <td>1</td>\n",
              "    </tr>\n",
              "    <tr>\n",
              "      <th>typhoon</th>\n",
              "      <td>37</td>\n",
              "      <td>1</td>\n",
              "    </tr>\n",
              "    <tr>\n",
              "      <th>...</th>\n",
              "      <td>...</td>\n",
              "      <td>...</td>\n",
              "    </tr>\n",
              "    <tr>\n",
              "      <th>blazing</th>\n",
              "      <td>1</td>\n",
              "      <td>33</td>\n",
              "    </tr>\n",
              "    <tr>\n",
              "      <th>body%20bag</th>\n",
              "      <td>1</td>\n",
              "      <td>32</td>\n",
              "    </tr>\n",
              "    <tr>\n",
              "      <th>electrocute</th>\n",
              "      <td>1</td>\n",
              "      <td>31</td>\n",
              "    </tr>\n",
              "    <tr>\n",
              "      <th>epicentre</th>\n",
              "      <td>1</td>\n",
              "      <td>11</td>\n",
              "    </tr>\n",
              "    <tr>\n",
              "      <th>aftershock</th>\n",
              "      <td>0</td>\n",
              "      <td>34</td>\n",
              "    </tr>\n",
              "  </tbody>\n",
              "</table>\n",
              "<p>221 rows × 2 columns</p>\n",
              "</div>"
            ],
            "text/plain": [
              "             real  fake\n",
              "keyword                \n",
              "outbreak       39     1\n",
              "derailment     39     0\n",
              "wreckage       39     0\n",
              "oil%20spill    37     1\n",
              "typhoon        37     1\n",
              "...           ...   ...\n",
              "blazing         1    33\n",
              "body%20bag      1    32\n",
              "electrocute     1    31\n",
              "epicentre       1    11\n",
              "aftershock      0    34\n",
              "\n",
              "[221 rows x 2 columns]"
            ]
          },
          "metadata": {
            "tags": []
          },
          "execution_count": 17
        }
      ]
    },
    {
      "cell_type": "code",
      "metadata": {
        "id": "njsXGEgPPd18",
        "colab_type": "code",
        "outputId": "ad5fde70-9bad-4689-f3d2-834b094b7ede",
        "colab": {
          "base_uri": "https://localhost:8080/",
          "height": 112
        }
      },
      "source": [
        "keyword_count[keyword_count.index == 'harm']"
      ],
      "execution_count": 0,
      "outputs": [
        {
          "output_type": "execute_result",
          "data": {
            "text/html": [
              "<div>\n",
              "<style scoped>\n",
              "    .dataframe tbody tr th:only-of-type {\n",
              "        vertical-align: middle;\n",
              "    }\n",
              "\n",
              "    .dataframe tbody tr th {\n",
              "        vertical-align: top;\n",
              "    }\n",
              "\n",
              "    .dataframe thead th {\n",
              "        text-align: right;\n",
              "    }\n",
              "</style>\n",
              "<table border=\"1\" class=\"dataframe\">\n",
              "  <thead>\n",
              "    <tr style=\"text-align: right;\">\n",
              "      <th></th>\n",
              "      <th>real</th>\n",
              "      <th>fake</th>\n",
              "    </tr>\n",
              "    <tr>\n",
              "      <th>keyword</th>\n",
              "      <th></th>\n",
              "      <th></th>\n",
              "    </tr>\n",
              "  </thead>\n",
              "  <tbody>\n",
              "    <tr>\n",
              "      <th>harm</th>\n",
              "      <td>4</td>\n",
              "      <td>37</td>\n",
              "    </tr>\n",
              "  </tbody>\n",
              "</table>\n",
              "</div>"
            ],
            "text/plain": [
              "         real  fake\n",
              "keyword            \n",
              "harm        4    37"
            ]
          },
          "metadata": {
            "tags": []
          },
          "execution_count": 18
        }
      ]
    },
    {
      "cell_type": "code",
      "metadata": {
        "id": "9ad_eeDqPTNv",
        "colab_type": "code",
        "outputId": "c952b863-8723-43a9-f9d2-ed422045d688",
        "colab": {
          "base_uri": "https://localhost:8080/",
          "height": 54
        }
      },
      "source": [
        "print('Proportion of tweets with null keyword in real disasters:',X[X['target'] == 1]['keyword'].isnull().sum()/X[X.target == 1].shape[0])\n",
        "print('Proportion of tweets with null keyword in fake disasters:',X[X['target'] == 0]['keyword'].isnull().sum()/X[X.target == 0].shape[0])"
      ],
      "execution_count": 0,
      "outputs": [
        {
          "output_type": "stream",
          "text": [
            "Proportion of tweets with null keyword in real disasters: 0.012840110058086213\n",
            "Proportion of tweets with null keyword in fake disasters: 0.004375863657300783\n"
          ],
          "name": "stdout"
        }
      ]
    },
    {
      "cell_type": "code",
      "metadata": {
        "id": "obVaDcfvO_OM",
        "colab_type": "code",
        "outputId": "087a9e4e-2be3-44d4-bcab-4f6b41c4f107",
        "colab": {
          "base_uri": "https://localhost:8080/",
          "height": 394
        }
      },
      "source": [
        "X[X.target == 0][['keyword', 'target']].groupby('keyword').count().sort_values('target',ascending=False).head(10)"
      ],
      "execution_count": 0,
      "outputs": [
        {
          "output_type": "execute_result",
          "data": {
            "text/html": [
              "<div>\n",
              "<style scoped>\n",
              "    .dataframe tbody tr th:only-of-type {\n",
              "        vertical-align: middle;\n",
              "    }\n",
              "\n",
              "    .dataframe tbody tr th {\n",
              "        vertical-align: top;\n",
              "    }\n",
              "\n",
              "    .dataframe thead th {\n",
              "        text-align: right;\n",
              "    }\n",
              "</style>\n",
              "<table border=\"1\" class=\"dataframe\">\n",
              "  <thead>\n",
              "    <tr style=\"text-align: right;\">\n",
              "      <th></th>\n",
              "      <th>target</th>\n",
              "    </tr>\n",
              "    <tr>\n",
              "      <th>keyword</th>\n",
              "      <th></th>\n",
              "    </tr>\n",
              "  </thead>\n",
              "  <tbody>\n",
              "    <tr>\n",
              "      <th>body%20bags</th>\n",
              "      <td>40</td>\n",
              "    </tr>\n",
              "    <tr>\n",
              "      <th>harm</th>\n",
              "      <td>37</td>\n",
              "    </tr>\n",
              "    <tr>\n",
              "      <th>armageddon</th>\n",
              "      <td>37</td>\n",
              "    </tr>\n",
              "    <tr>\n",
              "      <th>wrecked</th>\n",
              "      <td>36</td>\n",
              "    </tr>\n",
              "    <tr>\n",
              "      <th>ruin</th>\n",
              "      <td>36</td>\n",
              "    </tr>\n",
              "    <tr>\n",
              "      <th>deluge</th>\n",
              "      <td>36</td>\n",
              "    </tr>\n",
              "    <tr>\n",
              "      <th>explode</th>\n",
              "      <td>35</td>\n",
              "    </tr>\n",
              "    <tr>\n",
              "      <th>twister</th>\n",
              "      <td>35</td>\n",
              "    </tr>\n",
              "    <tr>\n",
              "      <th>fear</th>\n",
              "      <td>35</td>\n",
              "    </tr>\n",
              "    <tr>\n",
              "      <th>siren</th>\n",
              "      <td>35</td>\n",
              "    </tr>\n",
              "  </tbody>\n",
              "</table>\n",
              "</div>"
            ],
            "text/plain": [
              "             target\n",
              "keyword            \n",
              "body%20bags      40\n",
              "harm             37\n",
              "armageddon       37\n",
              "wrecked          36\n",
              "ruin             36\n",
              "deluge           36\n",
              "explode          35\n",
              "twister          35\n",
              "fear             35\n",
              "siren            35"
            ]
          },
          "metadata": {
            "tags": []
          },
          "execution_count": 20
        }
      ]
    },
    {
      "cell_type": "code",
      "metadata": {
        "id": "E8tvQ_6NO4XJ",
        "colab_type": "code",
        "outputId": "de16b1a9-1c52-4b36-afc0-2752957afa74",
        "colab": {
          "base_uri": "https://localhost:8080/",
          "height": 394
        }
      },
      "source": [
        "X[X.target == 1][['keyword', 'target']].groupby('keyword').count().sort_values('target',ascending=False).head(10)"
      ],
      "execution_count": 0,
      "outputs": [
        {
          "output_type": "execute_result",
          "data": {
            "text/html": [
              "<div>\n",
              "<style scoped>\n",
              "    .dataframe tbody tr th:only-of-type {\n",
              "        vertical-align: middle;\n",
              "    }\n",
              "\n",
              "    .dataframe tbody tr th {\n",
              "        vertical-align: top;\n",
              "    }\n",
              "\n",
              "    .dataframe thead th {\n",
              "        text-align: right;\n",
              "    }\n",
              "</style>\n",
              "<table border=\"1\" class=\"dataframe\">\n",
              "  <thead>\n",
              "    <tr style=\"text-align: right;\">\n",
              "      <th></th>\n",
              "      <th>target</th>\n",
              "    </tr>\n",
              "    <tr>\n",
              "      <th>keyword</th>\n",
              "      <th></th>\n",
              "    </tr>\n",
              "  </thead>\n",
              "  <tbody>\n",
              "    <tr>\n",
              "      <th>derailment</th>\n",
              "      <td>39</td>\n",
              "    </tr>\n",
              "    <tr>\n",
              "      <th>wreckage</th>\n",
              "      <td>39</td>\n",
              "    </tr>\n",
              "    <tr>\n",
              "      <th>outbreak</th>\n",
              "      <td>39</td>\n",
              "    </tr>\n",
              "    <tr>\n",
              "      <th>debris</th>\n",
              "      <td>37</td>\n",
              "    </tr>\n",
              "    <tr>\n",
              "      <th>oil%20spill</th>\n",
              "      <td>37</td>\n",
              "    </tr>\n",
              "    <tr>\n",
              "      <th>typhoon</th>\n",
              "      <td>37</td>\n",
              "    </tr>\n",
              "    <tr>\n",
              "      <th>evacuated</th>\n",
              "      <td>32</td>\n",
              "    </tr>\n",
              "    <tr>\n",
              "      <th>suicide%20bombing</th>\n",
              "      <td>32</td>\n",
              "    </tr>\n",
              "    <tr>\n",
              "      <th>rescuers</th>\n",
              "      <td>32</td>\n",
              "    </tr>\n",
              "    <tr>\n",
              "      <th>suicide%20bomb</th>\n",
              "      <td>32</td>\n",
              "    </tr>\n",
              "  </tbody>\n",
              "</table>\n",
              "</div>"
            ],
            "text/plain": [
              "                   target\n",
              "keyword                  \n",
              "derailment             39\n",
              "wreckage               39\n",
              "outbreak               39\n",
              "debris                 37\n",
              "oil%20spill            37\n",
              "typhoon                37\n",
              "evacuated              32\n",
              "suicide%20bombing      32\n",
              "rescuers               32\n",
              "suicide%20bomb         32"
            ]
          },
          "metadata": {
            "tags": []
          },
          "execution_count": 21
        }
      ]
    },
    {
      "cell_type": "code",
      "metadata": {
        "trusted": true,
        "id": "XWNS_TP_9aHI",
        "colab_type": "code",
        "outputId": "e5c3cdf6-b9a3-43b8-c810-e286bfda4a4c",
        "colab": {
          "base_uri": "https://localhost:8080/",
          "height": 1000
        }
      },
      "source": [
        "keyword_count.plot(kind= 'barh', figsize= (10,32), legend = True ,color=['grey', 'navy'])"
      ],
      "execution_count": 0,
      "outputs": [
        {
          "output_type": "execute_result",
          "data": {
            "text/plain": [
              "<matplotlib.axes._subplots.AxesSubplot at 0x7fe00d1c56d8>"
            ]
          },
          "metadata": {
            "tags": []
          },
          "execution_count": 22
        },
        {
          "output_type": "display_data",
          "data": {
            "image/png": "[encoded data removed]",
            "text/plain": [
              "<Figure size 720x2304 with 1 Axes>"
            ]
          },
          "metadata": {
            "tags": [],
            "needs_background": "light"
          }
        }
      ]
    },
    {
      "cell_type": "markdown",
      "metadata": {
        "id": "8qnDmPXL9aHO",
        "colab_type": "text"
      },
      "source": [
        "En este grafico si que observamos que en los que se refiere a las keyword, si que que encontramos diferencia entre los tweets reales y los fake. Por lo tanto, si consideramos que esta es una caracteristica relevante a tener en cuenta."
      ]
    },
    {
      "cell_type": "markdown",
      "metadata": {
        "id": "v5kANjD7decw",
        "colab_type": "text"
      },
      "source": [
        "### Obtencion de caracteristicas"
      ]
    },
    {
      "cell_type": "markdown",
      "metadata": {
        "id": "Z_8U4-z69aHO",
        "colab_type": "text"
      },
      "source": [
        "En lo que se refiere al texto, tenemos que definir que características de este van a ser analizadas. Hay diferentes aspectos que pueden ser tenidos en cuenta:\n",
        "- Numero de palabras.\n",
        "- Numero de caracteres.\n",
        "- % de !\n",
        "- % de ?\n",
        "- % de '\n",
        "- % de mayusculas.\n",
        "- % de numeros.\n",
        "- Uso de hastags\n",
        "- Uso de @ (para menciones)\n",
        "- Numero de urls\n",
        "- Que incluya un lugar en el texto? (Sin implementar, pero puede que interesante de explorar)\n",
        "\n",
        "Una vez hayamos obtenidos estas caracteristicas, podemos buscar patrones para comprobar si hay relación entre ellas y la clasificación del tweet.\n"
      ]
    },
    {
      "cell_type": "code",
      "metadata": {
        "id": "AGQ5vfnqOiHw",
        "colab_type": "code",
        "outputId": "c4ca7af9-99e9-46c4-9732-524adae7ffb7",
        "colab": {
          "base_uri": "https://localhost:8080/",
          "height": 85
        }
      },
      "source": [
        "a ='ahs 12 s5'\n",
        "for i in a:\n",
        "    if i.isalpha():\n",
        "        print(i)"
      ],
      "execution_count": 0,
      "outputs": [
        {
          "output_type": "stream",
          "text": [
            "a\n",
            "h\n",
            "s\n",
            "s\n"
          ],
          "name": "stdout"
        }
      ]
    },
    {
      "cell_type": "code",
      "metadata": {
        "trusted": true,
        "id": "M7wxT6L-9aHP",
        "colab_type": "code",
        "colab": {}
      },
      "source": [
        "def get_words(text):\n",
        "    return len(text.split(' '))\n",
        "\n",
        "def get_characters(text):\n",
        "    return len(text)\n",
        "\n",
        "def get_exclamations(text):\n",
        "    return text.count('!')\n",
        "\n",
        "def get_interrogations(text):\n",
        "    return text.count('?')\n",
        "\n",
        "def get_upper(text):\n",
        "    n = sum([1 for t in text if t.isalpha()])\n",
        "    return sum([1 for t in text if t.isupper()])/n\n",
        "\n",
        "def get_number(text):\n",
        "    return sum([1 for t in text.split(' ') if t.isnumeric()])/len(text.split(' '))\n",
        "\n",
        "def get_hastag(text):\n",
        "    return text.count('#')\n",
        "\n",
        "def get_mentions(text):\n",
        "    return text.count('@')\n",
        "\n",
        "def get_urls(text):\n",
        "    return text.count('http')\n",
        "\n",
        "def get_unique_words(text):\n",
        "    return len(set(str(text).split()))\n",
        "\n",
        "\n",
        "X['words'] = X['text'].apply(get_words)\n",
        "X['characters'] = X['text'].apply(get_characters)\n",
        "X['exclamation'] = X['text'].apply(get_exclamations)\n",
        "X['interrogations'] = X['text'].apply(get_interrogations)\n",
        "X['upper'] = X['text'].apply(get_upper)\n",
        "X['number'] = X['text'].apply(get_number)\n",
        "X['hastag'] = X['text'].apply(get_hastag)\n",
        "X['mentions'] = X['text'].apply(get_mentions)\n",
        "X['urls'] = X['text'].apply(get_urls)\n",
        "X['unique_words'] = X['text'].apply(get_unique_words)"
      ],
      "execution_count": 0,
      "outputs": []
    },
    {
      "cell_type": "code",
      "metadata": {
        "id": "arHrCDyD3oDy",
        "colab_type": "code",
        "colab": {}
      },
      "source": [
        "real_df = X[X.target==1]\n",
        "fake_df = X[X.target==0]"
      ],
      "execution_count": 0,
      "outputs": []
    },
    {
      "cell_type": "markdown",
      "metadata": {
        "id": "C3EKKJUEQeYl",
        "colab_type": "text"
      },
      "source": [
        ""
      ]
    },
    {
      "cell_type": "markdown",
      "metadata": {
        "id": "ivNpHWDB9aHT",
        "colab_type": "text"
      },
      "source": [
        "Obtenemos la media de los valores obtenidos todos los tweets fake y real. Calculamos tambien la desviacion tipica para conocer como de fiables son estos valores. Esto nos da una visión a primera vista de si una característica tiene alguna relación con el hecho de que el tweet hable de una catastrofe natural o no."
      ]
    },
    {
      "cell_type": "code",
      "metadata": {
        "trusted": true,
        "id": "V7NRoXjE9aHU",
        "colab_type": "code",
        "outputId": "cb6b9702-ad1e-4555-b700-fd0cc544242d",
        "colab": {
          "base_uri": "https://localhost:8080/",
          "height": 142
        }
      },
      "source": [
        "X.groupby(['target']).mean()"
      ],
      "execution_count": 0,
      "outputs": [
        {
          "output_type": "execute_result",
          "data": {
            "text/html": [
              "<div>\n",
              "<style scoped>\n",
              "    .dataframe tbody tr th:only-of-type {\n",
              "        vertical-align: middle;\n",
              "    }\n",
              "\n",
              "    .dataframe tbody tr th {\n",
              "        vertical-align: top;\n",
              "    }\n",
              "\n",
              "    .dataframe thead th {\n",
              "        text-align: right;\n",
              "    }\n",
              "</style>\n",
              "<table border=\"1\" class=\"dataframe\">\n",
              "  <thead>\n",
              "    <tr style=\"text-align: right;\">\n",
              "      <th></th>\n",
              "      <th>words</th>\n",
              "      <th>characters</th>\n",
              "      <th>exclamation</th>\n",
              "      <th>interrogations</th>\n",
              "      <th>upper</th>\n",
              "      <th>number</th>\n",
              "      <th>hastag</th>\n",
              "      <th>mentions</th>\n",
              "      <th>urls</th>\n",
              "      <th>unique_words</th>\n",
              "    </tr>\n",
              "    <tr>\n",
              "      <th>target</th>\n",
              "      <th></th>\n",
              "      <th></th>\n",
              "      <th></th>\n",
              "      <th></th>\n",
              "      <th></th>\n",
              "      <th></th>\n",
              "      <th></th>\n",
              "      <th></th>\n",
              "      <th></th>\n",
              "      <th></th>\n",
              "    </tr>\n",
              "  </thead>\n",
              "  <tbody>\n",
              "    <tr>\n",
              "      <th>0</th>\n",
              "      <td>14.723860</td>\n",
              "      <td>95.706817</td>\n",
              "      <td>0.194150</td>\n",
              "      <td>0.544450</td>\n",
              "      <td>0.128360</td>\n",
              "      <td>0.007740</td>\n",
              "      <td>0.391525</td>\n",
              "      <td>0.426992</td>\n",
              "      <td>0.507600</td>\n",
              "      <td>14.096499</td>\n",
              "    </tr>\n",
              "    <tr>\n",
              "      <th>1</th>\n",
              "      <td>15.201162</td>\n",
              "      <td>108.113421</td>\n",
              "      <td>0.100887</td>\n",
              "      <td>0.232956</td>\n",
              "      <td>0.133964</td>\n",
              "      <td>0.013198</td>\n",
              "      <td>0.520636</td>\n",
              "      <td>0.276674</td>\n",
              "      <td>0.769795</td>\n",
              "      <td>14.664934</td>\n",
              "    </tr>\n",
              "  </tbody>\n",
              "</table>\n",
              "</div>"
            ],
            "text/plain": [
              "            words  characters  exclamation  ...  mentions      urls  unique_words\n",
              "target                                      ...                                  \n",
              "0       14.723860   95.706817     0.194150  ...  0.426992  0.507600     14.096499\n",
              "1       15.201162  108.113421     0.100887  ...  0.276674  0.769795     14.664934\n",
              "\n",
              "[2 rows x 10 columns]"
            ]
          },
          "metadata": {
            "tags": []
          },
          "execution_count": 34
        }
      ]
    },
    {
      "cell_type": "code",
      "metadata": {
        "trusted": true,
        "id": "bQJNHo9x9aHX",
        "colab_type": "code",
        "outputId": "2865ef32-9c82-4dd3-b4f6-87ac1327ef27",
        "colab": {
          "base_uri": "https://localhost:8080/",
          "height": 142
        }
      },
      "source": [
        "X.groupby(['target']).std()"
      ],
      "execution_count": 0,
      "outputs": [
        {
          "output_type": "execute_result",
          "data": {
            "text/html": [
              "<div>\n",
              "<style scoped>\n",
              "    .dataframe tbody tr th:only-of-type {\n",
              "        vertical-align: middle;\n",
              "    }\n",
              "\n",
              "    .dataframe tbody tr th {\n",
              "        vertical-align: top;\n",
              "    }\n",
              "\n",
              "    .dataframe thead th {\n",
              "        text-align: right;\n",
              "    }\n",
              "</style>\n",
              "<table border=\"1\" class=\"dataframe\">\n",
              "  <thead>\n",
              "    <tr style=\"text-align: right;\">\n",
              "      <th></th>\n",
              "      <th>words</th>\n",
              "      <th>characters</th>\n",
              "      <th>exclamation</th>\n",
              "      <th>interrogations</th>\n",
              "      <th>upper</th>\n",
              "      <th>number</th>\n",
              "      <th>hastag</th>\n",
              "      <th>mentions</th>\n",
              "      <th>urls</th>\n",
              "      <th>unique_words</th>\n",
              "    </tr>\n",
              "    <tr>\n",
              "      <th>target</th>\n",
              "      <th></th>\n",
              "      <th></th>\n",
              "      <th></th>\n",
              "      <th></th>\n",
              "      <th></th>\n",
              "      <th></th>\n",
              "      <th></th>\n",
              "      <th></th>\n",
              "      <th></th>\n",
              "      <th></th>\n",
              "    </tr>\n",
              "  </thead>\n",
              "  <tbody>\n",
              "    <tr>\n",
              "      <th>0</th>\n",
              "      <td>6.188171</td>\n",
              "      <td>35.885924</td>\n",
              "      <td>0.673542</td>\n",
              "      <td>2.208386</td>\n",
              "      <td>0.152806</td>\n",
              "      <td>0.027223</td>\n",
              "      <td>1.008420</td>\n",
              "      <td>0.775155</td>\n",
              "      <td>0.668378</td>\n",
              "      <td>5.654748</td>\n",
              "    </tr>\n",
              "    <tr>\n",
              "      <th>1</th>\n",
              "      <td>5.184417</td>\n",
              "      <td>29.309854</td>\n",
              "      <td>0.534643</td>\n",
              "      <td>1.137959</td>\n",
              "      <td>0.122203</td>\n",
              "      <td>0.033249</td>\n",
              "      <td>1.206805</td>\n",
              "      <td>0.629696</td>\n",
              "      <td>0.628005</td>\n",
              "      <td>4.710934</td>\n",
              "    </tr>\n",
              "  </tbody>\n",
              "</table>\n",
              "</div>"
            ],
            "text/plain": [
              "           words  characters  exclamation  ...  mentions      urls  unique_words\n",
              "target                                     ...                                  \n",
              "0       6.188171   35.885924     0.673542  ...  0.775155  0.668378      5.654748\n",
              "1       5.184417   29.309854     0.534643  ...  0.629696  0.628005      4.710934\n",
              "\n",
              "[2 rows x 10 columns]"
            ]
          },
          "metadata": {
            "tags": []
          },
          "execution_count": 35
        }
      ]
    },
    {
      "cell_type": "markdown",
      "metadata": {
        "id": "y8R5crem9aHc",
        "colab_type": "text"
      },
      "source": [
        "Observamos los siguientes aspectos:\n",
        "- Ligeramente superior el numero de caracteres en el caso de los tweets reales, pero no demasiado significativo. lo mismo con el numero de palabras.\n",
        "- Menor numero de signos de puntuación (exclamacion, interrogación, comillas) en los tweets reales. Destaca sobre todo en el caso de los signos de interrogacion.\n",
        "- Mayor uso de mayusculas en los tweets reales, tampoco demasiado significativo\n",
        "- En los tweet reales hay una mayor presencia de números respecto a los tweet fakes.\n",
        "- Mayor número de hastags y menos número de menciones\n",
        "\n",
        "Estas observaciones no son suficientes para indicar si la inclusión de las características analizadas va a ayudar al entrenamiento del modelo. Para ello, se utilizará alguna téncinca de selcción de atributos, como *VarianceThreshold*."
      ]
    },
    {
      "cell_type": "markdown",
      "metadata": {
        "id": "TumBI7V69aHd",
        "colab_type": "text"
      },
      "source": [
        " Podria ser interesante para ver de manera ms visual los resultados obtenidos"
      ]
    },
    {
      "cell_type": "code",
      "metadata": {
        "trusted": true,
        "id": "ZmQbNkpg9aHe",
        "colab_type": "code",
        "outputId": "5803011f-6f17-4a76-9044-4ab6f3de7a70",
        "colab": {
          "base_uri": "https://localhost:8080/",
          "height": 1000
        }
      },
      "source": [
        "import seaborn as sns\n",
        "import matplotlib.pyplot as plt\n",
        "\n",
        "features =list( X.columns)\n",
        "features = [f for f in features if f not in ['keyword', 'location', 'target', 'text']]\n",
        "fig, axes = plt.subplots(ncols=2, nrows = 5, figsize=(10, 30))\n",
        "i = 0\n",
        "j = 0\n",
        "for feature in features:\n",
        "    sns.distplot(X[X.target==1][feature], color='green', ax= axes[i][j],   label='real')\n",
        "    sns.distplot(X[X.target==0][feature], color='blue', ax = axes[i][j],  label='fake')\n",
        "    axes[i][j].set_title(feature)\n",
        "    if j%2 ==0:\n",
        "        j+=1\n",
        "        \n",
        "    else:\n",
        "        j=0\n",
        "        i+=1"
      ],
      "execution_count": 0,
      "outputs": [
        {
          "output_type": "stream",
          "text": [
            "/usr/local/lib/python3.6/dist-packages/statsmodels/tools/_testing.py:19: FutureWarning: pandas.util.testing is deprecated. Use the functions in the public API at pandas.testing instead.\n",
            "  import pandas.util.testing as tm\n"
          ],
          "name": "stderr"
        },
        {
          "output_type": "display_data",
          "data": {
            "image/png": "[encoded data removed]",
            "text/plain": [
              "<Figure size 720x2160 with 10 Axes>"
            ]
          },
          "metadata": {
            "tags": [],
            "needs_background": "light"
          }
        }
      ]
    },
    {
      "cell_type": "code",
      "metadata": {
        "id": "XxAWtzHldWns",
        "colab_type": "code",
        "outputId": "cbdcef30-7ffc-48a4-8207-65007b43dd5f",
        "colab": {
          "base_uri": "https://localhost:8080/",
          "height": 1000
        }
      },
      "source": [
        "import matplotlib.pyplot as plt\n",
        "\n",
        "features =list( X.columns)\n",
        "features = [f for f in features if f not in ['keyword', 'location', 'target', 'text']]\n",
        "fig, axes = plt.subplots(ncols=3, nrows = 3, figsize=(20, 20))\n",
        "i = 0\n",
        "j = 0\n",
        "\n",
        "for feature in features:\n",
        "    print(i,j)\n",
        "    axes[i][j].hist(X[X.target==0][feature], color='lightskyblue', label='fake',alpha=0.5)\n",
        "    axes[i][j].hist(X[X.target==1][feature], color='yellowgreen',  label='real',alpha=0.5)\n",
        "    axes[i][j].set_title(feature)\n",
        "    axes[i][j].legend()\n",
        "    if j !=2:\n",
        "        j+=1\n",
        "        \n",
        "    else:\n",
        "        j=0\n",
        "        i+=1\n",
        "\n"
      ],
      "execution_count": 0,
      "outputs": [
        {
          "output_type": "stream",
          "text": [
            "0 0\n",
            "0 1\n",
            "0 2\n",
            "1 0\n",
            "1 1\n",
            "1 2\n",
            "2 0\n",
            "2 1\n",
            "2 2\n",
            "3 0\n"
          ],
          "name": "stdout"
        },
        {
          "output_type": "error",
          "ename": "IndexError",
          "evalue": "ignored",
          "traceback": [
            "\u001b[0;31m---------------------------------------------------------------------------\u001b[0m",
            "\u001b[0;31mIndexError\u001b[0m                                Traceback (most recent call last)",
            "\u001b[0;32m<ipython-input-48-a5394cd6f993>\u001b[0m in \u001b[0;36m<module>\u001b[0;34m()\u001b[0m\n\u001b[1;32m      9\u001b[0m \u001b[0;32mfor\u001b[0m \u001b[0mfeature\u001b[0m \u001b[0;32min\u001b[0m \u001b[0mfeatures\u001b[0m\u001b[0;34m:\u001b[0m\u001b[0;34m\u001b[0m\u001b[0;34m\u001b[0m\u001b[0m\n\u001b[1;32m     10\u001b[0m     \u001b[0mprint\u001b[0m\u001b[0;34m(\u001b[0m\u001b[0mi\u001b[0m\u001b[0;34m,\u001b[0m\u001b[0mj\u001b[0m\u001b[0;34m)\u001b[0m\u001b[0;34m\u001b[0m\u001b[0;34m\u001b[0m\u001b[0m\n\u001b[0;32m---> 11\u001b[0;31m     \u001b[0maxes\u001b[0m\u001b[0;34m[\u001b[0m\u001b[0mi\u001b[0m\u001b[0;34m]\u001b[0m\u001b[0;34m[\u001b[0m\u001b[0mj\u001b[0m\u001b[0;34m]\u001b[0m\u001b[0;34m.\u001b[0m\u001b[0mhist\u001b[0m\u001b[0;34m(\u001b[0m\u001b[0mX\u001b[0m\u001b[0;34m[\u001b[0m\u001b[0mX\u001b[0m\u001b[0;34m.\u001b[0m\u001b[0mtarget\u001b[0m\u001b[0;34m==\u001b[0m\u001b[0;36m0\u001b[0m\u001b[0;34m]\u001b[0m\u001b[0;34m[\u001b[0m\u001b[0mfeature\u001b[0m\u001b[0;34m]\u001b[0m\u001b[0;34m,\u001b[0m \u001b[0mcolor\u001b[0m\u001b[0;34m=\u001b[0m\u001b[0;34m'lightskyblue'\u001b[0m\u001b[0;34m,\u001b[0m \u001b[0mlabel\u001b[0m\u001b[0;34m=\u001b[0m\u001b[0;34m'fake'\u001b[0m\u001b[0;34m,\u001b[0m\u001b[0malpha\u001b[0m\u001b[0;34m=\u001b[0m\u001b[0;36m0.5\u001b[0m\u001b[0;34m)\u001b[0m\u001b[0;34m\u001b[0m\u001b[0;34m\u001b[0m\u001b[0m\n\u001b[0m\u001b[1;32m     12\u001b[0m     \u001b[0maxes\u001b[0m\u001b[0;34m[\u001b[0m\u001b[0mi\u001b[0m\u001b[0;34m]\u001b[0m\u001b[0;34m[\u001b[0m\u001b[0mj\u001b[0m\u001b[0;34m]\u001b[0m\u001b[0;34m.\u001b[0m\u001b[0mhist\u001b[0m\u001b[0;34m(\u001b[0m\u001b[0mX\u001b[0m\u001b[0;34m[\u001b[0m\u001b[0mX\u001b[0m\u001b[0;34m.\u001b[0m\u001b[0mtarget\u001b[0m\u001b[0;34m==\u001b[0m\u001b[0;36m1\u001b[0m\u001b[0;34m]\u001b[0m\u001b[0;34m[\u001b[0m\u001b[0mfeature\u001b[0m\u001b[0;34m]\u001b[0m\u001b[0;34m,\u001b[0m \u001b[0mcolor\u001b[0m\u001b[0;34m=\u001b[0m\u001b[0;34m'yellowgreen'\u001b[0m\u001b[0;34m,\u001b[0m  \u001b[0mlabel\u001b[0m\u001b[0;34m=\u001b[0m\u001b[0;34m'real'\u001b[0m\u001b[0;34m,\u001b[0m\u001b[0malpha\u001b[0m\u001b[0;34m=\u001b[0m\u001b[0;36m0.5\u001b[0m\u001b[0;34m)\u001b[0m\u001b[0;34m\u001b[0m\u001b[0;34m\u001b[0m\u001b[0m\n\u001b[1;32m     13\u001b[0m     \u001b[0maxes\u001b[0m\u001b[0;34m[\u001b[0m\u001b[0mi\u001b[0m\u001b[0;34m]\u001b[0m\u001b[0;34m[\u001b[0m\u001b[0mj\u001b[0m\u001b[0;34m]\u001b[0m\u001b[0;34m.\u001b[0m\u001b[0mset_title\u001b[0m\u001b[0;34m(\u001b[0m\u001b[0mfeature\u001b[0m\u001b[0;34m)\u001b[0m\u001b[0;34m\u001b[0m\u001b[0;34m\u001b[0m\u001b[0m\n",
            "\u001b[0;31mIndexError\u001b[0m: index 3 is out of bounds for axis 0 with size 3"
          ]
        },
        {
          "output_type": "display_data",
          "data": {
            "image/png": "[encoded data removed]",
            "text/plain": [
              "<Figure size 1440x1440 with 9 Axes>"
            ]
          },
          "metadata": {
            "tags": [],
            "needs_background": "light"
          }
        }
      ]
    },
    {
      "cell_type": "code",
      "metadata": {
        "id": "HbOx1yjC6X_A",
        "colab_type": "code",
        "colab": {}
      },
      "source": [
        "import re\n",
        "def hastag_text(txt):\n",
        "    re_hastag = '#\\w+'\n",
        "    x = re.findall(re_hastag, txt)\n",
        "    return x\n",
        "\n",
        "\n",
        "hastags_list_real = X[X.target == 1].text.apply(hastag_text).values\n",
        "hastags_real = []\n",
        "for l in hastags_list_real:\n",
        "    for h in l:\n",
        "        hastags_real.append(h)\n",
        "\n",
        "hastags_list_fake = X[X.target==0].text.apply(hastag_text).values\n",
        "hastags_fake = []\n",
        "for l in hastags_list_fake:\n",
        "    for h in l:\n",
        "        hastags_fake.append(h)"
      ],
      "execution_count": 0,
      "outputs": []
    },
    {
      "cell_type": "code",
      "metadata": {
        "id": "SQremI0MowLI",
        "colab_type": "code",
        "outputId": "0ccb7e1e-0ff3-45b4-9530-7e9398a6acf1",
        "colab": {
          "base_uri": "https://localhost:8080/",
          "height": 34
        }
      },
      "source": [
        "hastags = set(hastags_real + hastags_fake)\n",
        "len(hastags)\n"
      ],
      "execution_count": 0,
      "outputs": [
        {
          "output_type": "execute_result",
          "data": {
            "text/plain": [
              "2087"
            ]
          },
          "metadata": {
            "tags": []
          },
          "execution_count": 21
        }
      ]
    },
    {
      "cell_type": "code",
      "metadata": {
        "id": "-iRlggr4o6iO",
        "colab_type": "code",
        "colab": {}
      },
      "source": [
        ""
      ],
      "execution_count": 0,
      "outputs": []
    },
    {
      "cell_type": "code",
      "metadata": {
        "id": "SrYl6aJj9SId",
        "colab_type": "code",
        "outputId": "b5b03680-2799-4c43-ae18-c7190c45c676",
        "colab": {
          "base_uri": "https://localhost:8080/",
          "height": 669
        }
      },
      "source": [
        "from collections import Counter\n",
        "hastags_counter_real = Counter(hastags_real)\n",
        "hastags_counter_real.most_common(20)\n",
        "pd.DataFrame.from_dict(hastags_counter_real, orient='index').sort_values(by=0, ascending=False).head(20)"
      ],
      "execution_count": 0,
      "outputs": [
        {
          "output_type": "execute_result",
          "data": {
            "text/html": [
              "<div>\n",
              "<style scoped>\n",
              "    .dataframe tbody tr th:only-of-type {\n",
              "        vertical-align: middle;\n",
              "    }\n",
              "\n",
              "    .dataframe tbody tr th {\n",
              "        vertical-align: top;\n",
              "    }\n",
              "\n",
              "    .dataframe thead th {\n",
              "        text-align: right;\n",
              "    }\n",
              "</style>\n",
              "<table border=\"1\" class=\"dataframe\">\n",
              "  <thead>\n",
              "    <tr style=\"text-align: right;\">\n",
              "      <th></th>\n",
              "      <th>0</th>\n",
              "    </tr>\n",
              "  </thead>\n",
              "  <tbody>\n",
              "    <tr>\n",
              "      <th>#News</th>\n",
              "      <td>33</td>\n",
              "    </tr>\n",
              "    <tr>\n",
              "      <th>#news</th>\n",
              "      <td>23</td>\n",
              "    </tr>\n",
              "    <tr>\n",
              "      <th>#Hiroshima</th>\n",
              "      <td>21</td>\n",
              "    </tr>\n",
              "    <tr>\n",
              "      <th>#prebreak</th>\n",
              "      <td>13</td>\n",
              "    </tr>\n",
              "    <tr>\n",
              "      <th>#best</th>\n",
              "      <td>13</td>\n",
              "    </tr>\n",
              "    <tr>\n",
              "      <th>#hot</th>\n",
              "      <td>13</td>\n",
              "    </tr>\n",
              "    <tr>\n",
              "      <th>#India</th>\n",
              "      <td>10</td>\n",
              "    </tr>\n",
              "    <tr>\n",
              "      <th>#Japan</th>\n",
              "      <td>10</td>\n",
              "    </tr>\n",
              "    <tr>\n",
              "      <th>#yyc</th>\n",
              "      <td>10</td>\n",
              "    </tr>\n",
              "    <tr>\n",
              "      <th>#Sismo</th>\n",
              "      <td>9</td>\n",
              "    </tr>\n",
              "    <tr>\n",
              "      <th>#earthquake</th>\n",
              "      <td>8</td>\n",
              "    </tr>\n",
              "    <tr>\n",
              "      <th>#terrorism</th>\n",
              "      <td>8</td>\n",
              "    </tr>\n",
              "    <tr>\n",
              "      <th>#abstorm</th>\n",
              "      <td>8</td>\n",
              "    </tr>\n",
              "    <tr>\n",
              "      <th>#ISIS</th>\n",
              "      <td>8</td>\n",
              "    </tr>\n",
              "    <tr>\n",
              "      <th>#hailstorm</th>\n",
              "      <td>7</td>\n",
              "    </tr>\n",
              "    <tr>\n",
              "      <th>#Earthquake</th>\n",
              "      <td>7</td>\n",
              "    </tr>\n",
              "    <tr>\n",
              "      <th>#BBC</th>\n",
              "      <td>7</td>\n",
              "    </tr>\n",
              "    <tr>\n",
              "      <th>#WX</th>\n",
              "      <td>7</td>\n",
              "    </tr>\n",
              "    <tr>\n",
              "      <th>#okwx</th>\n",
              "      <td>6</td>\n",
              "    </tr>\n",
              "    <tr>\n",
              "      <th>#Bestnaijamade</th>\n",
              "      <td>6</td>\n",
              "    </tr>\n",
              "  </tbody>\n",
              "</table>\n",
              "</div>"
            ],
            "text/plain": [
              "                 0\n",
              "#News           33\n",
              "#news           23\n",
              "#Hiroshima      21\n",
              "#prebreak       13\n",
              "#best           13\n",
              "#hot            13\n",
              "#India          10\n",
              "#Japan          10\n",
              "#yyc            10\n",
              "#Sismo           9\n",
              "#earthquake      8\n",
              "#terrorism       8\n",
              "#abstorm         8\n",
              "#ISIS            8\n",
              "#hailstorm       7\n",
              "#Earthquake      7\n",
              "#BBC             7\n",
              "#WX              7\n",
              "#okwx            6\n",
              "#Bestnaijamade   6"
            ]
          },
          "metadata": {
            "tags": []
          },
          "execution_count": 22
        }
      ]
    },
    {
      "cell_type": "code",
      "metadata": {
        "id": "KSVD2K8L9-dB",
        "colab_type": "code",
        "outputId": "d43dee57-cab6-45be-ec6c-f81e74ea90c1",
        "colab": {
          "base_uri": "https://localhost:8080/",
          "height": 677
        }
      },
      "source": [
        "from collections import Counter\n",
        "hastags_counter_fake = Counter(hastags_fake)\n",
        "pd.DataFrame.from_dict(hastags_counter_fake, orient='index').sort_values(by=0, ascending=False).head(20)"
      ],
      "execution_count": 0,
      "outputs": [
        {
          "output_type": "execute_result",
          "data": {
            "text/html": [
              "<div>\n",
              "<style scoped>\n",
              "    .dataframe tbody tr th:only-of-type {\n",
              "        vertical-align: middle;\n",
              "    }\n",
              "\n",
              "    .dataframe tbody tr th {\n",
              "        vertical-align: top;\n",
              "    }\n",
              "\n",
              "    .dataframe thead th {\n",
              "        text-align: right;\n",
              "    }\n",
              "</style>\n",
              "<table border=\"1\" class=\"dataframe\">\n",
              "  <thead>\n",
              "    <tr style=\"text-align: right;\">\n",
              "      <th></th>\n",
              "      <th>0</th>\n",
              "    </tr>\n",
              "  </thead>\n",
              "  <tbody>\n",
              "    <tr>\n",
              "      <th>#hot</th>\n",
              "      <td>18</td>\n",
              "    </tr>\n",
              "    <tr>\n",
              "      <th>#prebreak</th>\n",
              "      <td>17</td>\n",
              "    </tr>\n",
              "    <tr>\n",
              "      <th>#best</th>\n",
              "      <td>17</td>\n",
              "    </tr>\n",
              "    <tr>\n",
              "      <th>#news</th>\n",
              "      <td>15</td>\n",
              "    </tr>\n",
              "    <tr>\n",
              "      <th>#GBBO</th>\n",
              "      <td>13</td>\n",
              "    </tr>\n",
              "    <tr>\n",
              "      <th>#islam</th>\n",
              "      <td>11</td>\n",
              "    </tr>\n",
              "    <tr>\n",
              "      <th>#NowPlaying</th>\n",
              "      <td>10</td>\n",
              "    </tr>\n",
              "    <tr>\n",
              "      <th>#nowplaying</th>\n",
              "      <td>10</td>\n",
              "    </tr>\n",
              "    <tr>\n",
              "      <th>#jobs</th>\n",
              "      <td>9</td>\n",
              "    </tr>\n",
              "    <tr>\n",
              "      <th>#Directioners</th>\n",
              "      <td>8</td>\n",
              "    </tr>\n",
              "    <tr>\n",
              "      <th>#DnB</th>\n",
              "      <td>8</td>\n",
              "    </tr>\n",
              "    <tr>\n",
              "      <th>#Beyhive</th>\n",
              "      <td>8</td>\n",
              "    </tr>\n",
              "    <tr>\n",
              "      <th>#EDM</th>\n",
              "      <td>8</td>\n",
              "    </tr>\n",
              "    <tr>\n",
              "      <th>#animalrescue</th>\n",
              "      <td>7</td>\n",
              "    </tr>\n",
              "    <tr>\n",
              "      <th>#Ices</th>\n",
              "      <td>7</td>\n",
              "    </tr>\n",
              "    <tr>\n",
              "      <th>#Dubstep</th>\n",
              "      <td>7</td>\n",
              "    </tr>\n",
              "    <tr>\n",
              "      <th>#RT</th>\n",
              "      <td>7</td>\n",
              "    </tr>\n",
              "    <tr>\n",
              "      <th>#Dance</th>\n",
              "      <td>7</td>\n",
              "    </tr>\n",
              "    <tr>\n",
              "      <th>#TrapMusic</th>\n",
              "      <td>7</td>\n",
              "    </tr>\n",
              "    <tr>\n",
              "      <th>#hiring</th>\n",
              "      <td>6</td>\n",
              "    </tr>\n",
              "  </tbody>\n",
              "</table>\n",
              "</div>"
            ],
            "text/plain": [
              "                0\n",
              "#hot           18\n",
              "#prebreak      17\n",
              "#best          17\n",
              "#news          15\n",
              "#GBBO          13\n",
              "#islam         11\n",
              "#NowPlaying    10\n",
              "#nowplaying    10\n",
              "#jobs           9\n",
              "#Directioners   8\n",
              "#DnB            8\n",
              "#Beyhive        8\n",
              "#EDM            8\n",
              "#animalrescue   7\n",
              "#Ices           7\n",
              "#Dubstep        7\n",
              "#RT             7\n",
              "#Dance          7\n",
              "#TrapMusic      7\n",
              "#hiring         6"
            ]
          },
          "metadata": {
            "tags": []
          },
          "execution_count": 78
        }
      ]
    },
    {
      "cell_type": "markdown",
      "metadata": {
        "id": "zyMcsC11AkMs",
        "colab_type": "text"
      },
      "source": [
        "### Limpieza inicial\n",
        "Sabemos que son tweets, por lo tanto puede que tengan menciones y enlaces que no aportan conocimiento. vamos a deshacernos de ellos"
      ]
    },
    {
      "cell_type": "code",
      "metadata": {
        "id": "hZ4HFQALAj6D",
        "colab_type": "code",
        "outputId": "e7da4e14-1e70-4521-f2a6-6d17b5015b35",
        "colab": {
          "base_uri": "https://localhost:8080/",
          "height": 102
        }
      },
      "source": [
        "import re\n",
        "def clean_mentions(txt):\n",
        "    x = re.sub(\"@\\w*\", \"\", txt)\n",
        "    return x\n",
        "\n",
        "def remove_links(text):\n",
        "    print(text)\n",
        "    text = re.sub(r\"http\\S+\", \"\", text)\n",
        "    return text\n",
        "\n",
        "remove_links(\"'Listen to this hit song. A summer Bomb full of positive energy and youth\\nDid you like it?\\nhttps://t.co/2LiWkJybE9 \\n#Norge2040'\")"
      ],
      "execution_count": 0,
      "outputs": [
        {
          "output_type": "stream",
          "text": [
            "'Listen to this hit song. A summer Bomb full of positive energy and youth\n",
            "Did you like it?\n",
            "https://t.co/2LiWkJybE9 \n",
            "#Norge2040'\n"
          ],
          "name": "stdout"
        },
        {
          "output_type": "execute_result",
          "data": {
            "text/plain": [
              "\"'Listen to this hit song. A summer Bomb full of positive energy and youth\\nDid you like it?\\n \\n#Norge2040'\""
            ]
          },
          "metadata": {
            "tags": []
          },
          "execution_count": 50
        }
      ]
    },
    {
      "cell_type": "markdown",
      "metadata": {
        "id": "B0ozAqsk9aHi",
        "colab_type": "text"
      },
      "source": [
        "### Obtencion de conocimiento\n",
        "A continuacion, vamos a explorar en mayor profundidad el contenido del campo texto. Vamos a buscar las palabras mas repetidas"
      ]
    },
    {
      "cell_type": "code",
      "metadata": {
        "id": "ToRGNze5AalA",
        "colab_type": "code",
        "outputId": "f534acba-c11a-47f8-e852-7522faaa9a4e",
        "colab": {
          "base_uri": "https://localhost:8080/",
          "height": 102
        }
      },
      "source": [
        "import nltk\n",
        "nltk.download('punkt')\n",
        "nltk.download('stopwords')"
      ],
      "execution_count": 0,
      "outputs": [
        {
          "output_type": "stream",
          "text": [
            "[nltk_data] Downloading package punkt to /root/nltk_data...\n",
            "[nltk_data]   Unzipping tokenizers/punkt.zip.\n",
            "[nltk_data] Downloading package stopwords to /root/nltk_data...\n",
            "[nltk_data]   Unzipping corpora/stopwords.zip.\n"
          ],
          "name": "stdout"
        },
        {
          "output_type": "execute_result",
          "data": {
            "text/plain": [
              "True"
            ]
          },
          "metadata": {
            "tags": []
          },
          "execution_count": 30
        }
      ]
    },
    {
      "cell_type": "code",
      "metadata": {
        "trusted": true,
        "id": "CWzLi0La9aHj",
        "colab_type": "code",
        "colab": {}
      },
      "source": [
        "from nltk.tokenize import word_tokenize\n",
        "\n",
        "def get_words(text):\n",
        "    return word_tokenize(text)"
      ],
      "execution_count": 0,
      "outputs": []
    },
    {
      "cell_type": "code",
      "metadata": {
        "trusted": true,
        "id": "j9LPjNYF9aHn",
        "colab_type": "code",
        "colab": {}
      },
      "source": [
        "real = X[X.target==1]['text'].apply(get_words).values\n",
        "disaster_words = [w.lower() for p in real for w in p]\n",
        "fake = X[X.target==0]['text'].apply(get_words).values\n",
        "non_disaster_words = [w.lower() for p in fake for w in p]"
      ],
      "execution_count": 0,
      "outputs": []
    },
    {
      "cell_type": "code",
      "metadata": {
        "trusted": true,
        "id": "fKpmsQhy9aHq",
        "colab_type": "code",
        "colab": {}
      },
      "source": [
        "from collections import Counter\n",
        "real_counter = Counter(disaster_words)\n",
        "fake_counter = Counter(non_disaster_words)"
      ],
      "execution_count": 0,
      "outputs": []
    },
    {
      "cell_type": "code",
      "metadata": {
        "trusted": true,
        "id": "YOMSPYrQ9aHu",
        "colab_type": "code",
        "outputId": "27a98eb0-79b8-49b0-aee3-f49bae0d4ffd",
        "colab": {
          "base_uri": "https://localhost:8080/",
          "height": 51
        }
      },
      "source": [
        "print('Real:',real_counter.most_common(10))\n",
        "print('Fake:',fake_counter.most_common(10))"
      ],
      "execution_count": 0,
      "outputs": [
        {
          "output_type": "stream",
          "text": [
            "Real: [(':', 3676), ('http', 2380), ('#', 1703), ('the', 1345), ('in', 1159), ('.', 1106), ('a', 924), ('of', 920), ('@', 905), ('?', 762)]\n",
            "Fake: [(':', 3030), ('?', 2364), ('http', 1927), ('.', 1907), ('the', 1887), ('@', 1854), ('#', 1700), ('i', 1344), ('a', 1248), ('to', 1187)]\n"
          ],
          "name": "stdout"
        }
      ]
    },
    {
      "cell_type": "markdown",
      "metadata": {
        "id": "jW4m5DnJ9aHy",
        "colab_type": "text"
      },
      "source": [
        "Vemos que las palabras que mas se usan no son representativas: esto se debe a que no se hizo previamente una limpieza de los datos, realmente importante. Debemos eliminar antes las denominadas *stop words*. Esto podemos hacerlo a mano, pero creo que podría ser útil utilizar la herramienta NTLK."
      ]
    },
    {
      "cell_type": "markdown",
      "metadata": {
        "id": "a_wzFt2w9aHz",
        "colab_type": "text"
      },
      "source": [
        "En primer lugar, eliminamos lo elementos de puntuacion"
      ]
    },
    {
      "cell_type": "code",
      "metadata": {
        "trusted": true,
        "id": "GSfldcXP9aHz",
        "colab_type": "code",
        "colab": {}
      },
      "source": [
        "import string\n",
        "table = str.maketrans('', '', string.punctuation)\n",
        "disaster_words_stripped = [w.translate(table) for w in disaster_words]\n",
        "non_disaster_words_stripped = [w.translate(table) for w in non_disaster_words]"
      ],
      "execution_count": 0,
      "outputs": []
    },
    {
      "cell_type": "markdown",
      "metadata": {
        "id": "4prk2DkO9aH4",
        "colab_type": "text"
      },
      "source": [
        "Eliminamos todos aquellos elementos que no sean alphanumericos (Quiza habria que mantener los hastag?)"
      ]
    },
    {
      "cell_type": "code",
      "metadata": {
        "trusted": true,
        "id": "SMmFwB509aH4",
        "colab_type": "code",
        "colab": {}
      },
      "source": [
        "disaster_words_alpha = [w for w in disaster_words_stripped if w.isalpha()]\n",
        "non_disaster_words_alpha = [w for w in non_disaster_words_stripped if w.isalpha()]"
      ],
      "execution_count": 0,
      "outputs": []
    },
    {
      "cell_type": "markdown",
      "metadata": {
        "id": "Fxq_xLGJ9aH7",
        "colab_type": "text"
      },
      "source": [
        "Eliminamos los stop words. Tras ver los resultados, he creido conveniente incluir las siguientes palabras"
      ]
    },
    {
      "cell_type": "code",
      "metadata": {
        "trusted": true,
        "id": "5mO1LyIE9aH8",
        "colab_type": "code",
        "colab": {}
      },
      "source": [
        "from nltk.corpus import stopwords\n",
        "stop_words = stopwords.words('english')\n",
        "stop_words.append('would')\n",
        "stop_words.append('http')\n",
        "stop_words.append('https')\n",
        "stop_words.append('nt')\n",
        "\n",
        "real_words = [w for w in disaster_words_alpha if not w in stop_words]\n",
        "fake_words = [w for w in non_disaster_words_alpha if not w in stop_words]"
      ],
      "execution_count": 0,
      "outputs": []
    },
    {
      "cell_type": "code",
      "metadata": {
        "trusted": true,
        "id": "9Zf7Fcfz9aID",
        "colab_type": "code",
        "outputId": "b70b726d-3950-4aef-d25f-125b69df69ec",
        "colab": {
          "base_uri": "https://localhost:8080/",
          "height": 51
        }
      },
      "source": [
        "from collections import Counter\n",
        "clean_real_counter = Counter(real_words)\n",
        "clean_fake_counter = Counter(fake_words)\n",
        "print('Real:',clean_real_counter.most_common(10))\n",
        "print('Fake:', clean_fake_counter.most_common(10))"
      ],
      "execution_count": 0,
      "outputs": [
        {
          "output_type": "stream",
          "text": [
            "Real: [('fire', 180), ('news', 140), ('amp', 135), ('via', 121), ('disaster', 119), ('california', 115), ('suicide', 110), ('police', 107), ('people', 105), ('killed', 93)]\n",
            "Fake: [('like', 253), ('amp', 209), ('new', 168), ('get', 163), ('one', 130), ('body', 113), ('via', 99), ('video', 96), ('people', 95), ('got', 92)]\n"
          ],
          "name": "stdout"
        }
      ]
    },
    {
      "cell_type": "markdown",
      "metadata": {
        "id": "DkI_3lQ29aIP",
        "colab_type": "text"
      },
      "source": [
        "Convertimos en una misma palabra todas las que tienen la misma raiz ?"
      ]
    },
    {
      "cell_type": "code",
      "metadata": {
        "trusted": true,
        "id": "ZLwKfdSc9aIQ",
        "colab_type": "code",
        "colab": {}
      },
      "source": [
        "from nltk.stem.porter import PorterStemmer\n",
        "porter = PorterStemmer()\n",
        "stemmed_real = [porter.stem(word) for word in real_words]\n",
        "stemmed_fake = [porter.stem(word) for word in fake_words]"
      ],
      "execution_count": 0,
      "outputs": []
    },
    {
      "cell_type": "code",
      "metadata": {
        "id": "ee7IYvsMX1tO",
        "colab_type": "code",
        "colab": {}
      },
      "source": [
        "from nltk.stem import SnowballStemmer\n",
        "\n",
        "sno = SnowballStemmer('english')\n",
        "stemmed_real = [sno.stem(word) for word in real_words]\n",
        "stemmed_fake = [sno.stem(word) for word in fake_words]"
      ],
      "execution_count": 0,
      "outputs": []
    },
    {
      "cell_type": "code",
      "metadata": {
        "trusted": true,
        "id": "3vsG2cdn9aIX",
        "colab_type": "code",
        "outputId": "9b04b064-6bb0-44be-d59b-aa3a7af9096c",
        "colab": {
          "base_uri": "https://localhost:8080/",
          "height": 51
        }
      },
      "source": [
        "from collections import Counter\n",
        "steammed_real_counter = Counter(real_words)\n",
        "steammed_fake_counter = Counter(fake_words)\n",
        "print('Real:',steammed_real_counter.most_common(10))\n",
        "print('Fake', steammed_fake_counter.most_common(10))"
      ],
      "execution_count": 0,
      "outputs": [
        {
          "output_type": "stream",
          "text": [
            "Real: [('fire', 180), ('news', 140), ('amp', 135), ('via', 121), ('disaster', 119), ('california', 115), ('suicide', 110), ('police', 107), ('people', 105), ('killed', 93)]\n",
            "Fake [('like', 253), ('amp', 209), ('new', 168), ('get', 163), ('one', 130), ('body', 113), ('via', 99), ('video', 96), ('people', 95), ('got', 92)]\n"
          ],
          "name": "stdout"
        }
      ]
    },
    {
      "cell_type": "code",
      "metadata": {
        "trusted": true,
        "id": "P6V8C5IK9aIe",
        "colab_type": "code",
        "outputId": "6fbd0378-c06d-431d-c479-e04c77682edf",
        "colab": {
          "base_uri": "https://localhost:8080/",
          "height": 735
        }
      },
      "source": [
        "fig, ax = plt.subplots(1, figsize=(20, 6))\n",
        "words_real, values_real = zip(*steammed_real_counter.most_common(25))\n",
        "\n",
        "ax.bar(words_real, values_real, color= 'yellowgreen', alpha=0.5)\n",
        "ax.set_title('Most common words in distater tweets')\n",
        "ax.set_xticks(words_real)\n",
        "fig.autofmt_xdate()\n",
        "\n",
        "fig.show()\n",
        "fig, ax = plt.subplots(1, figsize=(20, 6))\n",
        "\n",
        "words_fake, values_fake = zip(*steammed_fake_counter.most_common(25))\n",
        "ax.bar(words_fake, values_fake, color='lightskyblue', alpha =0.5)\n",
        "fig.autofmt_xdate()\n",
        "\n",
        "fig.show()\n",
        "\n"
      ],
      "execution_count": 0,
      "outputs": [
        {
          "output_type": "display_data",
          "data": {
            "image/png": "[encoded data removed]",
            "text/plain": [
              "<Figure size 1440x432 with 1 Axes>"
            ]
          },
          "metadata": {
            "tags": [],
            "needs_background": "light"
          }
        },
        {
          "output_type": "display_data",
          "data": {
            "image/png": "[encoded data removed]",
            "text/plain": [
              "<Figure size 1440x432 with 1 Axes>"
            ]
          },
          "metadata": {
            "tags": [],
            "needs_background": "light"
          }
        }
      ]
    },
    {
      "cell_type": "markdown",
      "metadata": {
        "id": "Exh2V3u1bomN",
        "colab_type": "text"
      },
      "source": [
        "#### Susituiur localizacion"
      ]
    },
    {
      "cell_type": "markdown",
      "metadata": {
        "id": "bTKSgt_j9aIj",
        "colab_type": "text"
      },
      "source": [
        "Una observacion que me resulta interesante es que dentro de las plabaras mas comunes en los disastres naturales, encontramos lugares. Vamos a tratar de identificar los lugares mencionados en los twwets. PAra ello, voy  aprobar distintas librerías, para comprobar cal ofrence mayor exactitud."
      ]
    },
    {
      "cell_type": "markdown",
      "metadata": {
        "id": "URoICs8vGOna",
        "colab_type": "text"
      },
      "source": [
        "Este aspecto, puede ser interesante. Se podría sustituir todas las palabras que indiquen un lugar por una plabra clave (*locationname* o lago asi), de modo que al tokenizar, todas las localizaciones se transformen en un mismo token. He probado varias librerias y todas tienen sus pros y sus contras."
      ]
    },
    {
      "cell_type": "markdown",
      "metadata": {
        "id": "iESX0gULLO5k",
        "colab_type": "text"
      },
      "source": [
        "- SpaCy: otra opcion barajada es utilizar la librería SpaCy. Esta identifica las palabras de un texto dado y les asigna una etiqueta. Para las localizaciones utiliza la etiqueta 'GPE'. Es muy lento y además se ha comprobado que tampoco funciona bien."
      ]
    },
    {
      "cell_type": "code",
      "metadata": {
        "id": "pI_expOuenAQ",
        "colab_type": "code",
        "outputId": "1dc059aa-462e-4955-b34f-76dcc070fed5",
        "colab": {
          "base_uri": "https://localhost:8080/",
          "height": 54
        }
      },
      "source": [
        "import spacy #Muy lenta\n",
        "i=i+1\n",
        "nlp = spacy.load(\"en_core_web_sm\")\n",
        "\n",
        "text = X[X.target==1]['text'].iloc[i]\n",
        "def get_places(text):\n",
        "    doc = nlp(text)\n",
        "    places = []\n",
        "    for ent in doc.ents:\n",
        "        if(ent.label_ == 'GPE'):\n",
        "            places.append(ent.text)\n",
        "    return places\n",
        "places = X[X.target==1]['text'].apply(get_places)\n",
        "places = [c for c in places if len(c)>0]\n",
        "print('% of tweets with places in Real tweets:',len(places)/ X[X.target==1].shape[0])\n",
        "places = X[X.target==0]['text'].apply(get_places)\n",
        "places = [c for c in places if len(c)>0]\n",
        "print('% of tweets with places in Fake tweets:',len(places)/ X[X.target==0].shape[0])"
      ],
      "execution_count": 0,
      "outputs": [
        {
          "output_type": "stream",
          "text": [
            "% of tweets with places in Real tweets: 0.27178232956282483\n",
            "% of tweets with places in Fake tweets: 0.08705665591893137\n"
          ],
          "name": "stdout"
        }
      ]
    },
    {
      "cell_type": "code",
      "metadata": {
        "id": "9d-bu2otNNKD",
        "colab_type": "code",
        "outputId": "f7ceaf6d-c5d6-4c6a-e01c-a5f8881f7146",
        "colab": {
          "base_uri": "https://localhost:8080/",
          "height": 54
        }
      },
      "source": [
        "test = X.iloc[7610]['text']\n",
        "print(test)\n",
        "print('Lugares encontrados:',get_places(test))"
      ],
      "execution_count": 0,
      "outputs": [
        {
          "output_type": "stream",
          "text": [
            "M1.94 [01:04 UTC]?5km S of Volcano Hawaii. http://t.co/zDtoyd8EbJ\n",
            "Lugares encontrados: []\n"
          ],
          "name": "stdout"
        }
      ]
    },
    {
      "cell_type": "markdown",
      "metadata": {
        "id": "9s8ziqKCK8ek",
        "colab_type": "text"
      },
      "source": [
        "- Geotext: simple y eficaz, pero solo detecta ciudades y pasies. Regiones como Hawaii no son detectadas."
      ]
    },
    {
      "cell_type": "code",
      "metadata": {
        "trusted": true,
        "id": "s1I007GO9aIo",
        "colab_type": "code",
        "outputId": "5d397c8e-e9bf-4695-ed74-eb61cc91167d",
        "colab": {
          "base_uri": "https://localhost:8080/",
          "height": 54
        }
      },
      "source": [
        "from geotext import GeoText #solo ciudades y paises\n",
        "\n",
        "def get_places(text):\n",
        "    places = GeoText(text)\n",
        "    return places.cities + places.countries \n",
        "places = X[X.target==1]['text'].apply(get_places)\n",
        "places = [c for c in places if len(c)>0]\n",
        "print('% of tweets with places in Real tweets:',len(places)/ X[X.target==1].shape[0])\n",
        "places = X[X.target==0]['text'].apply(get_places)\n",
        "places = [c for c in places if len(c)>0]\n",
        "print('% of tweets with places in Fake tweets:',len(places)/ X[X.target==0].shape[0])"
      ],
      "execution_count": 0,
      "outputs": [
        {
          "output_type": "stream",
          "text": [
            "% of tweets with places in Real tweets: 0.24151635585447875\n",
            "% of tweets with places in Fake tweets: 0.08636573007830493\n"
          ],
          "name": "stdout"
        }
      ]
    },
    {
      "cell_type": "markdown",
      "metadata": {
        "id": "2OYZlji6SGI4",
        "colab_type": "text"
      },
      "source": [
        "- Mi propio extractor: otra opcion que me plantee fue generar mi propio extractor de lugares a partir de un CSV que contiene todas las principales ciudades del mundo, su pais y su region. El problema surgo en las ciudades compuestes, vease New York. La idea es ir buscando palabra por palabra si se encuentra dentro de la lista obtenida de localizaciones, por lo tanto buscaria por un lado New y por otro lado York."
      ]
    },
    {
      "cell_type": "code",
      "metadata": {
        "id": "P2XR0PKomR3m",
        "colab_type": "code",
        "colab": {}
      },
      "source": [
        "class PlacesFinder():\n",
        "    def __init__(self):\n",
        "        places_list = pd.read_csv(BASE_FOLDER+'resources/data/world-cities_csv.csv')\n",
        "        self.countries = set(pd.unique(places_list['country']))\n",
        "        self.cities =  set(pd.unique(places_list['name']))\n",
        "        self.regions = set(pd.unique(places_list['subcountry']))\n",
        "    def find_places(self, text):\n",
        "        places = []\n",
        "        clean_text = self.clean_text(text)\n",
        "        for word in clean_text:\n",
        "            if word in self.countries:\n",
        "                places.append(word)\n",
        "            elif word in self.regions:\n",
        "                places.append(word)\n",
        "            elif word in self.cities:\n",
        "                places.append(word)\n",
        "        return places\n",
        "    def clean_text(self, text):\n",
        "        #print(text)\n",
        "        table = str.maketrans('', '', string.punctuation)\n",
        "        words_stripped = [w.translate(table) for w in text.split(' ')]\n",
        "        words_alpha = [w for w in words_stripped if w.isalpha()]\n",
        "        \n",
        "        stop_words = stopwords.words('english')\n",
        "        stop_words.append('would')\n",
        "        stop_words.append('http')\n",
        "        stop_words.append('https')\n",
        "        stop_words.append('nt')\n",
        "        real_words = [w for w in words_alpha if not w in stop_words]\n",
        "        return real_words\n",
        "    "
      ],
      "execution_count": 0,
      "outputs": []
    },
    {
      "cell_type": "code",
      "metadata": {
        "id": "lFu0CE9Ys9So",
        "colab_type": "code",
        "outputId": "56c6c979-2149-4f89-e1bf-6227e6c254dd",
        "colab": {
          "base_uri": "https://localhost:8080/",
          "height": 54
        }
      },
      "source": [
        "pc = PlacesFinder()\n",
        "def get_places(text):\n",
        "    places = pc.find_places(text)\n",
        "    return places\n",
        "places = X[X.target==1]['text'].apply(get_places)\n",
        "places = [c for c in places if len(c)>0]\n",
        "print('% of tweets with places in Real tweets:',len(places)/ X[X.target==1].shape[0])\n",
        "places = X[X.target==0]['text'].apply(get_places)\n",
        "places = [c for c in places if len(c)>0]\n",
        "print('% of tweets with places in Fake tweets:',len(places)/ X[X.target==0].shape[0])"
      ],
      "execution_count": 0,
      "outputs": [
        {
          "output_type": "stream",
          "text": [
            "% of tweets with places in Real tweets: 0.3809232650565576\n",
            "% of tweets with places in Fake tweets: 0.11354214647627821\n"
          ],
          "name": "stdout"
        }
      ]
    },
    {
      "cell_type": "markdown",
      "metadata": {
        "id": "QXcDYAV6S7gh",
        "colab_type": "text"
      },
      "source": [
        "Finalmente, con esta funcion sustituiriamos los lugares obtenidos por la palabra clave que se decida. "
      ]
    },
    {
      "cell_type": "code",
      "metadata": {
        "id": "7LRLsWa6aGfH",
        "colab_type": "code",
        "colab": {}
      },
      "source": [
        "pc = PlacesFinder()\n",
        "\n",
        "def get_places(text, method='finder'):\n",
        "    if method== 'geotext':\n",
        "        places = GeoText(text)\n",
        "        return places.cities + places.countries \n",
        "    if method == 'spacy':\n",
        "        doc = nlp(text)\n",
        "        places = []\n",
        "        for ent in doc.ents:\n",
        "            if(ent.label_ == 'GPE'):\n",
        "                places.append(ent.text)\n",
        "        return places\n",
        "    if method == 'finder':\n",
        "        places = pc.find_places(text)\n",
        "        return places\n",
        "\n"
      ],
      "execution_count": 0,
      "outputs": []
    },
    {
      "cell_type": "code",
      "metadata": {
        "id": "Jgmy1LACHj54",
        "colab_type": "code",
        "colab": {}
      },
      "source": [
        "def subs_location(text, name = 'locationname', method='finder'):\n",
        "    places = get_places(text, method)\n",
        "    for p in places:\n",
        "        text = text.replace(p, name)\n",
        "    return text\n",
        "\n",
        "X['text_clean'] = X['text'].apply(subs_location, args=('locationname','finder'))"
      ],
      "execution_count": 0,
      "outputs": []
    },
    {
      "cell_type": "code",
      "metadata": {
        "id": "fRJ6wIL8UVBg",
        "colab_type": "code",
        "outputId": "6d7892cc-8707-402c-ab93-61378eee253c",
        "colab": {
          "base_uri": "https://localhost:8080/",
          "height": 206
        }
      },
      "source": [
        "X.head()"
      ],
      "execution_count": 0,
      "outputs": [
        {
          "output_type": "execute_result",
          "data": {
            "text/html": [
              "<div>\n",
              "<style scoped>\n",
              "    .dataframe tbody tr th:only-of-type {\n",
              "        vertical-align: middle;\n",
              "    }\n",
              "\n",
              "    .dataframe tbody tr th {\n",
              "        vertical-align: top;\n",
              "    }\n",
              "\n",
              "    .dataframe thead th {\n",
              "        text-align: right;\n",
              "    }\n",
              "</style>\n",
              "<table border=\"1\" class=\"dataframe\">\n",
              "  <thead>\n",
              "    <tr style=\"text-align: right;\">\n",
              "      <th></th>\n",
              "      <th>keyword</th>\n",
              "      <th>location</th>\n",
              "      <th>text</th>\n",
              "      <th>target</th>\n",
              "      <th>words</th>\n",
              "      <th>characters</th>\n",
              "      <th>exclamation</th>\n",
              "      <th>interrogations</th>\n",
              "      <th>quotion</th>\n",
              "      <th>upper</th>\n",
              "      <th>number</th>\n",
              "      <th>hastag</th>\n",
              "      <th>mentions</th>\n",
              "      <th>urls</th>\n",
              "      <th>text_clean</th>\n",
              "    </tr>\n",
              "  </thead>\n",
              "  <tbody>\n",
              "    <tr>\n",
              "      <th>0</th>\n",
              "      <td>NaN</td>\n",
              "      <td>NaN</td>\n",
              "      <td>Our Deeds are the Reason of this #earthquake M...</td>\n",
              "      <td>1</td>\n",
              "      <td>13</td>\n",
              "      <td>69</td>\n",
              "      <td>0.0</td>\n",
              "      <td>0.0</td>\n",
              "      <td>0.000000</td>\n",
              "      <td>0.144928</td>\n",
              "      <td>0.0</td>\n",
              "      <td>1</td>\n",
              "      <td>0</td>\n",
              "      <td>0</td>\n",
              "      <td>Our Deeds are the Reason of this #earthquake M...</td>\n",
              "    </tr>\n",
              "    <tr>\n",
              "      <th>1</th>\n",
              "      <td>NaN</td>\n",
              "      <td>NaN</td>\n",
              "      <td>Forest fire near La Ronge Sask. Canada</td>\n",
              "      <td>1</td>\n",
              "      <td>7</td>\n",
              "      <td>38</td>\n",
              "      <td>0.0</td>\n",
              "      <td>0.0</td>\n",
              "      <td>0.000000</td>\n",
              "      <td>0.131579</td>\n",
              "      <td>0.0</td>\n",
              "      <td>0</td>\n",
              "      <td>0</td>\n",
              "      <td>0</td>\n",
              "      <td>Forest fire near La Ronge Sask. locationname</td>\n",
              "    </tr>\n",
              "    <tr>\n",
              "      <th>2</th>\n",
              "      <td>NaN</td>\n",
              "      <td>NaN</td>\n",
              "      <td>All residents asked to 'shelter in place' are ...</td>\n",
              "      <td>1</td>\n",
              "      <td>22</td>\n",
              "      <td>133</td>\n",
              "      <td>0.0</td>\n",
              "      <td>0.0</td>\n",
              "      <td>0.015038</td>\n",
              "      <td>0.015038</td>\n",
              "      <td>0.0</td>\n",
              "      <td>0</td>\n",
              "      <td>0</td>\n",
              "      <td>0</td>\n",
              "      <td>All residents asked to 'shelter in place' are ...</td>\n",
              "    </tr>\n",
              "    <tr>\n",
              "      <th>3</th>\n",
              "      <td>NaN</td>\n",
              "      <td>NaN</td>\n",
              "      <td>13,000 people receive #wildfires evacuation or...</td>\n",
              "      <td>1</td>\n",
              "      <td>9</td>\n",
              "      <td>65</td>\n",
              "      <td>0.0</td>\n",
              "      <td>0.0</td>\n",
              "      <td>0.000000</td>\n",
              "      <td>0.015385</td>\n",
              "      <td>0.0</td>\n",
              "      <td>1</td>\n",
              "      <td>0</td>\n",
              "      <td>0</td>\n",
              "      <td>13,000 people receive #wildfires evacuation or...</td>\n",
              "    </tr>\n",
              "    <tr>\n",
              "      <th>4</th>\n",
              "      <td>NaN</td>\n",
              "      <td>NaN</td>\n",
              "      <td>Just got sent this photo from Ruby #Alaska as ...</td>\n",
              "      <td>1</td>\n",
              "      <td>17</td>\n",
              "      <td>88</td>\n",
              "      <td>0.0</td>\n",
              "      <td>0.0</td>\n",
              "      <td>0.000000</td>\n",
              "      <td>0.034091</td>\n",
              "      <td>0.0</td>\n",
              "      <td>2</td>\n",
              "      <td>0</td>\n",
              "      <td>0</td>\n",
              "      <td>Just got sent this photo from Ruby #locationna...</td>\n",
              "    </tr>\n",
              "  </tbody>\n",
              "</table>\n",
              "</div>"
            ],
            "text/plain": [
              "  keyword location  ... urls                                         text_clean\n",
              "0     NaN      NaN  ...    0  Our Deeds are the Reason of this #earthquake M...\n",
              "1     NaN      NaN  ...    0       Forest fire near La Ronge Sask. locationname\n",
              "2     NaN      NaN  ...    0  All residents asked to 'shelter in place' are ...\n",
              "3     NaN      NaN  ...    0  13,000 people receive #wildfires evacuation or...\n",
              "4     NaN      NaN  ...    0  Just got sent this photo from Ruby #locationna...\n",
              "\n",
              "[5 rows x 15 columns]"
            ]
          },
          "metadata": {
            "tags": []
          },
          "execution_count": 289
        }
      ]
    },
    {
      "cell_type": "markdown",
      "metadata": {
        "id": "-9u1JKSQ9aIw",
        "colab_type": "text"
      },
      "source": [
        "## Limpieza\n",
        "\n",
        "Como hemos podido comprobar, el poroceso de limpieza es efectivo. Vamos a crear un a fucnión con los pasos seguidos para aplicarla a cada uno de los tweets. Esto podría ser una alternativa o un complemento a la herramineta Tokenizer de Keras, o a otras herrmientas (he visto que se utiliza habitualmente mucho una llamada GloVe)"
      ]
    },
    {
      "cell_type": "code",
      "metadata": {
        "id": "P4U22lYOMJkg",
        "colab_type": "code",
        "colab": {
          "base_uri": "https://localhost:8080/",
          "height": 85
        },
        "outputId": "0c760955-d52b-4c87-81c3-a4b7a41be12f"
      },
      "source": [
        "import nltk\n",
        "nltk.download('punkt')\n",
        "nltk.download('stopwords')\n"
      ],
      "execution_count": 15,
      "outputs": [
        {
          "output_type": "stream",
          "text": [
            "[nltk_data] Downloading package punkt to /root/nltk_data...\n",
            "[nltk_data]   Unzipping tokenizers/punkt.zip.\n",
            "[nltk_data] Downloading package stopwords to /root/nltk_data...\n",
            "[nltk_data]   Unzipping corpora/stopwords.zip.\n"
          ],
          "name": "stdout"
        }
      ]
    },
    {
      "cell_type": "code",
      "metadata": {
        "id": "_T6zMjb9Mc19",
        "colab_type": "code",
        "colab": {}
      },
      "source": [
        "from nltk.stem import SnowballStemmer\n",
        "from nltk.corpus import stopwords\n",
        "import string\n",
        "import re"
      ],
      "execution_count": 0,
      "outputs": []
    },
    {
      "cell_type": "code",
      "metadata": {
        "id": "REJjUQN20ngM",
        "colab_type": "code",
        "outputId": "ec84b29b-eb73-4be4-dec5-b607c5215ac5",
        "colab": {
          "base_uri": "https://localhost:8080/",
          "height": 419
        }
      },
      "source": [
        "X"
      ],
      "execution_count": 20,
      "outputs": [
        {
          "output_type": "execute_result",
          "data": {
            "text/html": [
              "<div>\n",
              "<style scoped>\n",
              "    .dataframe tbody tr th:only-of-type {\n",
              "        vertical-align: middle;\n",
              "    }\n",
              "\n",
              "    .dataframe tbody tr th {\n",
              "        vertical-align: top;\n",
              "    }\n",
              "\n",
              "    .dataframe thead th {\n",
              "        text-align: right;\n",
              "    }\n",
              "</style>\n",
              "<table border=\"1\" class=\"dataframe\">\n",
              "  <thead>\n",
              "    <tr style=\"text-align: right;\">\n",
              "      <th></th>\n",
              "      <th>keyword</th>\n",
              "      <th>location</th>\n",
              "      <th>text</th>\n",
              "      <th>target</th>\n",
              "    </tr>\n",
              "  </thead>\n",
              "  <tbody>\n",
              "    <tr>\n",
              "      <th>0</th>\n",
              "      <td>NaN</td>\n",
              "      <td>NaN</td>\n",
              "      <td>Our Deeds are the Reason of this #earthquake M...</td>\n",
              "      <td>1</td>\n",
              "    </tr>\n",
              "    <tr>\n",
              "      <th>1</th>\n",
              "      <td>NaN</td>\n",
              "      <td>NaN</td>\n",
              "      <td>Forest fire near La Ronge Sask. Canada</td>\n",
              "      <td>1</td>\n",
              "    </tr>\n",
              "    <tr>\n",
              "      <th>2</th>\n",
              "      <td>NaN</td>\n",
              "      <td>NaN</td>\n",
              "      <td>All residents asked to 'shelter in place' are ...</td>\n",
              "      <td>1</td>\n",
              "    </tr>\n",
              "    <tr>\n",
              "      <th>3</th>\n",
              "      <td>NaN</td>\n",
              "      <td>NaN</td>\n",
              "      <td>13,000 people receive #wildfires evacuation or...</td>\n",
              "      <td>1</td>\n",
              "    </tr>\n",
              "    <tr>\n",
              "      <th>4</th>\n",
              "      <td>NaN</td>\n",
              "      <td>NaN</td>\n",
              "      <td>Just got sent this photo from Ruby #Alaska as ...</td>\n",
              "      <td>1</td>\n",
              "    </tr>\n",
              "    <tr>\n",
              "      <th>...</th>\n",
              "      <td>...</td>\n",
              "      <td>...</td>\n",
              "      <td>...</td>\n",
              "      <td>...</td>\n",
              "    </tr>\n",
              "    <tr>\n",
              "      <th>7608</th>\n",
              "      <td>NaN</td>\n",
              "      <td>NaN</td>\n",
              "      <td>Two giant cranes holding a bridge collapse int...</td>\n",
              "      <td>1</td>\n",
              "    </tr>\n",
              "    <tr>\n",
              "      <th>7609</th>\n",
              "      <td>NaN</td>\n",
              "      <td>NaN</td>\n",
              "      <td>@aria_ahrary @TheTawniest The out of control w...</td>\n",
              "      <td>1</td>\n",
              "    </tr>\n",
              "    <tr>\n",
              "      <th>7610</th>\n",
              "      <td>NaN</td>\n",
              "      <td>NaN</td>\n",
              "      <td>M1.94 [01:04 UTC]?5km S of Volcano Hawaii. htt...</td>\n",
              "      <td>1</td>\n",
              "    </tr>\n",
              "    <tr>\n",
              "      <th>7611</th>\n",
              "      <td>NaN</td>\n",
              "      <td>NaN</td>\n",
              "      <td>Police investigating after an e-bike collided ...</td>\n",
              "      <td>1</td>\n",
              "    </tr>\n",
              "    <tr>\n",
              "      <th>7612</th>\n",
              "      <td>NaN</td>\n",
              "      <td>NaN</td>\n",
              "      <td>The Latest: More Homes Razed by Northern Calif...</td>\n",
              "      <td>1</td>\n",
              "    </tr>\n",
              "  </tbody>\n",
              "</table>\n",
              "<p>7613 rows × 4 columns</p>\n",
              "</div>"
            ],
            "text/plain": [
              "     keyword  ... target\n",
              "0        NaN  ...      1\n",
              "1        NaN  ...      1\n",
              "2        NaN  ...      1\n",
              "3        NaN  ...      1\n",
              "4        NaN  ...      1\n",
              "...      ...  ...    ...\n",
              "7608     NaN  ...      1\n",
              "7609     NaN  ...      1\n",
              "7610     NaN  ...      1\n",
              "7611     NaN  ...      1\n",
              "7612     NaN  ...      1\n",
              "\n",
              "[7613 rows x 4 columns]"
            ]
          },
          "metadata": {
            "tags": []
          },
          "execution_count": 20
        }
      ]
    },
    {
      "cell_type": "code",
      "metadata": {
        "id": "2xtJyaZwiMJi",
        "colab_type": "code",
        "outputId": "b07092fd-1b93-4843-93ab-699382dba11b",
        "colab": {
          "base_uri": "https://localhost:8080/",
          "height": 34
        }
      },
      "source": [
        "duplicated_text = list(set(X[X.text.duplicated()].text.to_list()))\n",
        "print(\"Tweets repetidos:\",len(duplicated_text))"
      ],
      "execution_count": 21,
      "outputs": [
        {
          "output_type": "stream",
          "text": [
            "Tweets repetidos: 69\n"
          ],
          "name": "stdout"
        }
      ]
    },
    {
      "cell_type": "code",
      "metadata": {
        "id": "LIOPtxeo9YQT",
        "colab_type": "code",
        "outputId": "6c822d7b-55d4-4af5-bba1-5bef48d0f42d",
        "colab": {
          "base_uri": "https://localhost:8080/",
          "height": 51
        }
      },
      "source": [
        "X.drop_duplicates(keep=False,inplace=True) \n",
        "\n",
        "\n",
        "duplicated_text = list(set(X[X.text.duplicated()].text.to_list()))\n",
        "print(\"Tweets repetidos:\",len(duplicated_text))\n",
        "counter = 0\n",
        "for d in duplicated_text:\n",
        "    if len(pd.unique(X[X.text == d].target)) > 1:\n",
        "        counter += 1\n",
        "        X = X[X.text != d]\n",
        "    else: \n",
        "        X = X.drop(X[X.text == d].index[1:].values)\n",
        "\n",
        "print (\"Tweets incorrectamente etiquetados:\", counter)"
      ],
      "execution_count": 22,
      "outputs": [
        {
          "output_type": "stream",
          "text": [
            "Tweets repetidos: 40\n",
            "Tweets incorrectamente etiquetados: 10\n"
          ],
          "name": "stdout"
        }
      ]
    },
    {
      "cell_type": "code",
      "metadata": {
        "trusted": true,
        "id": "mSqVqDgO9aIw",
        "colab_type": "code",
        "colab": {}
      },
      "source": [
        "sno = SnowballStemmer('english')\n",
        "\n",
        "def remove_mentions(text):\n",
        "    text = re.sub(r\"@\\S*\", \"\", text)\n",
        "    return text\n",
        "\n",
        "def remove_links(text):\n",
        "    text = re.sub(r\"http\\S+\", \"\", text)\n",
        "    return text\n",
        "\n",
        "def remove_emoji(text):\n",
        "    emoji_pattern = re.compile(\"[\"\n",
        "                           u\"\\U0001F600-\\U0001F64F\"  # emoticons\n",
        "                           u\"\\U0001F300-\\U0001F5FF\"  # symbols & pictographs\n",
        "                           u\"\\U0001F680-\\U0001F6FF\"  # transport & map symbols\n",
        "                           u\"\\U0001F1E0-\\U0001F1FF\"  # flags (iOS)\n",
        "                           u\"\\U00002702-\\U000027B0\"\n",
        "                           u\"\\U000024C2-\\U0001F251\"\n",
        "                           \"]+\", flags=re.UNICODE)\n",
        "    return emoji_pattern.sub(r'', text)\n",
        "\n",
        "\n",
        "def clean_text(text):\n",
        "    #print(text)\n",
        "    text = remove_links(text)\n",
        "    text = remove_emoji(text)\n",
        "    text = remove_mentions(text)\n",
        "    table = str.maketrans('', '', string.punctuation)\n",
        "    words_stripped = [w.translate(table) for w in text.split(' ')]\n",
        "    words_alpha = [w.lower() for w in words_stripped if w.isalpha()]\n",
        "    \n",
        "    stop_words = stopwords.words('english')\n",
        "    stop_words.append('would')\n",
        "    stop_words.append('http')\n",
        "    stop_words.append('https')\n",
        "    stop_words.append('nt')\n",
        "    real_words = [w for w in words_alpha if not w in stop_words]\n",
        "    \n",
        "    setammed_tokens = [sno.stem(word) for word in real_words]\n",
        "    #print(res)\n",
        "    return ' '.join(setammed_tokens)\n",
        "\n",
        "    \n",
        "X['cleaned_text'] = X['text'].apply(clean_text)"
      ],
      "execution_count": 0,
      "outputs": []
    },
    {
      "cell_type": "code",
      "metadata": {
        "id": "yRvrTbJ-19KC",
        "colab_type": "code",
        "outputId": "bc9256a8-4e5d-4e02-8f93-d424a1099d39",
        "colab": {
          "base_uri": "https://localhost:8080/",
          "height": 51
        }
      },
      "source": [
        "print(X.iloc[0].text)\n",
        "print(X.iloc[0].cleaned_text)\n"
      ],
      "execution_count": 0,
      "outputs": [
        {
          "output_type": "stream",
          "text": [
            "Our Deeds are the Reason of this #earthquake May ALLAH Forgive us all\n",
            "deed reason earthquak may allah forgiv us\n"
          ],
          "name": "stdout"
        }
      ]
    },
    {
      "cell_type": "code",
      "metadata": {
        "id": "ALg3leRZM2Xs",
        "colab_type": "code",
        "colab": {}
      },
      "source": [
        "X = X.drop('location', axis=1)"
      ],
      "execution_count": 0,
      "outputs": []
    },
    {
      "cell_type": "code",
      "metadata": {
        "id": "ZuSdNcC6zkFu",
        "colab_type": "code",
        "colab": {}
      },
      "source": [
        "X.to_csv(BASE_FOLDER+\"/resources/data/cleaned.csv\")"
      ],
      "execution_count": 0,
      "outputs": []
    },
    {
      "cell_type": "code",
      "metadata": {
        "id": "pe0VHJRcv4kt",
        "colab_type": "code",
        "outputId": "39ed1a84-50d1-4b06-989f-75a0e9b19d3b",
        "colab": {
          "base_uri": "https://localhost:8080/",
          "height": 419
        }
      },
      "source": [
        "X"
      ],
      "execution_count": 30,
      "outputs": [
        {
          "output_type": "execute_result",
          "data": {
            "text/html": [
              "<div>\n",
              "<style scoped>\n",
              "    .dataframe tbody tr th:only-of-type {\n",
              "        vertical-align: middle;\n",
              "    }\n",
              "\n",
              "    .dataframe tbody tr th {\n",
              "        vertical-align: top;\n",
              "    }\n",
              "\n",
              "    .dataframe thead th {\n",
              "        text-align: right;\n",
              "    }\n",
              "</style>\n",
              "<table border=\"1\" class=\"dataframe\">\n",
              "  <thead>\n",
              "    <tr style=\"text-align: right;\">\n",
              "      <th></th>\n",
              "      <th>keyword</th>\n",
              "      <th>text</th>\n",
              "      <th>target</th>\n",
              "      <th>cleaned_text</th>\n",
              "    </tr>\n",
              "  </thead>\n",
              "  <tbody>\n",
              "    <tr>\n",
              "      <th>0</th>\n",
              "      <td>NaN</td>\n",
              "      <td>Our Deeds are the Reason of this #earthquake M...</td>\n",
              "      <td>1</td>\n",
              "      <td>deed reason earthquak may allah forgiv us</td>\n",
              "    </tr>\n",
              "    <tr>\n",
              "      <th>1</th>\n",
              "      <td>NaN</td>\n",
              "      <td>Forest fire near La Ronge Sask. Canada</td>\n",
              "      <td>1</td>\n",
              "      <td>forest fire near la rong sask canada</td>\n",
              "    </tr>\n",
              "    <tr>\n",
              "      <th>2</th>\n",
              "      <td>NaN</td>\n",
              "      <td>All residents asked to 'shelter in place' are ...</td>\n",
              "      <td>1</td>\n",
              "      <td>resid ask shelter place notifi offic evacu she...</td>\n",
              "    </tr>\n",
              "    <tr>\n",
              "      <th>3</th>\n",
              "      <td>NaN</td>\n",
              "      <td>13,000 people receive #wildfires evacuation or...</td>\n",
              "      <td>1</td>\n",
              "      <td>peopl receiv wildfir evacu order california</td>\n",
              "    </tr>\n",
              "    <tr>\n",
              "      <th>4</th>\n",
              "      <td>NaN</td>\n",
              "      <td>Just got sent this photo from Ruby #Alaska as ...</td>\n",
              "      <td>1</td>\n",
              "      <td>got sent photo rubi alaska smoke wildfir pour ...</td>\n",
              "    </tr>\n",
              "    <tr>\n",
              "      <th>...</th>\n",
              "      <td>...</td>\n",
              "      <td>...</td>\n",
              "      <td>...</td>\n",
              "      <td>...</td>\n",
              "    </tr>\n",
              "    <tr>\n",
              "      <th>7604</th>\n",
              "      <td>NaN</td>\n",
              "      <td>#WorldNews Fallen powerlines on G:link tram: U...</td>\n",
              "      <td>1</td>\n",
              "      <td>worldnew fallen powerlin glink tram updat fire...</td>\n",
              "    </tr>\n",
              "    <tr>\n",
              "      <th>7605</th>\n",
              "      <td>NaN</td>\n",
              "      <td>on the flip side I'm at Walmart and there is a...</td>\n",
              "      <td>1</td>\n",
              "      <td>flip side im walmart bomb everyon evacu stay t...</td>\n",
              "    </tr>\n",
              "    <tr>\n",
              "      <th>7606</th>\n",
              "      <td>NaN</td>\n",
              "      <td>Suicide bomber kills 15 in Saudi security site...</td>\n",
              "      <td>1</td>\n",
              "      <td>suicid bomber kill saudi secur site mosqu reut...</td>\n",
              "    </tr>\n",
              "    <tr>\n",
              "      <th>7608</th>\n",
              "      <td>NaN</td>\n",
              "      <td>Two giant cranes holding a bridge collapse int...</td>\n",
              "      <td>1</td>\n",
              "      <td>two giant crane hold bridg collaps nearbi home</td>\n",
              "    </tr>\n",
              "    <tr>\n",
              "      <th>7612</th>\n",
              "      <td>NaN</td>\n",
              "      <td>The Latest: More Homes Razed by Northern Calif...</td>\n",
              "      <td>1</td>\n",
              "      <td>latest home raze northern california wildfir a...</td>\n",
              "    </tr>\n",
              "  </tbody>\n",
              "</table>\n",
              "<p>7471 rows × 4 columns</p>\n",
              "</div>"
            ],
            "text/plain": [
              "     keyword  ...                                       cleaned_text\n",
              "0        NaN  ...          deed reason earthquak may allah forgiv us\n",
              "1        NaN  ...               forest fire near la rong sask canada\n",
              "2        NaN  ...  resid ask shelter place notifi offic evacu she...\n",
              "3        NaN  ...        peopl receiv wildfir evacu order california\n",
              "4        NaN  ...  got sent photo rubi alaska smoke wildfir pour ...\n",
              "...      ...  ...                                                ...\n",
              "7604     NaN  ...  worldnew fallen powerlin glink tram updat fire...\n",
              "7605     NaN  ...  flip side im walmart bomb everyon evacu stay t...\n",
              "7606     NaN  ...  suicid bomber kill saudi secur site mosqu reut...\n",
              "7608     NaN  ...     two giant crane hold bridg collaps nearbi home\n",
              "7612     NaN  ...  latest home raze northern california wildfir a...\n",
              "\n",
              "[7471 rows x 4 columns]"
            ]
          },
          "metadata": {
            "tags": []
          },
          "execution_count": 30
        }
      ]
    },
    {
      "cell_type": "markdown",
      "metadata": {
        "id": "0FOY_qhO9aI0",
        "colab_type": "text"
      },
      "source": [
        "Este tutorial incluye diferentes opciones que se pueden investigar: https://nlpforhackers.io/keras-intro/"
      ]
    },
    {
      "cell_type": "markdown",
      "metadata": {
        "id": "cz4RzNbfbu2g",
        "colab_type": "text"
      },
      "source": [
        "### ELMO\n"
      ]
    },
    {
      "cell_type": "code",
      "metadata": {
        "id": "DOcnUWMYb6w-",
        "colab_type": "code",
        "colab": {}
      },
      "source": [
        "import tensorflow_hub as hub\n",
        "import tensorflow as tf\n"
      ],
      "execution_count": 0,
      "outputs": []
    },
    {
      "cell_type": "code",
      "metadata": {
        "id": "62NKTt57poDy",
        "colab_type": "code",
        "colab": {}
      },
      "source": [
        "X_train = X['cleaned_text']"
      ],
      "execution_count": 0,
      "outputs": []
    },
    {
      "cell_type": "code",
      "metadata": {
        "id": "XP1TXmspkI84",
        "colab_type": "code",
        "colab": {}
      },
      "source": [
        "tf.compat.v1.disable_eager_execution()\n",
        "embed = hub.KerasLayer(\"https://tfhub.dev/google/elmo/2\")   \n",
        "def ELMoEmbedding(x):\n",
        "    return embed(tf.squeeze(tf.cast(x, tf.string)), signature=\"default\", as_dict=True)[\"default\"]"
      ],
      "execution_count": 0,
      "outputs": []
    },
    {
      "cell_type": "code",
      "metadata": {
        "id": "LMMrcQDGjJhW",
        "colab_type": "code",
        "outputId": "d55d3822-8f54-472f-9d16-7d7207000fdd",
        "colab": {
          "base_uri": "https://localhost:8080/",
          "height": 620
        }
      },
      "source": [
        "from tensorflow.keras.models import Sequential, Model\n",
        "from tensorflow.keras.layers import Dense, Dropout,Input, Lambda\n",
        "from tensorflow.keras import regularizers, callbacks, optimizers\n",
        "\n",
        "def build_model(): \n",
        "    input_text = Input(shape=(1,), dtype=\"string\")\n",
        "    embedding = embed(input_text)\n",
        "    dense = Dense(256, activation='relu', kernel_regularizer=keras.regularizers.l2(0.001))(embedding)\n",
        "    pred = Dense(1, activation='sigmoid')(dense)\n",
        "    model = Model(inputs=[input_text], outputs=pred)\n",
        "    model.compile(loss='binary_crossentropy', optimizer='rmsprop', metrics=['accuracy'])\n",
        "    return model\n",
        "model_elmo = build_model()\n"
      ],
      "execution_count": 0,
      "outputs": [
        {
          "output_type": "error",
          "ename": "ValueError",
          "evalue": "ignored",
          "traceback": [
            "\u001b[0;31m---------------------------------------------------------------------------\u001b[0m",
            "\u001b[0;31mValueError\u001b[0m                                Traceback (most recent call last)",
            "\u001b[0;32m<ipython-input-92-1c32696510da>\u001b[0m in \u001b[0;36m<module>\u001b[0;34m()\u001b[0m\n\u001b[1;32m     11\u001b[0m     \u001b[0mmodel\u001b[0m\u001b[0;34m.\u001b[0m\u001b[0mcompile\u001b[0m\u001b[0;34m(\u001b[0m\u001b[0mloss\u001b[0m\u001b[0;34m=\u001b[0m\u001b[0;34m'binary_crossentropy'\u001b[0m\u001b[0;34m,\u001b[0m \u001b[0moptimizer\u001b[0m\u001b[0;34m=\u001b[0m\u001b[0;34m'rmsprop'\u001b[0m\u001b[0;34m,\u001b[0m \u001b[0mmetrics\u001b[0m\u001b[0;34m=\u001b[0m\u001b[0;34m[\u001b[0m\u001b[0;34m'accuracy'\u001b[0m\u001b[0;34m]\u001b[0m\u001b[0;34m)\u001b[0m\u001b[0;34m\u001b[0m\u001b[0;34m\u001b[0m\u001b[0m\n\u001b[1;32m     12\u001b[0m     \u001b[0;32mreturn\u001b[0m \u001b[0mmodel\u001b[0m\u001b[0;34m\u001b[0m\u001b[0;34m\u001b[0m\u001b[0m\n\u001b[0;32m---> 13\u001b[0;31m \u001b[0mmodel_elmo\u001b[0m \u001b[0;34m=\u001b[0m \u001b[0mbuild_model\u001b[0m\u001b[0;34m(\u001b[0m\u001b[0;34m)\u001b[0m\u001b[0;34m\u001b[0m\u001b[0;34m\u001b[0m\u001b[0m\n\u001b[0m",
            "\u001b[0;32m<ipython-input-92-1c32696510da>\u001b[0m in \u001b[0;36mbuild_model\u001b[0;34m()\u001b[0m\n\u001b[1;32m      5\u001b[0m \u001b[0;32mdef\u001b[0m \u001b[0mbuild_model\u001b[0m\u001b[0;34m(\u001b[0m\u001b[0;34m)\u001b[0m\u001b[0;34m:\u001b[0m\u001b[0;34m\u001b[0m\u001b[0;34m\u001b[0m\u001b[0m\n\u001b[1;32m      6\u001b[0m     \u001b[0minput_text\u001b[0m \u001b[0;34m=\u001b[0m \u001b[0mInput\u001b[0m\u001b[0;34m(\u001b[0m\u001b[0mshape\u001b[0m\u001b[0;34m=\u001b[0m\u001b[0;34m(\u001b[0m\u001b[0;36m1\u001b[0m\u001b[0;34m,\u001b[0m\u001b[0;34m)\u001b[0m\u001b[0;34m,\u001b[0m \u001b[0mdtype\u001b[0m\u001b[0;34m=\u001b[0m\u001b[0;34m\"string\"\u001b[0m\u001b[0;34m)\u001b[0m\u001b[0;34m\u001b[0m\u001b[0;34m\u001b[0m\u001b[0m\n\u001b[0;32m----> 7\u001b[0;31m     \u001b[0membedding\u001b[0m \u001b[0;34m=\u001b[0m \u001b[0membed\u001b[0m\u001b[0;34m(\u001b[0m\u001b[0minput_text\u001b[0m\u001b[0;34m)\u001b[0m\u001b[0;34m\u001b[0m\u001b[0;34m\u001b[0m\u001b[0m\n\u001b[0m\u001b[1;32m      8\u001b[0m     \u001b[0mdense\u001b[0m \u001b[0;34m=\u001b[0m \u001b[0mDense\u001b[0m\u001b[0;34m(\u001b[0m\u001b[0;36m256\u001b[0m\u001b[0;34m,\u001b[0m \u001b[0mactivation\u001b[0m\u001b[0;34m=\u001b[0m\u001b[0;34m'relu'\u001b[0m\u001b[0;34m,\u001b[0m \u001b[0mkernel_regularizer\u001b[0m\u001b[0;34m=\u001b[0m\u001b[0mkeras\u001b[0m\u001b[0;34m.\u001b[0m\u001b[0mregularizers\u001b[0m\u001b[0;34m.\u001b[0m\u001b[0ml2\u001b[0m\u001b[0;34m(\u001b[0m\u001b[0;36m0.001\u001b[0m\u001b[0;34m)\u001b[0m\u001b[0;34m)\u001b[0m\u001b[0;34m(\u001b[0m\u001b[0membedding\u001b[0m\u001b[0;34m)\u001b[0m\u001b[0;34m\u001b[0m\u001b[0;34m\u001b[0m\u001b[0m\n\u001b[1;32m      9\u001b[0m     \u001b[0mpred\u001b[0m \u001b[0;34m=\u001b[0m \u001b[0mDense\u001b[0m\u001b[0;34m(\u001b[0m\u001b[0;36m1\u001b[0m\u001b[0;34m,\u001b[0m \u001b[0mactivation\u001b[0m\u001b[0;34m=\u001b[0m\u001b[0;34m'sigmoid'\u001b[0m\u001b[0;34m)\u001b[0m\u001b[0;34m(\u001b[0m\u001b[0mdense\u001b[0m\u001b[0;34m)\u001b[0m\u001b[0;34m\u001b[0m\u001b[0;34m\u001b[0m\u001b[0m\n",
            "\u001b[0;32m/usr/local/lib/python3.6/dist-packages/tensorflow/python/keras/engine/base_layer_v1.py\u001b[0m in \u001b[0;36m__call__\u001b[0;34m(self, *args, **kwargs)\u001b[0m\n\u001b[1;32m    776\u001b[0m               with base_layer_utils.autocast_context_manager(\n\u001b[1;32m    777\u001b[0m                   self._compute_dtype):\n\u001b[0;32m--> 778\u001b[0;31m                 \u001b[0moutputs\u001b[0m \u001b[0;34m=\u001b[0m \u001b[0mcall_fn\u001b[0m\u001b[0;34m(\u001b[0m\u001b[0mcast_inputs\u001b[0m\u001b[0;34m,\u001b[0m \u001b[0;34m*\u001b[0m\u001b[0margs\u001b[0m\u001b[0;34m,\u001b[0m \u001b[0;34m**\u001b[0m\u001b[0mkwargs\u001b[0m\u001b[0;34m)\u001b[0m\u001b[0;34m\u001b[0m\u001b[0;34m\u001b[0m\u001b[0m\n\u001b[0m\u001b[1;32m    779\u001b[0m \u001b[0;34m\u001b[0m\u001b[0m\n\u001b[1;32m    780\u001b[0m             \u001b[0;32mexcept\u001b[0m \u001b[0merrors\u001b[0m\u001b[0;34m.\u001b[0m\u001b[0mOperatorNotAllowedInGraphError\u001b[0m \u001b[0;32mas\u001b[0m \u001b[0me\u001b[0m\u001b[0;34m:\u001b[0m\u001b[0;34m\u001b[0m\u001b[0;34m\u001b[0m\u001b[0m\n",
            "\u001b[0;32m/usr/local/lib/python3.6/dist-packages/tensorflow/python/autograph/impl/api.py\u001b[0m in \u001b[0;36mwrapper\u001b[0;34m(*args, **kwargs)\u001b[0m\n\u001b[1;32m    263\u001b[0m       \u001b[0;32mexcept\u001b[0m \u001b[0mException\u001b[0m \u001b[0;32mas\u001b[0m \u001b[0me\u001b[0m\u001b[0;34m:\u001b[0m  \u001b[0;31m# pylint:disable=broad-except\u001b[0m\u001b[0;34m\u001b[0m\u001b[0;34m\u001b[0m\u001b[0m\n\u001b[1;32m    264\u001b[0m         \u001b[0;32mif\u001b[0m \u001b[0mhasattr\u001b[0m\u001b[0;34m(\u001b[0m\u001b[0me\u001b[0m\u001b[0;34m,\u001b[0m \u001b[0;34m'ag_error_metadata'\u001b[0m\u001b[0;34m)\u001b[0m\u001b[0;34m:\u001b[0m\u001b[0;34m\u001b[0m\u001b[0;34m\u001b[0m\u001b[0m\n\u001b[0;32m--> 265\u001b[0;31m           \u001b[0;32mraise\u001b[0m \u001b[0me\u001b[0m\u001b[0;34m.\u001b[0m\u001b[0mag_error_metadata\u001b[0m\u001b[0;34m.\u001b[0m\u001b[0mto_exception\u001b[0m\u001b[0;34m(\u001b[0m\u001b[0me\u001b[0m\u001b[0;34m)\u001b[0m\u001b[0;34m\u001b[0m\u001b[0;34m\u001b[0m\u001b[0m\n\u001b[0m\u001b[1;32m    266\u001b[0m         \u001b[0;32melse\u001b[0m\u001b[0;34m:\u001b[0m\u001b[0;34m\u001b[0m\u001b[0;34m\u001b[0m\u001b[0m\n\u001b[1;32m    267\u001b[0m           \u001b[0;32mraise\u001b[0m\u001b[0;34m\u001b[0m\u001b[0;34m\u001b[0m\u001b[0m\n",
            "\u001b[0;31mValueError\u001b[0m: in user code:\n\n    /usr/local/lib/python3.6/dist-packages/tensorflow_hub/keras_layer.py:222 call  *\n        result = f()\n    /usr/local/lib/python3.6/dist-packages/tensorflow/python/eager/function.py:1605 __call__  **\n        return self._call_impl(args, kwargs)\n    /usr/local/lib/python3.6/dist-packages/tensorflow/python/eager/function.py:1645 _call_impl\n        return self._call_flat(args, self.captured_inputs, cancellation_manager)\n    /usr/local/lib/python3.6/dist-packages/tensorflow/python/eager/function.py:1730 _call_flat\n        arg.shape))\n\n    ValueError: The argument 'text' (value Tensor(\"input_4:0\", shape=(None, 1), dtype=string)) is not compatible with the shape this function was traced with. Expected shape (None,), but got shape (None, 1).\n    \n    If you called get_concrete_function, you may need to pass a tf.TensorSpec(..., shape=...) with a less specific shape, having None on axes which can vary.\n"
          ]
        }
      ]
    },
    {
      "cell_type": "markdown",
      "metadata": {
        "id": "vFfkZhzu9aI1",
        "colab_type": "text"
      },
      "source": [
        "## Modelo simple\n",
        "CountVectorizer + red neuronal densa\n",
        "\n",
        "Info: https://scikit-learn.org/stable/modules/generated/sklearn.feature_extraction.text.CountVectorizer.html"
      ]
    },
    {
      "cell_type": "code",
      "metadata": {
        "trusted": true,
        "id": "RiGGciM-9aI2",
        "colab_type": "code",
        "colab": {}
      },
      "source": [
        "# ESTO SOLO USA COUNT VECTORIZER\n",
        "from sklearn.feature_extraction.text import CountVectorizer\n",
        "vectorizer = CountVectorizer(binary=True, stop_words='english', \n",
        "                             lowercase=True, min_df=3, max_df=0.9, max_features=10000)\n",
        "data_onehot = vectorizer.fit_transform(X['text'])"
      ],
      "execution_count": 0,
      "outputs": []
    },
    {
      "cell_type": "code",
      "metadata": {
        "trusted": true,
        "id": "ccpIdEr49aI5",
        "colab_type": "code",
        "colab": {}
      },
      "source": [
        "from keras.utils import to_categorical\n",
        "\n",
        "labels = X['target']\n",
        "labels_encoded = to_categorical(labels)"
      ],
      "execution_count": 0,
      "outputs": []
    },
    {
      "cell_type": "code",
      "metadata": {
        "trusted": true,
        "id": "aJxl-6aA9aI8",
        "colab_type": "code",
        "colab": {}
      },
      "source": [
        "from sklearn.model_selection import train_test_split\n",
        "X_train, X_test, y_train, y_test = train_test_split(data_onehot, labels_encoded, test_size=0.33, random_state=42)"
      ],
      "execution_count": 0,
      "outputs": []
    },
    {
      "cell_type": "code",
      "metadata": {
        "trusted": true,
        "id": "x36Yin4K9aI-",
        "colab_type": "code",
        "colab": {}
      },
      "source": [
        "from keras.models import Sequential\n",
        "from keras.layers import Dense, Dropout\n",
        " \n",
        "model = Sequential()\n",
        " \n",
        "model.add(Dense(8, activation='relu', input_dim=len(vectorizer.get_feature_names())))\n",
        "model.add(Dense(8, activation='relu'))\n",
        "model.add(Dense(8, activation='relu'))\n",
        "model.add(Dense(2, activation='softmax'))\n",
        " \n",
        "model.compile(loss='binary_crossentropy', optimizer='adam', metrics=['accuracy'])\n",
        "model.summary()"
      ],
      "execution_count": 0,
      "outputs": []
    },
    {
      "cell_type": "code",
      "metadata": {
        "trusted": true,
        "id": "fubBspzL9aJA",
        "colab_type": "code",
        "colab": {}
      },
      "source": [
        "model.fit(X_train, y_train, \n",
        "          epochs=10, batch_size=32, verbose=1, \n",
        "          validation_split=0.2)"
      ],
      "execution_count": 0,
      "outputs": []
    },
    {
      "cell_type": "code",
      "metadata": {
        "trusted": true,
        "id": "dypX0U-_9aJD",
        "colab_type": "code",
        "colab": {}
      },
      "source": [
        "scores = model.evaluate(X_test, y_test, verbose=1)\n",
        "print(\"Accuracy:\", scores[1]) "
      ],
      "execution_count": 0,
      "outputs": []
    },
    {
      "cell_type": "markdown",
      "metadata": {
        "id": "p9WNDnDW9aJF",
        "colab_type": "text"
      },
      "source": [
        "## Modeo con keras Tokenizer"
      ]
    },
    {
      "cell_type": "code",
      "metadata": {
        "trusted": true,
        "id": "bfqCGT7R9aJG",
        "colab_type": "code",
        "colab": {}
      },
      "source": [
        "# ESTO ES CON TOKENIZER + METODO DE LIPIEZA CREADA\n",
        "from keras.preprocessing.text import Tokenizer\n",
        "\n",
        "max_features =10000 \n",
        "tokenizer = Tokenizer(num_words=max_features) \n",
        "tokenizer.fit_on_texts(X['text_clean'])\n",
        "word_index = tokenizer.word_index\n",
        "data = tokenizer.texts_to_sequences(X['text_clean'])"
      ],
      "execution_count": 0,
      "outputs": []
    },
    {
      "cell_type": "code",
      "metadata": {
        "trusted": true,
        "id": "v1mvBlj39aJK",
        "colab_type": "code",
        "colab": {}
      },
      "source": [
        "from keras import preprocessing\n",
        "maxlen=18\n",
        "data =  preprocessing.sequence.pad_sequences(data,maxlen=maxlen)"
      ],
      "execution_count": 0,
      "outputs": []
    },
    {
      "cell_type": "code",
      "metadata": {
        "id": "2_1Fg3Uydv5a",
        "colab_type": "code",
        "colab": {}
      },
      "source": [
        ""
      ],
      "execution_count": 0,
      "outputs": []
    },
    {
      "cell_type": "code",
      "metadata": {
        "trusted": true,
        "id": "tee3abqw9aJM",
        "colab_type": "code",
        "colab": {}
      },
      "source": [
        "from keras.utils import to_categorical\n",
        "\n",
        "labels = X['target'].values\n",
        "labels_encoded = to_categorical(labels)"
      ],
      "execution_count": 0,
      "outputs": []
    },
    {
      "cell_type": "code",
      "metadata": {
        "trusted": true,
        "id": "uCFUAdoz9aJR",
        "colab_type": "code",
        "colab": {}
      },
      "source": [
        "from sklearn.model_selection import train_test_split\n",
        "X_train, X_test, y_train, y_test = train_test_split(data, labels, test_size=0.33, random_state=42)"
      ],
      "execution_count": 0,
      "outputs": []
    },
    {
      "cell_type": "code",
      "metadata": {
        "trusted": true,
        "id": "FwjfZHnQ9aJT",
        "colab_type": "code",
        "outputId": "cdbe9ee0-ba8f-4295-b7ee-ea2d79f3cd03",
        "colab": {
          "base_uri": "https://localhost:8080/",
          "height": 35
        }
      },
      "source": [
        "X_train.shape"
      ],
      "execution_count": 0,
      "outputs": [
        {
          "output_type": "execute_result",
          "data": {
            "text/plain": [
              "(5100, 18)"
            ]
          },
          "metadata": {
            "tags": []
          },
          "execution_count": 313
        }
      ]
    },
    {
      "cell_type": "code",
      "metadata": {
        "trusted": true,
        "id": "_JOpfJvf9aJW",
        "colab_type": "code",
        "outputId": "c2ee62e8-e5fb-411a-9862-316565b09e03",
        "colab": {
          "base_uri": "https://localhost:8080/",
          "height": 274
        }
      },
      "source": [
        "from tensorflow.keras.models import Sequential\n",
        "from tensorflow.keras.layers import Flatten, Dense, Embedding\n",
        "\n",
        "\n",
        "model = Sequential()\n",
        "model.add(Embedding(max_features, # max numero de tokens\n",
        "                    8, # dimensionalidad de los embeddings (HYP)\n",
        "                    input_length=maxlen))\n",
        "model.add(Flatten())\n",
        "model.add(Dense(1,activation='sigmoid')) # clasificador\n",
        "\n",
        "# compilar\n",
        "model.compile(optimizer='adam',loss='mse',metrics=['acc'])\n",
        "model.summary()"
      ],
      "execution_count": 0,
      "outputs": [
        {
          "output_type": "stream",
          "text": [
            "Model: \"sequential_1\"\n",
            "_________________________________________________________________\n",
            "Layer (type)                 Output Shape              Param #   \n",
            "=================================================================\n",
            "embedding_1 (Embedding)      (None, 18, 8)             80000     \n",
            "_________________________________________________________________\n",
            "flatten_1 (Flatten)          (None, 144)               0         \n",
            "_________________________________________________________________\n",
            "dense_1 (Dense)              (None, 1)                 145       \n",
            "=================================================================\n",
            "Total params: 80,145\n",
            "Trainable params: 80,145\n",
            "Non-trainable params: 0\n",
            "_________________________________________________________________\n"
          ],
          "name": "stdout"
        }
      ]
    },
    {
      "cell_type": "code",
      "metadata": {
        "trusted": true,
        "id": "-pWQfhzK9aJa",
        "colab_type": "code",
        "outputId": "09ad243f-8528-445a-c9e1-ec75cddfc538",
        "colab": {
          "base_uri": "https://localhost:8080/",
          "height": 384
        }
      },
      "source": [
        "history  = model.fit(X_train,y_train,epochs=10,batch_size=64,validation_split=0.2)"
      ],
      "execution_count": 0,
      "outputs": [
        {
          "output_type": "stream",
          "text": [
            "Epoch 1/10\n",
            "64/64 [==============================] - 0s 4ms/step - loss: 0.2433 - acc: 0.6223 - val_loss: 0.2365 - val_acc: 0.6520\n",
            "Epoch 2/10\n",
            "64/64 [==============================] - 0s 3ms/step - loss: 0.2231 - acc: 0.6926 - val_loss: 0.2200 - val_acc: 0.6765\n",
            "Epoch 3/10\n",
            "64/64 [==============================] - 0s 3ms/step - loss: 0.1989 - acc: 0.7444 - val_loss: 0.2042 - val_acc: 0.7020\n",
            "Epoch 4/10\n",
            "64/64 [==============================] - 0s 3ms/step - loss: 0.1726 - acc: 0.7939 - val_loss: 0.1898 - val_acc: 0.7333\n",
            "Epoch 5/10\n",
            "64/64 [==============================] - 0s 3ms/step - loss: 0.1465 - acc: 0.8355 - val_loss: 0.1789 - val_acc: 0.7598\n",
            "Epoch 6/10\n",
            "64/64 [==============================] - 0s 3ms/step - loss: 0.1235 - acc: 0.8676 - val_loss: 0.1717 - val_acc: 0.7706\n",
            "Epoch 7/10\n",
            "64/64 [==============================] - 0s 3ms/step - loss: 0.1041 - acc: 0.8951 - val_loss: 0.1675 - val_acc: 0.7725\n",
            "Epoch 8/10\n",
            "64/64 [==============================] - 0s 4ms/step - loss: 0.0883 - acc: 0.9154 - val_loss: 0.1648 - val_acc: 0.7716\n",
            "Epoch 9/10\n",
            "64/64 [==============================] - 0s 4ms/step - loss: 0.0750 - acc: 0.9360 - val_loss: 0.1637 - val_acc: 0.7775\n",
            "Epoch 10/10\n",
            "64/64 [==============================] - 0s 4ms/step - loss: 0.0644 - acc: 0.9446 - val_loss: 0.1632 - val_acc: 0.7725\n"
          ],
          "name": "stdout"
        }
      ]
    },
    {
      "cell_type": "code",
      "metadata": {
        "trusted": true,
        "id": "uvBJA65t9aJf",
        "colab_type": "code",
        "colab": {}
      },
      "source": [
        ""
      ],
      "execution_count": 0,
      "outputs": []
    }
  ]
}